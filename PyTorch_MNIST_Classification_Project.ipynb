{
  "nbformat": 4,
  "nbformat_minor": 0,
  "metadata": {
    "colab": {
      "provenance": [],
      "gpuType": "T4"
    },
    "kernelspec": {
      "name": "python3",
      "display_name": "Python 3"
    },
    "language_info": {
      "name": "python"
    },
    "accelerator": "GPU"
  },
  "cells": [
    {
      "cell_type": "markdown",
      "source": [
        "# 실제 실습 진행 : MNIST 숫자 이미지 분류 프로젝트\n",
        "\n",
        "참고 :\n",
        "1. https://wikidocs.net/195593\n",
        "2. https://chatgpt.com/share/c4dceb02-50a3-4c9c-b84a-02bf76bf327b\n",
        "\n",
        "\n",
        "\n",
        "> ### CPU, GPU, NPU 구분(복습)\n",
        "\n",
        "    CPU와 GPU는 데이터를 읽어들여 연산처리를 통해 답을 도출하는 기능을 수행하지만 둘의 구조나 역할은 매우 다르다.\n",
        "    ALU(Arithmetic Logic Unit)의 개수에 따라 연산속도가 달라지는데, 일반적으로 GPU가 훨씬 더 많은 ALU를\n",
        "    가진다.\n",
        "\n",
        "    CPU는 직렬 처리에 최적화된 몇 개의 코어로 구성된 반면, GPU는 \"병렬처리\"용으로 설계된 수천 개의 소형이고 효율적인\n",
        "    코어로 구성된다. CPU는 GPU보다 더 적은 코어를 가지지만 각각의 코어가 GPU의 소형 코어보다 더 강력한 컴퓨팅 파워를\n",
        "    지닌다. 따라서 직렬 처리에 더 적합하다.\n",
        "\n",
        "    반면 GPU는 CPU보다 코어 수는 많으나 각각의 코어가 CPU보다 더 성능이 낮기 때문에 병렬적인 작업(Parallel Task)에\n",
        "    더 강점이 있다.\n",
        "\n",
        "    결론적으로 CPU는 컴퓨터의 전반적인 작업을 처리하기에 용이하고 / GPU는 \"복잡한 연산\"을 전문적으로 처리하기에 용이하다.\n",
        "    딥러닝 수행 시 학습해야 할 파라미터들이 기하급수적으로 많으므로 방대한 계산량이 필요하다. 이때 CPU에서는 데이터를 GPU로\n",
        "    보내 연산을 진행하며, 효율적으로 작업을 수행할 수 있게 된다.\n",
        "\n",
        "    + NPU(Neural Processing Unit)는 딥러닝 네트워크를 구성하는 각 Layer를 \"실리콘 = 하드웨어적\"으로 구현한 칩셋이다.\n",
        "    따라서 NPU를 사용하는 딥러닝 모델은 GPU를 사용할 때와 같은 100퍼센트의 자유도를 가지고 네트워크를 구성할 수 없다.\n",
        "    실리콘으로 구현한 뉴런은 칩 설계 시 정해져 있고, NPU에서 구현하지 않은 뉴런이 딥러닝 네트워크에 포함되어 있다면\n",
        "    그 부분은 하드웨어 가속을 타지 못하고 CPU로 연산을 수행해야 하기 떄문에 그 만큼 NPU를 사용하는 이점이 약화될 수 있다.\n",
        "\n",
        "    ++ 그럼에도 GPU의 가격은 매우 비싸기 때문에 + 전력 소모가 매우 크기 떄문에 + 휴대불가능하기 떄문에 초소형으로 제작가능한\n",
        "    NPU들이 개발된 것이다. 예를 들어 애플의 A16 칩셋의 Neural Engine이 NPU에 해당한다. 딥러닝 추론은 NPU를 탑재한 말단\n",
        "    장비에서 이뤄지고, NPU를 통해 구동하고자 하는 딥러닝 모델은 GPU를 탑재한 대형 서버에서 학습하는 것이 좋다.\n",
        "\n",
        "    +++ TPU(Tensor. 런타임 유형 변경에 포함되어 있음)는 구글에서 제작한 NPU의 이름이다. 독자적인 아키텍처로 구성되어 있어\n",
        "    NPU보다 빠른 병렬처리가 가능하다.\n"
      ],
      "metadata": {
        "id": "qLKEQBSa39Qy"
      }
    },
    {
      "cell_type": "code",
      "source": [
        "import torch\n",
        "torch.cuda.is_available() # GPU를 사용하고 있는지 확인 가능(런타임 유형 변경 -> T4 GPU)"
      ],
      "metadata": {
        "id": "FoXMNd70uorj",
        "colab": {
          "base_uri": "https://localhost:8080/"
        },
        "outputId": "c7e4de40-6c00-4b2f-a410-94cfdd8cb5cf"
      },
      "execution_count": 1,
      "outputs": [
        {
          "output_type": "execute_result",
          "data": {
            "text/plain": [
              "True"
            ]
          },
          "metadata": {},
          "execution_count": 1
        }
      ]
    },
    {
      "cell_type": "markdown",
      "source": [
        "### 기본적으로 MNIST 데이터셋은 28 x 28 크기의 이미지 60,000의 학습 세트와 10,000개의 테스트 세트로 구성되어 있다.\n",
        "\n",
        "- 손으로 쓴 숫자를 인식하는 이미지 분류 문제를 해결하는 데 사용된다.\n",
        "\n",
        "- MNIST 데이터셋은 머신러닝 및 딥러닝 분야에서 알고리즘의 정확도와 성능을 측정하는 데 자주 사용된다.\n",
        "\n"
      ],
      "metadata": {
        "id": "UzwKBa_LGa8D"
      }
    },
    {
      "cell_type": "markdown",
      "source": [
        "## I. 기본 세팅"
      ],
      "metadata": {
        "id": "IgsKYiH1WOXh"
      }
    },
    {
      "cell_type": "code",
      "source": [
        "# Colab에 저장되어 있는 학습 세트 19,999개와 테스트 세트 9,999개의 MNIST 이미지 데이터 사용\n",
        "import torch\n",
        "import numpy as np\n",
        "import pandas as pd\n",
        "\n",
        "import matplotlib.pyplot as plt\n",
        "import seaborn as sns # pyplot 라이브러리를 기반으로 한 데이터 시각화 라이브러리이다. 다양한 시각화 기능을 지원한다.\n",
        "\n",
        "import glob # 디렉토리 내 파일들의 리스트 추출 시 사용\n",
        "import IPython.display as ipd # IPython 커널에서 사용되는 display 함수를 제공한다. 이미지/오디오/비디오 표시 시 유용하다.\n",
        "\n",
        "glob.glob('./**/*mnist*.*')"
      ],
      "metadata": {
        "colab": {
          "base_uri": "https://localhost:8080/"
        },
        "id": "vw6UXB1L7TB3",
        "outputId": "6c35aeff-17b3-4bfc-a643-c0b979ec7a38"
      },
      "execution_count": 2,
      "outputs": [
        {
          "output_type": "execute_result",
          "data": {
            "text/plain": [
              "['./sample_data/mnist_train_small.csv', './sample_data/mnist_test.csv']"
            ]
          },
          "metadata": {},
          "execution_count": 2
        }
      ]
    },
    {
      "cell_type": "code",
      "source": [
        "df = pd.read_csv('./sample_data/mnist_train_small.csv')\n",
        "df_test = pd.read_csv('./sample_data/mnist_test.csv')\n",
        "\n",
        "print(\"train data size :\", df.shape, \", test data size :\", df_test.shape)"
      ],
      "metadata": {
        "colab": {
          "base_uri": "https://localhost:8080/"
        },
        "id": "J_7NIGeEITPC",
        "outputId": "11901a19-5468-4f0a-f6bd-b5fbe2f4aeb6"
      },
      "execution_count": 3,
      "outputs": [
        {
          "output_type": "stream",
          "name": "stdout",
          "text": [
            "train data size : (19999, 785) , test data size : (9999, 785)\n"
          ]
        }
      ]
    },
    {
      "cell_type": "markdown",
      "source": [
        "> - 785 : 28 x 28 픽셀 크기의 이미지를 1차원 배열로 펼친 784개의 숫자(features)와 해당 이미지가 나타내는 숫자(label : 0 ~ 9)로 구성됨.\n",
        "\n",
        "### I-1. Pandas dataframe(df)에서 첫 10 -> 20개의 이미지 및 레이블을 추출하여 imshow() 메소드를 활용하는 사용자 정의 함수 imshowZerotoNine 함수를 호출하여 이미지를 시각화함."
      ],
      "metadata": {
        "id": "4dHDmPHLJEOI"
      }
    },
    {
      "cell_type": "code",
      "source": [
        "def imshowZerotoNine(imgs, labels):\n",
        "    fig, axs = plt.subplots(1, 20, figsize = (20, 1)) # 10 -> 20으로 변경\n",
        "\n",
        "    for i, ax in enumerate(axs.flat):\n",
        "        ax.imshow(imgs.reshape(-1, 28, 28, 1)[i])\n",
        "        ax.set_title(f\"{labels[i]}\")\n",
        "        ax.set_xticks([])\n",
        "        ax.set_yticks([])\n",
        "\n",
        "def main():\n",
        "    data = df.iloc[:20, 1:].to_numpy() # 첫 10 -> 20개 행의 첫 번째 열(label을 제외함)에서 끝 열까지의 데이터를 numpy array로 추출함.\n",
        "    labels = df.iloc[:20, 0].to_numpy()\n",
        "    imgs = data.reshape(-1, 28, 28, 1) # data 배열을 28 x 28 size의 이미지로 리턴하기 위해 reshape 함수를 이용한다.\n",
        "    imshowZerotoNine(imgs, labels) # 변환된 이미지와 레이블을 기 정의한 함수에 인자로 전달, 이미지를 시각화한다.\n",
        "\n",
        "if __name__ == \"__main__\":\n",
        "    main()"
      ],
      "metadata": {
        "colab": {
          "base_uri": "https://localhost:8080/",
          "height": 119
        },
        "id": "PKbCXhJ7IsB3",
        "outputId": "454ab423-7133-459c-8b50-d583227f62b7"
      },
      "execution_count": 4,
      "outputs": [
        {
          "output_type": "display_data",
          "data": {
            "text/plain": [
              "<Figure size 2000x100 with 20 Axes>"
            ],
            "image/png": "[encoded data removed]"
          },
          "metadata": {}
        }
      ]
    },
    {
      "cell_type": "markdown",
      "source": [
        "## II. Dataset과 DataLoader 만들기\n",
        "\n"
      ],
      "metadata": {
        "id": "2lXqHXPoL56R"
      }
    },
    {
      "cell_type": "code",
      "source": [
        "from torch.utils.data import Dataset, DataLoader, Subset\n",
        "import torchvision.transforms as T\n",
        "\n",
        "\"\"\"\n",
        "\n",
        "    - 클래스 생성자에서는 데이터프레임을 입력으로 받아 self.df 변수에 저장\n",
        "    - 입력으로 받은 인덱스 idx에 해당하는 이미지와 레이블을 추출하여 리턴. idx에 해당하는 행에서 첫 번째 열인 Label을 제외한 데이터를 추출한 후,\n",
        "    28 x 28 크기의 이미지로 reshape(), 0 ~ 1 범위의 float 값으로 변환(픽셀 수치는 0(흑)~255(백)이며 이를 / 255.0) 후 PyTorch Tensor로 변환.\n",
        "    - 첫 번째 열인 Label 데이터를 tensor로 변환\n",
        "    - __len__에서는 전체 데이터의 길이를 리턴\n",
        "\n",
        "\"\"\"\n",
        "\n",
        "class CustomDataset(Dataset):\n",
        "    def __init__(self, df): # 데이터프레임 받아 저장\n",
        "        self.df = df\n",
        "\n",
        "    def __getitem__(self, idx): # 주어진 인덱스에 해당하는 샘플(이미지, 레이블) 리턴\n",
        "        try:\n",
        "            img = self.df.iloc[idx, 1:].to_numpy().reshape(1, 28, 28)\n",
        "            img = torch.tensor(img / 255.0, dtype = torch.float)\n",
        "\n",
        "            label = torch.tensor(self.df.iloc[idx, 0])\n",
        "\n",
        "            return img, label\n",
        "\n",
        "        except Exception as e:\n",
        "            print(\"error! :\", e)\n",
        "            img = self.df.iloc[0, 1:].to_numpy().reshape(1, 28, 28)\n",
        "            img = torch.tensor(img / 255.0, dtype = torch.float)\n",
        "\n",
        "            label = torch.tensor(self.df.iloc[0, 0])\n",
        "\n",
        "            return img, label\n",
        "\n",
        "    def __len__(self): # 데이터프레임 길이 리턴\n",
        "        return len(self.df)"
      ],
      "metadata": {
        "id": "jt9VoGbcK4Vz"
      },
      "execution_count": 5,
      "outputs": []
    },
    {
      "cell_type": "code",
      "source": [
        "# 커스텀 데이터셋은 PyTorch의 DataLoader와 함께 사용하여 데이터를 배치 단위로 불러올 수 있다.\n",
        "\n",
        "n_batch = 128 # batch size\n",
        "\n",
        "train_ds = CustomDataset(df)\n",
        "train_dl = DataLoader(train_ds, batch_size = n_batch, shuffle = True, num_workers = 2) # shuffle : 데이터를 섞을지 여부. / num_workers : 멀티프로세싱을 위한 프로세스 개수(2 or 4 사용)\n",
        "\n",
        "test_ds = CustomDataset(df_test)\n",
        "test_dl = DataLoader(test_ds, batch_size = n_batch, shuffle = False, num_workers = 2)\n",
        "\n",
        "imgs, labels = next(iter(train_dl)) # \"next(iter(...))\" 사용 시, 첫 번째 batch의 데이터를 불러올 수 있다.\n",
        "print(imgs.shape, labels.shape) # imgs.shape : (batch size, 채널 수, 높이, 너비)"
      ],
      "metadata": {
        "colab": {
          "base_uri": "https://localhost:8080/"
        },
        "id": "aCfzPJDcOsJX",
        "outputId": "ce5b4645-e3df-40e5-b034-1106cacf2514"
      },
      "execution_count": 6,
      "outputs": [
        {
          "output_type": "stream",
          "name": "stdout",
          "text": [
            "torch.Size([128, 1, 28, 28]) torch.Size([128])\n"
          ]
        }
      ]
    },
    {
      "cell_type": "markdown",
      "source": [
        "## III. 모델 정의"
      ],
      "metadata": {
        "id": "Co7dRx8zQr2l"
      }
    },
    {
      "cell_type": "code",
      "source": [
        "import torch.nn as nn\n",
        "\n",
        "def calculateInputDim():\n",
        "    imgs, labels = next(iter(train_dl)) # \"next(iter(...))\" 사용 시, 첫 번째 batch의 데이터를 불러올 수 있다.\n",
        "    m = nn.Sequential(\n",
        "        nn.Conv2d(1, 32, 3),\n",
        "        nn.MaxPool2d(2),\n",
        "        nn.Flatten(),\n",
        "        # nn.Linear(?, 10). ?를 구하기 위한 함수\n",
        "    )\n",
        "\n",
        "    out = m(imgs)\n",
        "    print(out.shape) # torch.Size([128 == batch_size, 5408 == num_features : 컨볼루션, 맥스풀링 레이어를 거쳐 평탄화(1차원 벡터)된 차원의 개수. == 마지막 레이어 입력 차원])\n",
        "\n",
        "\n",
        "class Classifier(nn.Module): # CNN(Conv2d) 레이어 1개, MaxPooling(MaxPool2d) 레이어 1개, Flatten(2D -> 1D 텐서로 변환), FC 레이어 1개 정의\n",
        "    def __init__(self):\n",
        "        super(Classifier, self).__init__()\n",
        "\n",
        "        self.model = nn.Sequential(\n",
        "            nn.Conv2d(1, 32, 3),\n",
        "            nn.MaxPool2d(2), # 윈도우 크기(정사각행렬) 2 x 2 이용한 MaxPooling 수행하는 레이어 1개 정의\n",
        "\n",
        "            nn.Flatten(),\n",
        "\n",
        "            # 입력 차원 5408, 출력 차원 10(Softmax 처리로 숫자 '0' ~ '9' 분류를 위함) 입력 차원 수치를 정확하게 구해야 한다.(상기 함수와 같은 방법을 이용함)`\n",
        "            nn.Linear(5408, 10)\n",
        "        )\n",
        "\n",
        "    def forward(self, x):\n",
        "        x = self.model(x)\n",
        "        return x\n",
        "\n",
        "# main\n",
        "device = 'cuda' if torch.cuda.is_available() else 'cpu'\n",
        "\n",
        "calculateInputDim()\n",
        "\n",
        "clf = Classifier() # 모델 인스턴스화\n",
        "clf = clf.to(device)\n",
        "loss_fn = nn.CrossEntropyLoss() # 분류 문제이므로 일반적으로 교차 엔트로피 사용\n",
        "loss_fn = loss_fn.to(device)\n",
        "\n",
        "optim = torch.optim.Adam(clf.parameters(), lr = 0.001) # Optimizer로 보편적인 Adam을 사용"
      ],
      "metadata": {
        "colab": {
          "base_uri": "https://localhost:8080/"
        },
        "id": "umJl2dhzO4Mr",
        "outputId": "13556355-eb42-4e75-dc49-9c05ab3f2b87"
      },
      "execution_count": 7,
      "outputs": [
        {
          "output_type": "stream",
          "name": "stdout",
          "text": [
            "torch.Size([128, 5408])\n"
          ]
        }
      ]
    },
    {
      "cell_type": "markdown",
      "source": [
        "## IV. 학습(Train) / 평가(Test)에 필요한 루틴 메소드화(main 영역 없음)"
      ],
      "metadata": {
        "id": "v51D1KKuWCAM"
      }
    },
    {
      "cell_type": "code",
      "source": [
        "\"\"\"\n",
        "\n",
        "    pred : prediction(예측). 모델의 예측값과 정답 레이블을 비교하여 모델 정확도를 계산하는 함수\n",
        "\n",
        "    예측 값과 정답 레이블 비교를 위해 torch.eq() 메소드를 사용하고, 이를 통해 일치하는 개수를 구한다.\n",
        "\n",
        "    이후 sum() 메소드로 일치하는 예측값의 개수를 구하고, Tensor의 item() 메소드를 이용하여 스칼라 값(정수)로 변환한다.\n",
        "\n",
        "    (정확하게 예측한 샘플 개수) / (전체 샘플 수) = accuracy!\n",
        "\n",
        "\"\"\"\n",
        "def acc_fn(y_pred, y_true):\n",
        "    accuracy = torch.eq(y_pred, y_true).sum().item() / len(y_pred)\n",
        "    return accuracy\n",
        "\n",
        "\"\"\"\n",
        "\n",
        "    train_dl(기 선언된 변수) DataLoader에 대하여, 각 batch 마다 모델의 \"순전파 연산을 수행하여 예측값\"을 구하고,\n",
        "    이를 기반으로 loss를 계산하고, backpropagation 수행하여 파라미터를 업데이트하는 과정을 거치며 모델을 학습한다.\n",
        "\n",
        "    마지막에는 학습 데이터의 전체 batch에 대한 average loss / accuracy를 리턴한다.\n",
        "\n",
        "\"\"\"\n",
        "def train_fn(model, dl, optim, loss_fn, acc_fn):\n",
        "    t_loss, t_acc = 0, 0 # loss 및 accuracy initialization\n",
        "\n",
        "    model.train() # 학습 모드로 설정\n",
        "\n",
        "    for batch, (x, y) in enumerate(dl):\n",
        "        x, y = x.to(device), y.to(device) # cuda(GPU) or CPU\n",
        "\n",
        "        y_logits = model(x).to(device)\n",
        "        y_preds = torch.softmax(y_logits, dim = 1).argmax(dim = 1).to(device)\n",
        "\n",
        "        loss = loss_fn(y_logits, y) # loss function 적용\n",
        "\n",
        "        acc = acc_fn(y_preds, y) # accuracy 값 담는 변수\n",
        "\n",
        "        optim.zero_grad() # Optimizer의 Gradient를 0으로 초기화\n",
        "        loss.backward() # Backwardpropagation으로 W, B 학습(loss 최소화)\n",
        "        optim.step()\n",
        "\n",
        "        t_loss += t_loss\n",
        "        t_acc += acc\n",
        "\n",
        "    t_loss /= len(dl) # \"평균\" 손실을 위해 나눗셈 연산 수행\n",
        "    t_acc /= len(dl) # \"평균\" 정확도를 위함\n",
        "\n",
        "    return (t_loss, t_acc)\n",
        "\n",
        "\"\"\"\n",
        "\n",
        "    모델을 평가하는 데 사용할 메소드. 각 batch에 대해 모델을 평가하고,\n",
        "    마지막에는 평가 데이터의 전체 batch에 대한 average loss/accuracy를 리턴한다.\n",
        "\n",
        "\"\"\"\n",
        "def eval_fn(model, dl, loss_fn, acc_fn):\n",
        "    e_loss, e_acc = 0, 0\n",
        "    with torch.inference_mode(): # 추론모드 진입\n",
        "        for batch, (x, y) in enumerate(dl):\n",
        "            x, y = x.to(device), y.to(device)\n",
        "\n",
        "            y_logits = model(x).to(device)\n",
        "            y_preds = torch.softmax(y_logits, dim = 1).argmax(dim = 1).to(device)\n",
        "\n",
        "            loss = loss_fn(y_logits, y)\n",
        "            acc = acc_fn(y_preds, y)\n",
        "\n",
        "            # - - - 추론 모드에서는 하기 동작을 수행하지 않음에 유의 - - -\n",
        "            # optim.zero_grad() # Optimizer의 Gradient를 0으로 초기화\n",
        "            # loss.backward() # Backwardpropagation으로 W, B 학습(loss 최소화)\n",
        "            # optim.step()\n",
        "            # - - - - - - - - - - - - - - - - - - - - - - - - -\n",
        "\n",
        "            e_loss += loss.item()\n",
        "            e_acc += acc\n",
        "\n",
        "        e_loss /= len(dl)\n",
        "        e_acc /= len(dl)\n",
        "\n",
        "    return e_loss, e_acc"
      ],
      "metadata": {
        "id": "MGWJe2SfSJDL"
      },
      "execution_count": 8,
      "outputs": []
    },
    {
      "cell_type": "markdown",
      "source": [
        "## V. K-Fold Cross Validation을 이용한 Training 진행\n",
        "\n",
        "-> K = 5. 5-Fold 교차 검증을 수행한다. <br> KFold 객체를 사용하여 데이터셋을 5개의 fold로 나눈 후, KFold()로 나눠진 인덱스를 참조하여 train_ds와 val_ds를 각각 Subset() 메소드를 사용하여 생성하고 <br> DataLoader를 이용하여 mini-batch를 추출한다.\n",
        "\n",
        "<br>\n",
        "\n",
        "이후 100개의 Epoch 동안 학습을 진행하며, 학습 데이터로 학습 수행 후, 검증 데이터로 평가를 진행한다. 검증 데이터의 평균 loss, accuracy를 기록하고, 검증 손실이 이전까지의 최소 손실보다 작을 때마다 모델 파라미터를 저장한다.(best model 추출) <br> 검증 손실이 7 에포크 이상 연속해서 감소하지 않으면 학습을 조기 종료한다. <br><br>\n",
        "\n",
        "> - lr_s.step(val_l) : ReduceLROnPlateau 기법 사용. 학습률 조절 기능을 호출한다. val_l 값이 이전에 저장한 값보다 개선되지 않은 횟수가 일정 횟수를 초과할 때마다 학습률을 감소시키는 기능을 수행한다. 따라서 val_l 값이 개선되지 않는 경우 학습률이 감소되면서 더 작은 step으로 모델을 학습할 수 있어 학습 성능 향상을 추구한다."
      ],
      "metadata": {
        "id": "mEkgujqnePr_"
      }
    },
    {
      "cell_type": "code",
      "source": [
        "from sklearn.model_selection import KFold\n",
        "from torch.optim.lr_scheduler import ReduceLROnPlateau\n",
        "\n",
        "lr_s = ReduceLROnPlateau(optim, mode = 'min', patience = 4, factor = 0.2)\n",
        "\n",
        "kfold = KFold(n_splits = 5, shuffle = True, random_state = 42) # n_splits == K 의미\n",
        "trn_loss, trn_acc = [], [] # K개만큼 담아야 하므로 empty list로 초기화, 각 fold마다의 loss 하나씩 저장\n",
        "val_loss, val_acc = [], [] # 마찬가지\n",
        "\n",
        "for i, (trn_idx, val_idx) in enumerate(kfold.split(train_ds)): # Inner for loop (# of iteration : K)\n",
        "    print(f\"Fold {i}\")\n",
        "    min_val_loss = 2\n",
        "    n_partience = 0\n",
        "\n",
        "    trn_ds = Subset(train_ds, trn_idx) # Subset : Dataset을 list를 통해 indexing하기 위해 사용됨 (전체 데이터셋, 추려낼 데이터의 인덱스)\n",
        "    val_ds = Subset(train_ds, val_idx)\n",
        "    trn_dl = DataLoader(trn_ds, batch_size = n_batch, shuffle = True) # II에서 정의 : n_batch = 128\n",
        "    val_dl = DataLoader(val_ds, batch_size = n_batch, shuffle = False)\n",
        "\n",
        "    for epoch in range(100): # 100번의 epoch 설정\n",
        "        trn_l, trn_a = train_fn(clf, trn_dl, optim, loss_fn, acc_fn) # III에서 정의 : clf는 Classifier 모델.\n",
        "        val_l, val_a = eval_fn(clf, val_dl, loss_fn, acc_fn) # validation으로 inference 진행\n",
        "\n",
        "        if np.round(min_val_loss, 5) > np.round(val_l, 5):\n",
        "            min_val_loss = val_l\n",
        "            n_patience = 0 # 이전보다 loss가 작아진 모델을 발견한 것이므로, patience 값을 0으로 초기화\n",
        "\n",
        "            print(f'epoch {epoch}: Save the best params with val_loss:{val_l:.4f}, val_acc:{val_a:.4f}')\n",
        "            torch.save(clf.state_dict(), f'./best_w_{i}.pth')\n",
        "\n",
        "        else:\n",
        "            n_patience += 1\n",
        "\n",
        "        lr_s.step(val_l)\n",
        "        if n_patience > 7:\n",
        "            print(f\"Early Stopping at epoch '{epoch}'\")\n",
        "            break # 해당 epoch에서 학습을 마치고 for loop을 탈출함(Early Stopping 발생)\n",
        "\n",
        "    trn_loss.append(trn_l)\n",
        "    trn_acc.append(trn_a)\n",
        "    val_loss.append(val_l)\n",
        "    val_acc.append(val_a)\n",
        "\n",
        "    print(f\"\\t Train loss {np.mean(trn_loss):.4f} | acc {np.mean(trn_acc):.4f}\")\n",
        "    print(f\"\\t Valid loss {np.mean(val_loss):.4f} | acc {np.mean(val_acc):.4f}\")\n"
      ],
      "metadata": {
        "colab": {
          "base_uri": "https://localhost:8080/"
        },
        "id": "o6jAb5RpeH6U",
        "outputId": "5427526f-d006-4a66-e7ee-348a08eec29c"
      },
      "execution_count": 9,
      "outputs": [
        {
          "output_type": "stream",
          "name": "stdout",
          "text": [
            "Fold 0\n",
            "epoch 0: Save the best params with val_loss:0.3502, val_acc:0.8923\n",
            "epoch 1: Save the best params with val_loss:0.2738, val_acc:0.9229\n",
            "epoch 2: Save the best params with val_loss:0.2704, val_acc:0.9214\n",
            "epoch 3: Save the best params with val_loss:0.2258, val_acc:0.9343\n",
            "epoch 4: Save the best params with val_loss:0.2091, val_acc:0.9446\n",
            "epoch 5: Save the best params with val_loss:0.1858, val_acc:0.9490\n",
            "epoch 6: Save the best params with val_loss:0.1742, val_acc:0.9468\n",
            "epoch 7: Save the best params with val_loss:0.1573, val_acc:0.9568\n",
            "epoch 8: Save the best params with val_loss:0.1493, val_acc:0.9565\n",
            "epoch 9: Save the best params with val_loss:0.1459, val_acc:0.9565\n",
            "epoch 10: Save the best params with val_loss:0.1308, val_acc:0.9604\n",
            "epoch 12: Save the best params with val_loss:0.1271, val_acc:0.9639\n",
            "epoch 13: Save the best params with val_loss:0.1198, val_acc:0.9644\n",
            "epoch 14: Save the best params with val_loss:0.1191, val_acc:0.9641\n",
            "epoch 15: Save the best params with val_loss:0.1181, val_acc:0.9646\n",
            "epoch 17: Save the best params with val_loss:0.1144, val_acc:0.9663\n",
            "epoch 23: Save the best params with val_loss:0.1097, val_acc:0.9666\n",
            "Early Stopping at epoch '31'\n",
            "\t Train loss 0.0000 | acc 0.9990\n",
            "\t Valid loss 0.1116 | acc 0.9661\n",
            "Fold 1\n",
            "epoch 0: Save the best params with val_loss:0.0151, val_acc:0.9985\n",
            "Early Stopping at epoch '8'\n",
            "\t Train loss 0.0000 | acc 0.9965\n",
            "\t Valid loss 0.0646 | acc 0.9818\n",
            "Fold 2\n",
            "epoch 0: Save the best params with val_loss:0.0127, val_acc:0.9998\n",
            "Early Stopping at epoch '8'\n",
            "\t Train loss 0.0000 | acc 0.9957\n",
            "\t Valid loss 0.0474 | acc 0.9877\n",
            "Fold 3\n",
            "epoch 0: Save the best params with val_loss:0.0153, val_acc:0.9978\n",
            "Early Stopping at epoch '8'\n",
            "\t Train loss 0.0000 | acc 0.9954\n",
            "\t Valid loss 0.0394 | acc 0.9902\n",
            "Fold 4\n",
            "epoch 0: Save the best params with val_loss:0.0144, val_acc:0.9995\n",
            "Early Stopping at epoch '8'\n",
            "\t Train loss 0.0000 | acc 0.9951\n",
            "\t Valid loss 0.0344 | acc 0.9921\n"
          ]
        }
      ]
    },
    {
      "cell_type": "markdown",
      "source": [
        "> 240711 실행결과 : Training 5분 33초 소요\n",
        "\n",
        "    Fold 0\n",
        "    epoch 0: Save the best params with val_loss:0.3247, val_acc:0.9060\n",
        "    epoch 1: Save the best params with val_loss:0.2800, val_acc:0.9192\n",
        "    epoch 2: Save the best params with val_loss:0.2533, val_acc:0.9270\n",
        "    epoch 3: Save the best params with val_loss:0.2182, val_acc:0.9387\n",
        "    epoch 4: Save the best params with val_loss:0.1990, val_acc:0.9468\n",
        "    epoch 5: Save the best params with val_loss:0.1811, val_acc:0.9500\n",
        "    epoch 7: Save the best params with val_loss:0.1599, val_acc:0.9514\n",
        "    epoch 8: Save the best params with val_loss:0.1526, val_acc:0.9548\n",
        "    epoch 10: Save the best params with val_loss:0.1376, val_acc:0.9583\n",
        "    epoch 12: Save the best params with val_loss:0.1358, val_acc:0.9578\n",
        "    epoch 13: Save the best params with val_loss:0.1277, val_acc:0.9634\n",
        "    epoch 15: Save the best params with val_loss:0.1275, val_acc:0.9622\n",
        "    epoch 17: Save the best params with val_loss:0.1226, val_acc:0.9624\n",
        "    epoch 19: Save the best params with val_loss:0.1196, val_acc:0.9629\n",
        "    epoch 21: Save the best params with val_loss:0.1195, val_acc:0.9624\n",
        "    epoch 22: Save the best params with val_loss:0.1189, val_acc:0.9629\n",
        "    epoch 26: Save the best params with val_loss:0.1163, val_acc:0.9668\n",
        "    Early Stopping at epoch '34'\n",
        "        Train loss 0.0000 | acc 0.9999\n",
        "        Valid loss 0.1223 | acc 0.9668\n",
        "    Fold 1\n",
        "    epoch 0: Save the best params with val_loss:0.0097, val_acc:0.9998\n",
        "    Early Stopping at epoch '8'\n",
        "        Train loss 0.0000 | acc 0.9989\n",
        "        Valid loss 0.0678 | acc 0.9823\n",
        "    Fold 2\n",
        "    epoch 0: Save the best params with val_loss:0.0072, val_acc:1.0000\n",
        "    Early Stopping at epoch '8'\n",
        "        Train loss 0.0000 | acc 0.9986\n",
        "        Valid loss 0.0479 | acc 0.9882\n",
        "    Fold 3\n",
        "    epoch 0: Save the best params with val_loss:0.0073, val_acc:1.0000\n",
        "    Early Stopping at epoch '8'\n",
        "        Train loss 0.0000 | acc 0.9985\n",
        "        Valid loss 0.0378 | acc 0.9911\n",
        "    Fold 4\n",
        "    epoch 0: Save the best params with val_loss:0.0073, val_acc:1.0000\n",
        "    Early Stopping at epoch '8'\n",
        "        Train loss 0.0000 | acc 0.9984\n",
        "        Valid loss 0.0317 | acc 0.9929"
      ],
      "metadata": {
        "id": "8vnKkGjPenWi"
      }
    },
    {
      "cell_type": "markdown",
      "source": [
        "## 의문사항 QnA(ChatGPT 및 웹페이지 참조)\n",
        "\n",
        "**Q1.** Training DataLoader에서는 shuffle = True / Validation DataLoader에서는 shuffle = False로 설정하는 이유가 무엇인가?\n",
        "\n",
        "**A1.**\n",
        "\n",
        "**Training DataLoader에서 shuffle 옵션을 True로 설정하는 이유**\n",
        "\n",
        "> 1. 모델 일반화 능력 향상 : 데이터를 섞으면 각 batch가 데이터 분포의 다양한 측면을 포함하게 되어, 모델이 특정 순서에 의존하지 않고 일반화된 패턴을 학습할 수 있다. \"데이터가 섞이지 않으면\" 모델이 순서에 의존하거나 순차적인 패턴을 학습하게 될 위험이 존재한다.\n",
        "\n",
        "> 2. 데이터의 편향 방지 : 데이터가 특정 순서대로 정렬되어 있다면 초기 몇몇의 batch가 특정 클래스의 데이터로만 구성될 수 있다. 이는 모델이 학습 초기에 특정 클래스에 대해 편향된 학습을 하게 만들 수 있다. 데이터를 셔플하면 이러한 위험을 줄이고, 모든 클래스에 대해 고르게 학습할 수 있도록 돕는다.\n",
        "\n",
        "> 3. GD의 안정성 : 데이터를 섞어 batch를 구성하면, mini-batch Gradient Descent의 각 스텝이 독립적으로 작용, 보다 안정적인 학습이 가능해진다. 이는 더 나은 수렴과 일반화를 이끌어낸다.\n",
        "\n",
        "<br>\n",
        "\n",
        "**Validation DataLoader에서 shuffle 옵션을 False로 설정하는 이유**\n",
        "\n",
        "> 1. 일관된 평가 : 검증 데이터는 \"모델의 성능을 평가\"하는 용도로 사용되므로, 각 에포크에서의 일관된 평가를 위해 데이터를 동일한 순서로 제공하는 것이 중요하다. 데이터 순서가 동일해야 성능 변화를 정확하게 추적가능하다.\n",
        "\n",
        "> 2. 디버깅 용이성 : 검증 데이터의 순서가 일정하면 특정 입력에 대한 모델의 출력을 쉽게 추적/분석할 수 있다. 모델의 예측 오류를 분석하거나, 특정 입력에 대한 모델의 반응을 이해하는 데 도움이 된다.\n",
        "\n",
        "<br><br>\n",
        "\n",
        "**Q2.** min_val_loss를 2로 초기화한 이유는 무엇인가?\n",
        "\n",
        "**A2.** 일반적으로 초기 학습 단계에서는 모델이 아직 최적화되지 않았기 때문에 loss 값이 높다. 따라서 min_val_loss를 비교적 높은 값으로 초기화하는 것은 모델이 첫 번째 에포크에서 개선될 가능성을 염두에 두고, 모델의 손실 값을 처음부터 저장할 수 있도록 한다. min_val_loss를 2와 같은 값으로 초기화하는 것은 매우 보편적이며 타당하다. 2는 대부분의 초기 검증 손실 값보다 높을 것이다."
      ],
      "metadata": {
        "id": "tX5vyUrefYN2"
      }
    },
    {
      "cell_type": "markdown",
      "source": [
        "## VI. 모델 성능 평가\n",
        "\n",
        "> 각 Fold에서 저장된 모델 가중치(Weight 값)를 불러와서, test 데이터셋을 이용하여 모델의 성능을 평가한다."
      ],
      "metadata": {
        "id": "4_vLR6BGjSq8"
      }
    },
    {
      "cell_type": "code",
      "source": [
        "test_loss, test_acc = [], []\n",
        "\n",
        "for i in range(5):\n",
        "    clf.load_state_dict(torch.load(f'best_w_{i}.pth'))\n",
        "\n",
        "    loss, acc = eval_fn(clf, test_dl, loss_fn, acc_fn)\n",
        "\n",
        "    test_loss.append(loss)\n",
        "    test_acc.append(acc)\n",
        "\n",
        "print(f\"Average(평균) : loss {np.mean(test_loss):.4f} | acc {np.mean(test_acc):.4f}\") # loss, acc의 평균\n",
        "print(f\"Variance(분산) : loss {np.var(test_loss):.4f} | acc {np.var(test_acc):.4f}\") # loss, acc의 분산"
      ],
      "metadata": {
        "colab": {
          "base_uri": "https://localhost:8080/"
        },
        "id": "e0ws6bD6g8T5",
        "outputId": "732b619b-778f-4371-a385-c75217e3f9f6"
      },
      "execution_count": 10,
      "outputs": [
        {
          "output_type": "stream",
          "name": "stdout",
          "text": [
            "Average(평균) : loss 0.0953 | acc 0.9718\n",
            "Variance(분산) : loss 0.0000 | acc 0.0000\n"
          ]
        }
      ]
    },
    {
      "cell_type": "markdown",
      "source": [
        "> 개인 추가 실습 : 하기 코드는 5개의 사전 훈련된 모델을 로드하여 MNIST 테스트 이미지를 예측하고 시각화하여 실제 레이블과 모델의 예측을 모두 표시한다."
      ],
      "metadata": {
        "id": "lZ-H-crJtVxD"
      }
    },
    {
      "cell_type": "code",
      "source": [
        "# modified imshowZerotoNine method\n",
        "def imshowZerotoNine_modified(imgs, labels, predicted_labels=None):\n",
        "    fig, axs = plt.subplots(1, len(imgs), figsize=(50, 5))\n",
        "    for i, ax in enumerate(axs.flat):\n",
        "        ax.imshow(imgs[i].reshape(28, 28), cmap='gray')\n",
        "        title = f\"Label(Answer): {labels[i]}\"\n",
        "        if predicted_labels is not None:\n",
        "            title += f\"\\nModel's Prediction: {predicted_labels[i]}\"\n",
        "        ax.set_title(title)\n",
        "        ax.set_xticks([])\n",
        "        ax.set_yticks([])\n",
        "\n",
        "# Function to load models\n",
        "def load_models(device):\n",
        "    models = []\n",
        "\n",
        "    for fold in range(5):\n",
        "        model = Classifier()\n",
        "        model.load_state_dict(torch.load(f'best_w_{fold}.pth', map_location = device))\n",
        "        model.to(device)\n",
        "        model.eval() # 평가 모드 전환\n",
        "        models.append(model)\n",
        "\n",
        "    return models\n",
        "\n",
        "# Load Test Data\n",
        "df_test = pd.read_csv('./sample_data/mnist_test.csv')\n",
        "test_dataset = CustomDataset(df_test)\n",
        "test_loader = DataLoader(test_dataset, batch_size = 20, shuffle = False)\n",
        "\n",
        "# Load trained models\n",
        "models = load_models(device)\n",
        "\n",
        "# Perform predictions and visualize results\n",
        "with torch.no_grad():\n",
        "    for imgs, labels in test_loader:\n",
        "        imgs = imgs.to(device)\n",
        "        labels = labels.numpy()\n",
        "        predictions = np.zeros((imgs.size(0), 10))\n",
        "\n",
        "        for model in models:\n",
        "            outputs = model(imgs)\n",
        "            predictions += outputs.cpu().numpy()\n",
        "\n",
        "        predicted_labels = np.argmax(predictions, axis=1)\n",
        "        imshowZerotoNine_modified(imgs.cpu().numpy(), labels, predicted_labels)\n",
        "        plt.show()\n",
        "        break  # Remove this line if anyone want to process the entire test set"
      ],
      "metadata": {
        "id": "_fX41TCFlCN0",
        "colab": {
          "base_uri": "https://localhost:8080/",
          "height": 103
        },
        "outputId": "929a30b9-1d04-444e-b796-eee8b51fe192"
      },
      "execution_count": 11,
      "outputs": [
        {
          "output_type": "display_data",
          "data": {
            "text/plain": [
              "<Figure size 5000x500 with 20 Axes>"
            ],
            "image/png": "[encoded data removed]"
          },
          "metadata": {}
        }
      ]
    }
  ]
}