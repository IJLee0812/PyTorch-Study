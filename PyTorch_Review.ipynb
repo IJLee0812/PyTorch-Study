{
  "nbformat": 4,
  "nbformat_minor": 0,
  "metadata": {
    "colab": {
      "provenance": []
    },
    "kernelspec": {
      "name": "python3",
      "display_name": "Python 3"
    },
    "language_info": {
      "name": "python"
    }
  },
  "cells": [
    {
      "cell_type": "markdown",
      "source": [
        "# PyTorch 복습 ('24.07.17 ~ '24.07.31)\n",
        "\n",
        "> References : https://wikidocs.net/book/2788"
      ],
      "metadata": {
        "id": "mkl6viLz6d5X"
      }
    },
    {
      "cell_type": "markdown",
      "source": [
        "---\n",
        "## 1. Pandas 및 NumPy 복습"
      ],
      "metadata": {
        "id": "gn-Kozdg717N"
      }
    },
    {
      "cell_type": "code",
      "execution_count": null,
      "metadata": {
        "colab": {
          "base_uri": "https://localhost:8080/"
        },
        "id": "tCxsHFuS6R3U",
        "outputId": "2e223ece-f3b9-45f7-dba1-5dfdd2f2c5ce"
      },
      "outputs": [
        {
          "output_type": "stream",
          "name": "stdout",
          "text": [
            "      0         1      2\n",
            "0  1000     Steve  90.72\n",
            "1  1001     James  78.09\n",
            "2  1002    Doyeon  98.43\n",
            "3  1003      Jane  64.19\n",
            "4  1004  Pilwoong  81.30\n",
            "5  1005      Tony  99.14\n",
            "\n",
            "     학번        이름     점수\n",
            "0  1000     Steve  90.72\n",
            "1  1001     James  78.09\n",
            "2  1002    Doyeon  98.43\n",
            "3  1003      Jane  64.19\n",
            "4  1004  Pilwoong  81.30\n",
            "5  1005      Tony  99.14\n"
          ]
        }
      ],
      "source": [
        "import pandas as pd\n",
        "\n",
        "data = [\n",
        "    ['1000', 'Steve', 90.72],\n",
        "    ['1001', 'James', 78.09],\n",
        "    ['1002', 'Doyeon', 98.43],\n",
        "    ['1003', 'Jane', 64.19],\n",
        "    ['1004', 'Pilwoong', 81.30],\n",
        "    ['1005', 'Tony', 99.14],\n",
        "]\n",
        "\n",
        "df = pd.DataFrame(data)\n",
        "print(df)\n",
        "print()\n",
        "df = pd.DataFrame(data, columns = [\"학번\", \"이름\", \"점수\"])\n",
        "print(df)"
      ]
    },
    {
      "cell_type": "code",
      "source": [
        "data = {\n",
        "    '학번' : ['1000', '1001', '1002', '1003', '1004', '1005'],\n",
        "    '이름' : [ 'Steve', 'James', 'Doyeon', 'Jane', 'Pilwoong', 'Tony'],\n",
        "    '점수': [90.72, 78.09, 98.43, 64.19, 81.30, 99.14]\n",
        "    }\n",
        "df = pd.DataFrame(data)\n",
        "print(df)"
      ],
      "metadata": {
        "colab": {
          "base_uri": "https://localhost:8080/"
        },
        "id": "GpJDQ9FL6vRb",
        "outputId": "490d333e-4843-416f-dfbd-989e482755ba"
      },
      "execution_count": null,
      "outputs": [
        {
          "output_type": "stream",
          "name": "stdout",
          "text": [
            "     학번        이름     점수\n",
            "0  1000     Steve  90.72\n",
            "1  1001     James  78.09\n",
            "2  1002    Doyeon  98.43\n",
            "3  1003      Jane  64.19\n",
            "4  1004  Pilwoong  81.30\n",
            "5  1005      Tony  99.14\n"
          ]
        }
      ]
    },
    {
      "cell_type": "code",
      "source": [
        "df[\"이름\"]"
      ],
      "metadata": {
        "colab": {
          "base_uri": "https://localhost:8080/"
        },
        "id": "mB4W4Sz563c6",
        "outputId": "041f2618-0d20-4041-d937-26417419a544"
      },
      "execution_count": null,
      "outputs": [
        {
          "output_type": "execute_result",
          "data": {
            "text/plain": [
              "0       Steve\n",
              "1       James\n",
              "2      Doyeon\n",
              "3        Jane\n",
              "4    Pilwoong\n",
              "5        Tony\n",
              "Name: 이름, dtype: object"
            ]
          },
          "metadata": {},
          "execution_count": 3
        }
      ]
    },
    {
      "cell_type": "code",
      "source": [
        "df.index"
      ],
      "metadata": {
        "colab": {
          "base_uri": "https://localhost:8080/"
        },
        "id": "g_mGC1uY67kP",
        "outputId": "3877d1b8-fc62-4d9e-d438-cd36801e76a9"
      },
      "execution_count": null,
      "outputs": [
        {
          "output_type": "execute_result",
          "data": {
            "text/plain": [
              "RangeIndex(start=0, stop=6, step=1)"
            ]
          },
          "metadata": {},
          "execution_count": 4
        }
      ]
    },
    {
      "cell_type": "code",
      "source": [
        "import numpy as np\n",
        "\n",
        "# NumPy의 핵심 : ndarray(datatype). np.array()는 리스트, 튜플, 배열로부터 ndarray를 생성한다.\n",
        "vec = np.array([1, 2, 3, 4, 5])\n",
        "print(type(vec))"
      ],
      "metadata": {
        "colab": {
          "base_uri": "https://localhost:8080/"
        },
        "id": "vTBOYb5T6-Av",
        "outputId": "16fbf434-388b-45cc-dc84-6ad289fe1bff"
      },
      "execution_count": null,
      "outputs": [
        {
          "output_type": "stream",
          "name": "stdout",
          "text": [
            "<class 'numpy.ndarray'>\n"
          ]
        }
      ]
    },
    {
      "cell_type": "code",
      "source": [
        "# 배열의 크기(차원)를 정확히 숙지하는 것은 딥러닝에서 매우 중요함.\n",
        "mat = np.array([[10, 20, 30], [ 60, 70, 80]])\n",
        "\n",
        "print(\"mat의 축의 개수 :\", mat.ndim) # 축의 개수 출력\n",
        "print(\"mat의 크기(shape) :\", mat.shape) # 크기 출력"
      ],
      "metadata": {
        "colab": {
          "base_uri": "https://localhost:8080/"
        },
        "id": "8VNhpEsZ7MZI",
        "outputId": "57003f05-b79e-408a-8b59-9385b9d1fc75"
      },
      "execution_count": null,
      "outputs": [
        {
          "output_type": "stream",
          "name": "stdout",
          "text": [
            "mat의 축의 개수 : 2\n",
            "mat의 크기(shape) : (2, 3)\n"
          ]
        }
      ]
    },
    {
      "cell_type": "code",
      "source": [
        "zero_mat = np.zeros((2, 3))\n",
        "print(zero_mat)\n",
        "one_mat = np.ones((2, 3))\n",
        "print(one_mat)"
      ],
      "metadata": {
        "colab": {
          "base_uri": "https://localhost:8080/"
        },
        "id": "fbu-ysp27ez7",
        "outputId": "da27d475-76bc-4707-cfc8-21a0096c9143"
      },
      "execution_count": null,
      "outputs": [
        {
          "output_type": "stream",
          "name": "stdout",
          "text": [
            "[[0. 0. 0.]\n",
            " [0. 0. 0.]]\n",
            "[[1. 1. 1.]\n",
            " [1. 1. 1.]]\n"
          ]
        }
      ]
    },
    {
      "cell_type": "code",
      "source": [
        "user_mat = np.full((2, 2), 7)\n",
        "print(user_mat)"
      ],
      "metadata": {
        "colab": {
          "base_uri": "https://localhost:8080/"
        },
        "id": "jm6eTkwN7mIL",
        "outputId": "588a4525-490c-41a8-ff32-b8a2e419310b"
      },
      "execution_count": null,
      "outputs": [
        {
          "output_type": "stream",
          "name": "stdout",
          "text": [
            "[[7 7]\n",
            " [7 7]]\n"
          ]
        }
      ]
    },
    {
      "cell_type": "code",
      "source": [
        "eye_mat = np.eye(3) # Identity Matrix\n",
        "print(eye_mat)"
      ],
      "metadata": {
        "colab": {
          "base_uri": "https://localhost:8080/"
        },
        "id": "MG5TEIpR7tbx",
        "outputId": "d37ae370-dfde-4aef-989e-44b4bdd331ed"
      },
      "execution_count": null,
      "outputs": [
        {
          "output_type": "stream",
          "name": "stdout",
          "text": [
            "[[1. 0. 0.]\n",
            " [0. 1. 0.]\n",
            " [0. 0. 1.]]\n"
          ]
        }
      ]
    },
    {
      "cell_type": "code",
      "source": [
        "random_mat = np.random.random((2, 2)) # 임의의 값으로 채워진 배열 생성\n",
        "print(random_mat)"
      ],
      "metadata": {
        "colab": {
          "base_uri": "https://localhost:8080/"
        },
        "id": "kyntPVz38BgI",
        "outputId": "7137eb96-8623-4b02-b3fe-b04571e6814d"
      },
      "execution_count": null,
      "outputs": [
        {
          "output_type": "stream",
          "name": "stdout",
          "text": [
            "[[0.29678787 0.81928842]\n",
            " [0.62830513 0.63152214]]\n"
          ]
        }
      ]
    },
    {
      "cell_type": "code",
      "source": [
        "# np.arange()\n",
        "n = 2\n",
        "range_n_step_vec = np.arange(1, 10, n)\n",
        "print(range_n_step_vec)"
      ],
      "metadata": {
        "colab": {
          "base_uri": "https://localhost:8080/"
        },
        "id": "QRIawres8HKJ",
        "outputId": "560c7846-951d-4067-d34b-7eda5b446b2b"
      },
      "execution_count": null,
      "outputs": [
        {
          "output_type": "stream",
          "name": "stdout",
          "text": [
            "[1 3 5 7 9]\n"
          ]
        }
      ]
    },
    {
      "cell_type": "code",
      "source": [
        "# np.reshape() : 내부 데이터는 변경하지 않으면서, 배열의 구조를 변경함.\n",
        "raw_mat = np.array(np.arange(30))\n",
        "print(raw_mat)\n",
        "print('-' * 30)\n",
        "\n",
        "reshape_mat = np.array(raw_mat.reshape(5, 6))\n",
        "print(reshape_mat)"
      ],
      "metadata": {
        "colab": {
          "base_uri": "https://localhost:8080/"
        },
        "id": "AeV9UkI68Qzs",
        "outputId": "fc91b090-6f69-41db-e685-14b130e62550"
      },
      "execution_count": null,
      "outputs": [
        {
          "output_type": "stream",
          "name": "stdout",
          "text": [
            "[ 0  1  2  3  4  5  6  7  8  9 10 11 12 13 14 15 16 17 18 19 20 21 22 23\n",
            " 24 25 26 27 28 29]\n",
            "------------------------------\n",
            "[[ 0  1  2  3  4  5]\n",
            " [ 6  7  8  9 10 11]\n",
            " [12 13 14 15 16 17]\n",
            " [18 19 20 21 22 23]\n",
            " [24 25 26 27 28 29]]\n"
          ]
        }
      ]
    },
    {
      "cell_type": "code",
      "source": [
        "# NumPy 슬라이싱\n",
        "mat = np.array([[1, 2, 3], [4, 5, 6]])\n",
        "\n",
        "slice_mat = mat[0, :]\n",
        "print(slice_mat)\n",
        "print()\n",
        "slice_mat = mat[:, 0:2]\n",
        "print(slice_mat)"
      ],
      "metadata": {
        "colab": {
          "base_uri": "https://localhost:8080/"
        },
        "id": "n9QVaS_08e12",
        "outputId": "bd5a906a-f809-4929-8d16-7f0e87c4daba"
      },
      "execution_count": null,
      "outputs": [
        {
          "output_type": "stream",
          "name": "stdout",
          "text": [
            "[1 2 3]\n",
            "\n",
            "[[1 2]\n",
            " [4 5]]\n"
          ]
        }
      ]
    },
    {
      "cell_type": "code",
      "source": [
        "# NumPy 정수 인덱싱(integer indexing)\n",
        "print(mat[0][1])\n",
        "print()\n",
        "indexing_mat = mat[[1, 1], [0, 1]]\n",
        "print(indexing_mat)"
      ],
      "metadata": {
        "colab": {
          "base_uri": "https://localhost:8080/"
        },
        "id": "c_RGe21vBGqE",
        "outputId": "8dd7b77d-b992-4e8a-e335-4912eda5ddd5"
      },
      "execution_count": null,
      "outputs": [
        {
          "output_type": "stream",
          "name": "stdout",
          "text": [
            "2\n",
            "\n",
            "[4 5]\n"
          ]
        }
      ]
    },
    {
      "cell_type": "code",
      "source": [
        "# NumPy 연산\n",
        "x = np.array([1,2,3])\n",
        "y = np.array([4,5,6])\n",
        "\n",
        "# Multiply(원소 간 곱)\n",
        "res = x * y # res = np.multiply(x, y)와 동치\n",
        "print(res)\n",
        "print()\n",
        "\n",
        "# Divide(원소 간 나누기)\n",
        "res = y / x\n",
        "print(res)\n",
        "print()\n",
        "\n",
        "# \"행렬의 곱셈\" == dot()\n",
        "mat1 = np.array([[1,2],[3,4]])\n",
        "mat2 = np.array([[5,6],[7,8]])\n",
        "dot_product = np.dot(mat1, mat2)\n",
        "print(dot_product)"
      ],
      "metadata": {
        "colab": {
          "base_uri": "https://localhost:8080/"
        },
        "id": "wRpP3sW2Ba-k",
        "outputId": "b7e31f0d-508b-4cc1-ba59-243dad4dda8f"
      },
      "execution_count": null,
      "outputs": [
        {
          "output_type": "stream",
          "name": "stdout",
          "text": [
            "[ 4 10 18]\n",
            "\n",
            "[4.  2.5 2. ]\n",
            "\n",
            "[[19 22]\n",
            " [43 50]]\n"
          ]
        }
      ]
    },
    {
      "cell_type": "markdown",
      "source": [
        "## 머신러닝 워크플로우\n",
        "\n",
        "### 1) 데이터 수집\n",
        "\n",
        "### 2) 점검 및 탐색 : 데이터의 구조, 노이즈 데이터, ML 적용을 위한 데이터 정제 방법 등을 파악함. EDA 단계라고도 하며 EDA는 독립/종속 변수, 변수의 유형, 데이터타입 등을 점검하며 데이터의 특징과 내재하는 구조적 관계를 알아내는 과정을 의미함.\n",
        "\n",
        "### 3) 전처리 및 정제 : 데이터에 대한 파악 후 수행. ML 워크플로우에서 가장 까다로운 작업 중 하나. 빠르고 정확한 데이터 전처리를 위해서는 다양한 라이브러리에 대한 사전지식 필요. 까다로운 전처리의 경우에는 전처리 과정에서도 ML이 사용됨.\n",
        "\n",
        "### 4) 모델링 및 훈련 : 주의점은 모든 데이터를 기계에게 학습시켜서는 안 된다는 점이다. 데이터 중 일부는 테스트용으로 남겨두고, 훈련용 데이터만 훈련에 사용해야 한다. 그래야만 제대로 된 성능측정이 이뤄질 수 있으며 Overfitting을 방지할 수 있다.\n",
        "- Training / Validation / Testing 으로 데이터 분리\n",
        "\n",
        "### 5) 평가 : 테스트용 데이터로 성능을 평가한다. 기계가 예측한 데이터가 테스트용 데이터의 실제 정답과 얼마나 가까운지 or 일치 여부를 측정함.\n",
        "\n",
        "### 6) 배포"
      ],
      "metadata": {
        "id": "1fFGAOtqC3jr"
      }
    },
    {
      "cell_type": "markdown",
      "source": [
        "### sklearn을 사용하여 학습용 / 테스트용 데이터 분리하기"
      ],
      "metadata": {
        "id": "qnvPvqzGEcPt"
      }
    },
    {
      "cell_type": "code",
      "source": [
        "from sklearn.model_selection import train_test_split\n",
        "\n",
        "X, y = np.arange(10).reshape((5, 2)), range(5)\n",
        "\n",
        "print('X 전체 데이터 :')\n",
        "print(X)\n",
        "print('y 전체 데이터 :')\n",
        "print(list(y))\n",
        "print()\n",
        "\n",
        "# 7 : 3의 비율로 train : test 분리. random_state 값은 시드. 동일한 숫자 기재 시 항상 동일한 훈련/테스트 데이터 획득가능\n",
        "X_train, X_test, y_train, y_test = train_test_split(X, y, test_size = 0.3, random_state = 12)\n",
        "\n",
        "print('X 훈련 데이터 :')\n",
        "print(X_train)\n",
        "print('X 테스트 데이터 :')\n",
        "print(X_test)\n",
        "print()\n",
        "\n",
        "print('y 훈련 데이터 :')\n",
        "print(y_train)\n",
        "print('y 테스트 데이터 :')\n",
        "print(y_test)"
      ],
      "metadata": {
        "colab": {
          "base_uri": "https://localhost:8080/"
        },
        "id": "pIQhL0pJB4hm",
        "outputId": "0fd6ae59-8ce1-4d50-d943-000c3ea15b48"
      },
      "execution_count": null,
      "outputs": [
        {
          "output_type": "stream",
          "name": "stdout",
          "text": [
            "X 전체 데이터 :\n",
            "[[0 1]\n",
            " [2 3]\n",
            " [4 5]\n",
            " [6 7]\n",
            " [8 9]]\n",
            "y 전체 데이터 :\n",
            "[0, 1, 2, 3, 4]\n",
            "\n",
            "X 훈련 데이터 :\n",
            "[[4 5]\n",
            " [8 9]\n",
            " [6 7]]\n",
            "X 테스트 데이터 :\n",
            "[[0 1]\n",
            " [2 3]]\n",
            "\n",
            "y 훈련 데이터 :\n",
            "[2, 4, 3]\n",
            "y 테스트 데이터 :\n",
            "[0, 1]\n"
          ]
        }
      ]
    },
    {
      "cell_type": "markdown",
      "source": [
        "# PyTorch 패키지의 기본 구성\n",
        "\n",
        "## 1. torch\n",
        "-> 메인 네임스페이스\n",
        "\n",
        "## 2. torch.autograd\n",
        "-> 자동 미분을 위한 함수들이 포함되어 있음. 자동 미분의 on/off를 제어하는 Context Manager(enable_grad / no_grad)나 자체 미분가능 함수 정의 시 사용하는 기반 클래스인 Function 등이 포함됨.\n",
        "\n",
        "## 3. torch.nn\n",
        "-> 신경망 구축을 위한 다양한 데이터 구조/레이어가 정의되어 있음. RNN, LSTM 등의 레이어, ReLU와 같은 Activation Function, MSELoss와 같은 Loss Function 등이 포함됨.\n",
        "\n",
        "## 4. torch.optim\n",
        "-> 파라미터 최적화 알고리즘들이 구현됨.\n",
        "\n",
        "## 5. torch.utils.data\n",
        "-> mini-batch SGD 반복 연산 실행 시 사용되는 함수가 내장됨.\n",
        "\n",
        "## 6. torch.onnx\n",
        "-> ONNX의 포맷으로, 모델을 export할 때 사용됨. 서로 다른 딥러닝 프레임워크 간 모델을 공유할 때 사용되는 포맷."
      ],
      "metadata": {
        "id": "K9SKhaubFen1"
      }
    },
    {
      "cell_type": "markdown",
      "source": [
        "# 선형 회귀\n",
        "\n",
        "-> 평균 제곱 오차의 값을 최솟값으로 만드는 Weight와 bias를 찾아내는 과정. == 가장 훈련 데이터를 잘 반영한 직선을 찾아내는 과정.\n",
        "\n",
        "- 비용(cost) 함수 = 손실(loss) 함수 = 오차(error) 함수 = 목적(objective) 함수"
      ],
      "metadata": {
        "id": "M8ym86TfTr4D"
      }
    },
    {
      "cell_type": "code",
      "source": [
        "import torch\n",
        "import torch.nn as nn\n",
        "import torch.nn.functional as F\n",
        "import torch.optim as optim\n",
        "\n",
        "x_train = torch.FloatTensor([[1], [2], [3]])\n",
        "y_train = torch.FloatTensor([[3], [6], [9]])\n",
        "print(type(x_train)) ; print(x_train.shape)"
      ],
      "metadata": {
        "colab": {
          "base_uri": "https://localhost:8080/"
        },
        "id": "xdIWmZBdEzDl",
        "outputId": "c2ef300d-de77-408c-cda1-f241c9e9b58a"
      },
      "execution_count": null,
      "outputs": [
        {
          "output_type": "stream",
          "name": "stdout",
          "text": [
            "<class 'torch.Tensor'>\n",
            "torch.Size([3, 1])\n"
          ]
        }
      ]
    },
    {
      "cell_type": "code",
      "source": [
        "# 랜덤 시드 설정\n",
        "torch.manual_seed(1)"
      ],
      "metadata": {
        "colab": {
          "base_uri": "https://localhost:8080/"
        },
        "id": "FaILGuFvT1y6",
        "outputId": "d91e0302-7ef7-4428-ebb3-668061ac5fed"
      },
      "execution_count": null,
      "outputs": [
        {
          "output_type": "execute_result",
          "data": {
            "text/plain": [
              "<torch._C.Generator at 0x7e1360f48710>"
            ]
          },
          "metadata": {},
          "execution_count": 18
        }
      ]
    },
    {
      "cell_type": "code",
      "source": [
        "# 가중치(weight)와 편향(bias)의 초기화\n",
        "\n",
        "W = torch.zeros(1, requires_grad = True) # 가중치 W를 0으로 초기화, 학습을 통해 값이 변경되는 변수임을 명시함.\n",
        "print(W)\n",
        "\n",
        "b = torch.zeros(1, requires_grad = True) # 편향 b를 0으로 초기화, 학습을 통해 값이 변경되는 변수임을 명시함.\n",
        "print(b)"
      ],
      "metadata": {
        "colab": {
          "base_uri": "https://localhost:8080/"
        },
        "id": "2J2hNa-TVBy5",
        "outputId": "0f3efc4b-7dd8-4dbf-d140-49181c43cba1"
      },
      "execution_count": null,
      "outputs": [
        {
          "output_type": "stream",
          "name": "stdout",
          "text": [
            "tensor([0.], requires_grad=True)\n",
            "tensor([0.], requires_grad=True)\n"
          ]
        }
      ]
    },
    {
      "cell_type": "code",
      "source": [
        "EPOCH = 2000\n",
        "optimizer = optim.SGD([W, b], lr = 0.01)\n",
        "\n",
        "for epoch in range(EPOCH + 1):\n",
        "\n",
        "    # H(x) 계산\n",
        "    hypothesis = x_train * W + b\n",
        "\n",
        "    # cost 계산\n",
        "    cost = torch.mean((hypothesis - y_train) ** 2) # torch.mean() : 평균 내주는 함수\n",
        "\n",
        "    # gradient를 0으로 초기화해야지만 새로운 가중치 편향에 대해서 새로운 기울기를 구할 수 있다.\n",
        "    optimizer.zero_grad()\n",
        "    # 비용 함수를 미분하여 그라디언트 계산(역전파 수행)\n",
        "    cost.backward()\n",
        "    # W와 b 값을 업데이트\n",
        "    optimizer.step() # W와 b에서 리턴되는 변수들의 기울기에, 학습률(lr = 0.01)을 곱하여 빼줌으로서 [W, b] 업데이트.\n",
        "\n",
        "    # 100 에포크 마다 로그 출력\n",
        "    if epoch % 100 == 0:\n",
        "        print('Epoch {:4d} / {}, W : {:.2f}, b : {:.2f}, Cost : {:.5f}'.format(epoch, EPOCH, W.item(), b.item(), cost.item()))\n",
        "\n"
      ],
      "metadata": {
        "colab": {
          "base_uri": "https://localhost:8080/"
        },
        "id": "BdwEtajWV4Y9",
        "outputId": "61ab440a-a734-4e1b-9033-ead2bf50409f"
      },
      "execution_count": null,
      "outputs": [
        {
          "output_type": "stream",
          "name": "stdout",
          "text": [
            "Epoch    0 / 2000, W : 0.28, b : 0.12, Cost : 42.00000\n",
            "Epoch  100 / 2000, W : 2.62, b : 0.87, Cost : 0.10838\n",
            "Epoch  200 / 2000, W : 2.70, b : 0.68, Cost : 0.06697\n",
            "Epoch  300 / 2000, W : 2.76, b : 0.54, Cost : 0.04139\n",
            "Epoch  400 / 2000, W : 2.81, b : 0.42, Cost : 0.02557\n",
            "Epoch  500 / 2000, W : 2.85, b : 0.33, Cost : 0.01580\n",
            "Epoch  600 / 2000, W : 2.89, b : 0.26, Cost : 0.00977\n",
            "Epoch  700 / 2000, W : 2.91, b : 0.20, Cost : 0.00603\n",
            "Epoch  800 / 2000, W : 2.93, b : 0.16, Cost : 0.00373\n",
            "Epoch  900 / 2000, W : 2.94, b : 0.13, Cost : 0.00230\n",
            "Epoch 1000 / 2000, W : 2.96, b : 0.10, Cost : 0.00142\n",
            "Epoch 1100 / 2000, W : 2.97, b : 0.08, Cost : 0.00088\n",
            "Epoch 1200 / 2000, W : 2.97, b : 0.06, Cost : 0.00054\n",
            "Epoch 1300 / 2000, W : 2.98, b : 0.05, Cost : 0.00034\n",
            "Epoch 1400 / 2000, W : 2.98, b : 0.04, Cost : 0.00021\n",
            "Epoch 1500 / 2000, W : 2.99, b : 0.03, Cost : 0.00013\n",
            "Epoch 1600 / 2000, W : 2.99, b : 0.02, Cost : 0.00008\n",
            "Epoch 1700 / 2000, W : 2.99, b : 0.02, Cost : 0.00005\n",
            "Epoch 1800 / 2000, W : 2.99, b : 0.01, Cost : 0.00003\n",
            "Epoch 1900 / 2000, W : 2.99, b : 0.01, Cost : 0.00002\n",
            "Epoch 2000 / 2000, W : 3.00, b : 0.01, Cost : 0.00001\n"
          ]
        }
      ]
    },
    {
      "cell_type": "markdown",
      "source": [
        "### optimizer.zero_grad()가 필요한 이유(중요)\n",
        "\n",
        "-> PyTorch는 미분을 통해 얻은 기울기를, 이전에 계산된 기울기 값에 '누적'시키는 특징이 있다."
      ],
      "metadata": {
        "id": "y9JS0yj5ZiBZ"
      }
    },
    {
      "cell_type": "code",
      "source": [
        "# 예제 코드(누적 여부 확인)\n",
        "w = torch.tensor(2.0, requires_grad = True)\n",
        "\n",
        "EPOCH = 20\n",
        "for epoch in range(EPOCH + 1):\n",
        "\n",
        "    z = 2 * w\n",
        "\n",
        "    z.backward()\n",
        "    print('수식을 w로 미분한 값 : {}'.format(w.grad))"
      ],
      "metadata": {
        "colab": {
          "base_uri": "https://localhost:8080/"
        },
        "id": "KflLn-P7WQiN",
        "outputId": "8cbdad8c-99af-460a-e4de-491224fe27fb"
      },
      "execution_count": null,
      "outputs": [
        {
          "output_type": "stream",
          "name": "stdout",
          "text": [
            "수식을 w로 미분한 값 : 2.0\n",
            "수식을 w로 미분한 값 : 4.0\n",
            "수식을 w로 미분한 값 : 6.0\n",
            "수식을 w로 미분한 값 : 8.0\n",
            "수식을 w로 미분한 값 : 10.0\n",
            "수식을 w로 미분한 값 : 12.0\n",
            "수식을 w로 미분한 값 : 14.0\n",
            "수식을 w로 미분한 값 : 16.0\n",
            "수식을 w로 미분한 값 : 18.0\n",
            "수식을 w로 미분한 값 : 20.0\n",
            "수식을 w로 미분한 값 : 22.0\n",
            "수식을 w로 미분한 값 : 24.0\n",
            "수식을 w로 미분한 값 : 26.0\n",
            "수식을 w로 미분한 값 : 28.0\n",
            "수식을 w로 미분한 값 : 30.0\n",
            "수식을 w로 미분한 값 : 32.0\n",
            "수식을 w로 미분한 값 : 34.0\n",
            "수식을 w로 미분한 값 : 36.0\n",
            "수식을 w로 미분한 값 : 38.0\n",
            "수식을 w로 미분한 값 : 40.0\n",
            "수식을 w로 미분한 값 : 42.0\n"
          ]
        }
      ]
    },
    {
      "cell_type": "markdown",
      "source": [
        "**결과 해석** : 계속해서 미분값(2w)' = 2가 누적되는 것을 알 수 있다. 이러한 이유로 매 epoch마다 미분 값을 계속 0으로 초기화해야 함."
      ],
      "metadata": {
        "id": "Jj7-2FMnZ-He"
      }
    },
    {
      "cell_type": "markdown",
      "source": [
        "### 자동 미분(Autograd)\n",
        "\n",
        "-> GD(SGD)는 cost function을 미분하여, gradient를 구해서 그 반대 방향으로 비용이 최소화되는 방향을 찾아내는 알고리즘이다.\n",
        "\n",
        "모델이 복잡해질수록 경사하강법을 NumPy 등으로 직접 코딩하는 것은 매우 번거로우므로, PyTorch의 Autograd를 이용하여 미분 계산을 자동화, GD를 손쉽게 이용가능하게 해준다."
      ],
      "metadata": {
        "id": "5Lvd8EfVbBW5"
      }
    },
    {
      "cell_type": "code",
      "source": [
        "w = torch.tensor(2.0, requires_grad = True)\n",
        "\n",
        "y = w ** 2\n",
        "\n",
        "z = 2 * y + 5\n",
        "\n",
        "z.backward()\n",
        "\n",
        "print(\"수식을 w로 미분한 값 :\", float(w.grad)) # Tensor -> float 캐스팅 가능"
      ],
      "metadata": {
        "colab": {
          "base_uri": "https://localhost:8080/"
        },
        "id": "KK-UIBJfZ9bd",
        "outputId": "11ad4f3e-a842-43d1-bfd2-179154e03eef"
      },
      "execution_count": null,
      "outputs": [
        {
          "output_type": "stream",
          "name": "stdout",
          "text": [
            "수식을 w로 미분한 값 : 8.0\n"
          ]
        }
      ]
    },
    {
      "cell_type": "markdown",
      "source": [
        "## 다중(다변인) 선형회귀\n",
        "\n",
        "### 💡X(행렬) multiply W(행렬) -> 하나의 행렬로 표현(행렬 곱셈 == 벡터의 내적)\n",
        "\n",
        "H(X) = XW + B"
      ],
      "metadata": {
        "id": "6E2eg9YlcGRO"
      }
    },
    {
      "cell_type": "code",
      "source": [
        "x_train  =  torch.FloatTensor([[73,  80,  75],\n",
        "                               [93,  88,  93],\n",
        "                               [89,  91,  80],\n",
        "                               [96,  98,  100],\n",
        "                               [73,  66,  70]])\n",
        "\n",
        "y_train  =  torch.FloatTensor([[152],  [185],  [180],  [196],  [142]])"
      ],
      "metadata": {
        "id": "A1udA21Yb3-x"
      },
      "execution_count": null,
      "outputs": []
    },
    {
      "cell_type": "code",
      "source": [
        "# 모델 초기화\n",
        "W = torch.zeros((3, 1), requires_grad = True) # 가중치의 크기가 (3 x 1) 벡터가 된다.\n",
        "print(W)\n",
        "b = torch.zeros(1, requires_grad = True)\n",
        "\n",
        "optimizer = optim.SGD([W, b], lr = 1e-5) # optimizer 설정(SGD)"
      ],
      "metadata": {
        "colab": {
          "base_uri": "https://localhost:8080/"
        },
        "id": "j67b594SdST8",
        "outputId": "df6153e7-4b87-49f3-d32b-09b84adaee60"
      },
      "execution_count": null,
      "outputs": [
        {
          "output_type": "stream",
          "name": "stdout",
          "text": [
            "tensor([[0.],\n",
            "        [0.],\n",
            "        [0.]], requires_grad=True)\n"
          ]
        }
      ]
    },
    {
      "cell_type": "code",
      "source": [
        "EPOCH = 20\n",
        "for epoch in range(EPOCH + 1):\n",
        "\n",
        "    # H(x) 계산, b는 broadcasting((1,) # Scalar -> (5, 1) # Vector로 auto shape transform 지원)\n",
        "    hypothesis = x_train.matmul(W) + b\n",
        "\n",
        "    # cost 계산\n",
        "    cost = torch.mean((hypothesis - y_train) ** 2)\n",
        "\n",
        "    # cost로 H(x) 개선\n",
        "    optimizer.zero_grad()\n",
        "    cost.backward()\n",
        "    optimizer.step()\n",
        "\n",
        "    print('Epoch {:4d}/{} hypothesis: {} Cost: {:.6f}'.format(\n",
        "        epoch, EPOCH, hypothesis.squeeze().detach(), cost.item()\n",
        "    ))"
      ],
      "metadata": {
        "colab": {
          "base_uri": "https://localhost:8080/"
        },
        "id": "8IvgOcBediwA",
        "outputId": "34d6c823-bcc3-4d46-c73b-8407d1bbeaa3"
      },
      "execution_count": null,
      "outputs": [
        {
          "output_type": "stream",
          "name": "stdout",
          "text": [
            "Epoch    0/20 hypothesis: tensor([0., 0., 0., 0., 0.]) Cost: 29661.800781\n",
            "Epoch    1/20 hypothesis: tensor([66.7178, 80.1701, 76.1025, 86.0194, 61.1565]) Cost: 9537.694336\n",
            "Epoch    2/20 hypothesis: tensor([104.5421, 125.6208, 119.2478, 134.7862,  95.8280]) Cost: 3069.590088\n",
            "Epoch    3/20 hypothesis: tensor([125.9858, 151.3882, 143.7087, 162.4333, 115.4844]) Cost: 990.670288\n",
            "Epoch    4/20 hypothesis: tensor([138.1429, 165.9963, 157.5768, 178.1071, 126.6283]) Cost: 322.481873\n",
            "Epoch    5/20 hypothesis: tensor([145.0350, 174.2780, 165.4395, 186.9928, 132.9461]) Cost: 107.717064\n",
            "Epoch    6/20 hypothesis: tensor([148.9423, 178.9730, 169.8976, 192.0301, 136.5279]) Cost: 38.687496\n",
            "Epoch    7/20 hypothesis: tensor([151.1574, 181.6346, 172.4254, 194.8856, 138.5585]) Cost: 16.499043\n",
            "Epoch    8/20 hypothesis: tensor([152.4131, 183.1435, 173.8590, 196.5043, 139.7097]) Cost: 9.365656\n",
            "Epoch    9/20 hypothesis: tensor([153.1250, 183.9988, 174.6723, 197.4217, 140.3625]) Cost: 7.071114\n",
            "Epoch   10/20 hypothesis: tensor([153.5285, 184.4835, 175.1338, 197.9415, 140.7325]) Cost: 6.331847\n",
            "Epoch   11/20 hypothesis: tensor([153.7572, 184.7582, 175.3958, 198.2360, 140.9424]) Cost: 6.092532\n",
            "Epoch   12/20 hypothesis: tensor([153.8868, 184.9138, 175.5449, 198.4026, 141.0613]) Cost: 6.013817\n",
            "Epoch   13/20 hypothesis: tensor([153.9602, 185.0019, 175.6299, 198.4969, 141.1288]) Cost: 5.986785\n",
            "Epoch   14/20 hypothesis: tensor([154.0017, 185.0517, 175.6785, 198.5500, 141.1671]) Cost: 5.976325\n",
            "Epoch   15/20 hypothesis: tensor([154.0252, 185.0798, 175.7065, 198.5800, 141.1888]) Cost: 5.971208\n",
            "Epoch   16/20 hypothesis: tensor([154.0385, 185.0956, 175.7229, 198.5966, 141.2012]) Cost: 5.967835\n",
            "Epoch   17/20 hypothesis: tensor([154.0459, 185.1045, 175.7326, 198.6059, 141.2082]) Cost: 5.964969\n",
            "Epoch   18/20 hypothesis: tensor([154.0501, 185.1094, 175.7386, 198.6108, 141.2122]) Cost: 5.962291\n",
            "Epoch   19/20 hypothesis: tensor([154.0524, 185.1120, 175.7424, 198.6134, 141.2145]) Cost: 5.959664\n",
            "Epoch   20/20 hypothesis: tensor([154.0536, 185.1134, 175.7451, 198.6145, 141.2158]) Cost: 5.957089\n"
          ]
        }
      ]
    },
    {
      "cell_type": "markdown",
      "source": [
        "## nn.Module 사용하여 편리한 선형회귀 모델 구현"
      ],
      "metadata": {
        "id": "AEKRSnIhGtt7"
      }
    },
    {
      "cell_type": "markdown",
      "source": [
        "### I. 단순선형회귀 구현"
      ],
      "metadata": {
        "id": "yZCsLAnyIRJP"
      }
    },
    {
      "cell_type": "code",
      "source": [
        "import torch.nn as nn\n",
        "import torch.nn.functional as F\n",
        "\n",
        "torch.manual_seed(1)\n",
        "\n",
        "x_train = torch.FloatTensor([[1], [2], [3]])\n",
        "y_train = torch.FloatTensor([[2], [4], [6]])\n",
        "\n",
        "model = nn.Linear(1, 1) # 단순 선형회귀이므로 입력 및 출력 모두 1차원\n",
        "\n",
        "print(list(model.parameters()))"
      ],
      "metadata": {
        "colab": {
          "base_uri": "https://localhost:8080/"
        },
        "id": "y3YIG4ntffeM",
        "outputId": "468c089b-5d16-4e1c-ebed-9e3e162c8d92"
      },
      "execution_count": null,
      "outputs": [
        {
          "output_type": "stream",
          "name": "stdout",
          "text": [
            "[Parameter containing:\n",
            "tensor([[0.5153]], requires_grad=True), Parameter containing:\n",
            "tensor([-0.4414], requires_grad=True)]\n"
          ]
        }
      ]
    },
    {
      "cell_type": "markdown",
      "source": [
        "- 출력 : 첫 번째 값이 W, 두 번째 값이 b. 두 값 모두 랜덤 초기화 상태. 두 값 모두 학습의 대상이므로 True로 설정되어 있음."
      ],
      "metadata": {
        "id": "53wSS-rnH4t1"
      }
    },
    {
      "cell_type": "code",
      "source": [
        "optimizer = optim.SGD(model.parameters(), lr = 0.01)"
      ],
      "metadata": {
        "id": "KUDmd3AuH0IJ"
      },
      "execution_count": null,
      "outputs": []
    },
    {
      "cell_type": "code",
      "source": [
        "EPOCH = 2000\n",
        "\n",
        "for epoch in range(EPOCH + 1):\n",
        "\n",
        "    prediction = model(x_train) # H(x) = W * x + b\n",
        "\n",
        "    cost = F.mse_loss(prediction, y_train) # PyTorch에서 제공하는 평균제곱오차 함수\n",
        "    #  <=> criterion = nn.MSELoss() ; cost = criterion(prediction, y_train)\n",
        "\n",
        "    optimizer.zero_grad()\n",
        "    cost.backward()\n",
        "    optimizer.step()\n",
        "\n",
        "    if epoch % 100 == 0:\n",
        "        print('Epoch {:4d}/{} Cost: {:.6f}'.format(epoch, EPOCH, cost.item()))"
      ],
      "metadata": {
        "colab": {
          "base_uri": "https://localhost:8080/"
        },
        "id": "NWM-96_PIHTL",
        "outputId": "dc1fad16-736e-47e3-80bb-c78ffd4d870f"
      },
      "execution_count": null,
      "outputs": [
        {
          "output_type": "stream",
          "name": "stdout",
          "text": [
            "Epoch    0/2000 Cost: 13.103541\n",
            "Epoch  100/2000 Cost: 0.002791\n",
            "Epoch  200/2000 Cost: 0.001724\n",
            "Epoch  300/2000 Cost: 0.001066\n",
            "Epoch  400/2000 Cost: 0.000658\n",
            "Epoch  500/2000 Cost: 0.000407\n",
            "Epoch  600/2000 Cost: 0.000251\n",
            "Epoch  700/2000 Cost: 0.000155\n",
            "Epoch  800/2000 Cost: 0.000096\n",
            "Epoch  900/2000 Cost: 0.000059\n",
            "Epoch 1000/2000 Cost: 0.000037\n",
            "Epoch 1100/2000 Cost: 0.000023\n",
            "Epoch 1200/2000 Cost: 0.000014\n",
            "Epoch 1300/2000 Cost: 0.000009\n",
            "Epoch 1400/2000 Cost: 0.000005\n",
            "Epoch 1500/2000 Cost: 0.000003\n",
            "Epoch 1600/2000 Cost: 0.000002\n",
            "Epoch 1700/2000 Cost: 0.000001\n",
            "Epoch 1800/2000 Cost: 0.000001\n",
            "Epoch 1900/2000 Cost: 0.000000\n",
            "Epoch 2000/2000 Cost: 0.000000\n"
          ]
        }
      ]
    },
    {
      "cell_type": "markdown",
      "source": [
        "**forward 연산 : H(x) 식에 입력 x로부터 예측된 y를 얻는 과정.**\n",
        "\n",
        "- prediction = model(x_train) # forward 연산\n",
        "- pred_y = model(test_var)    # forward 연산\n",
        "\n",
        "**backward 연산 : 비용 함수를 미분하여 기울기를 구하는 것.**\n",
        "\n",
        "- cost.backward() # backward 연산"
      ],
      "metadata": {
        "id": "SzjODc_QKAv0"
      }
    },
    {
      "cell_type": "code",
      "source": [
        "# 임의의 값 x = 4를 넣어, 모델이 예측하는 y의 값을 확인하기\n",
        "test_var = torch.FloatTensor([[4.0]])\n",
        "\n",
        "# 입력한 값 4에 대해 예측값 y를 리턴받아 pred_y에 저장\n",
        "pred_y = model(test_var) # forward 연산 수행\n",
        "\n",
        "print(\"학습 후 입력이 4일 때의 예측값 :\", pred_y)\n",
        "print()\n",
        "print(list(model.parameters()))"
      ],
      "metadata": {
        "colab": {
          "base_uri": "https://localhost:8080/"
        },
        "id": "w56PlgB-I0Qs",
        "outputId": "1cf97d70-0e3a-45e5-b95e-b0470bf6080d"
      },
      "execution_count": null,
      "outputs": [
        {
          "output_type": "stream",
          "name": "stdout",
          "text": [
            "학습 후 입력이 4일 때의 예측값 : tensor([[7.9989]], grad_fn=<AddmmBackward0>)\n",
            "\n",
            "[Parameter containing:\n",
            "tensor([[1.9994]], requires_grad=True), Parameter containing:\n",
            "tensor([0.0014], requires_grad=True)]\n"
          ]
        }
      ]
    },
    {
      "cell_type": "markdown",
      "source": [
        "### II. 다중선형회귀 구현"
      ],
      "metadata": {
        "id": "32TlTDw-Kivy"
      }
    },
    {
      "cell_type": "code",
      "source": [
        "# 데이터\n",
        "x_train = torch.FloatTensor([[73, 80, 75],\n",
        "                             [93, 88, 93],\n",
        "                             [89, 91, 90],\n",
        "                             [96, 98, 100],\n",
        "                             [73, 66, 70]])\n",
        "y_train = torch.FloatTensor([[152], [185], [180], [196], [142]])\n",
        "\n",
        "print(x_train.shape)"
      ],
      "metadata": {
        "colab": {
          "base_uri": "https://localhost:8080/"
        },
        "id": "FkhXf6K9J2iQ",
        "outputId": "c7da0950-9b5b-415a-a001-f9b6d4b9fe06"
      },
      "execution_count": null,
      "outputs": [
        {
          "output_type": "stream",
          "name": "stdout",
          "text": [
            "torch.Size([5, 3])\n"
          ]
        }
      ]
    },
    {
      "cell_type": "code",
      "source": [
        "# 모델 선언 및 초기화\n",
        "model = nn.Linear(3, 1) # 3개의 입력 x에 대하여 하나의 출력 y를 가지므로 (3, 1)\n",
        "\n",
        "print(model.parameters())\n",
        "print(list(model.parameters()))"
      ],
      "metadata": {
        "colab": {
          "base_uri": "https://localhost:8080/"
        },
        "id": "B-hmG1yxKnSJ",
        "outputId": "d1c2a69d-b475-463f-b090-8ee7864499a6"
      },
      "execution_count": null,
      "outputs": [
        {
          "output_type": "stream",
          "name": "stdout",
          "text": [
            "<generator object Module.parameters at 0x7e12b2dbef80>\n",
            "[Parameter containing:\n",
            "tensor([[-0.1119,  0.2710, -0.5435]], requires_grad=True), Parameter containing:\n",
            "tensor([0.3462], requires_grad=True)]\n"
          ]
        }
      ]
    },
    {
      "cell_type": "code",
      "source": [
        "# Optimizer 정의\n",
        "optimizer = optim.SGD(model.parameters(), lr = 0.01) # lr = 0.01일 때, 기울기가 발산함.\n",
        "# optimizer = optim.SGD(model.parameters(), lr = 1e-5) # 기울기 발산 방지를 위해 학습률을 유의미한 수준까지 낮춤."
      ],
      "metadata": {
        "id": "TeNXAdDN-sqt"
      },
      "execution_count": null,
      "outputs": []
    },
    {
      "cell_type": "code",
      "source": [
        "EPOCH = 2000\n",
        "\n",
        "for epoch in range(EPOCH + 1):\n",
        "\n",
        "    prediction = model(x_train) # forward 연산\n",
        "\n",
        "    # criterion = nn.MSELoss()\n",
        "    # cost = criterion(prediction, y_train)\n",
        "\n",
        "    cost = F.mse_loss(prediction, y_train)\n",
        "\n",
        "    # gradient 0으로 초기화\n",
        "    optimizer.zero_grad()\n",
        "    # 비용 함수를 미분하여 gradient 계산\n",
        "    cost.backward()\n",
        "    # W와 b를 업데이트\n",
        "    optimizer.step()\n",
        "\n",
        "    if epoch % 100 == 0:\n",
        "        print('Epoch {:4d}/{} Cost: {:.6f}'.format(epoch, EPOCH, cost.item()))"
      ],
      "metadata": {
        "colab": {
          "base_uri": "https://localhost:8080/"
        },
        "id": "jUZJ20AV_QNg",
        "outputId": "0538097d-65dd-4779-c22f-8283181f0f65"
      },
      "execution_count": null,
      "outputs": [
        {
          "output_type": "stream",
          "name": "stdout",
          "text": [
            "Epoch    0/2000 Cost: 42134.707031\n",
            "Epoch  100/2000 Cost: nan\n",
            "Epoch  200/2000 Cost: nan\n",
            "Epoch  300/2000 Cost: nan\n",
            "Epoch  400/2000 Cost: nan\n",
            "Epoch  500/2000 Cost: nan\n",
            "Epoch  600/2000 Cost: nan\n",
            "Epoch  700/2000 Cost: nan\n",
            "Epoch  800/2000 Cost: nan\n",
            "Epoch  900/2000 Cost: nan\n",
            "Epoch 1000/2000 Cost: nan\n",
            "Epoch 1100/2000 Cost: nan\n",
            "Epoch 1200/2000 Cost: nan\n",
            "Epoch 1300/2000 Cost: nan\n",
            "Epoch 1400/2000 Cost: nan\n",
            "Epoch 1500/2000 Cost: nan\n",
            "Epoch 1600/2000 Cost: nan\n",
            "Epoch 1700/2000 Cost: nan\n",
            "Epoch 1800/2000 Cost: nan\n",
            "Epoch 1900/2000 Cost: nan\n",
            "Epoch 2000/2000 Cost: nan\n"
          ]
        }
      ]
    },
    {
      "cell_type": "code",
      "source": [
        "# Optimizer 정의\n",
        "optimizer = optim.SGD(model.parameters(), lr = 1e-5) # 기울기 발산 방지를 위해 학습률을 유의미한 수준까지 낮춤."
      ],
      "metadata": {
        "id": "_GBL8FSHAcmL"
      },
      "execution_count": null,
      "outputs": []
    },
    {
      "cell_type": "code",
      "source": [
        "EPOCH = 2000\n",
        "\n",
        "for epoch in range(EPOCH + 1):\n",
        "\n",
        "    prediction = model(x_train) # forward 연산\n",
        "\n",
        "    criterion = nn.MSELoss()\n",
        "    cost = criterion(prediction, y_train)\n",
        "\n",
        "    # gradient 0으로 초기화\n",
        "    optimizer.zero_grad()\n",
        "    # 비용 함수를 미분하여 gradient 계산\n",
        "    cost.backward()\n",
        "    # W와 b를 업데이트\n",
        "    optimizer.step()\n",
        "\n",
        "    if epoch % 100 == 0:\n",
        "        print('Epoch {:4d}/{} Cost: {:.6f}'.format(epoch, EPOCH, cost.item()))"
      ],
      "metadata": {
        "colab": {
          "base_uri": "https://localhost:8080/"
        },
        "id": "NAasJHjlAfns",
        "outputId": "55421bed-9887-4705-9e7a-c0b2bdf5929f"
      },
      "execution_count": null,
      "outputs": [
        {
          "output_type": "stream",
          "name": "stdout",
          "text": [
            "Epoch    0/2000 Cost: nan\n",
            "Epoch  100/2000 Cost: nan\n",
            "Epoch  200/2000 Cost: nan\n",
            "Epoch  300/2000 Cost: nan\n",
            "Epoch  400/2000 Cost: nan\n",
            "Epoch  500/2000 Cost: nan\n",
            "Epoch  600/2000 Cost: nan\n",
            "Epoch  700/2000 Cost: nan\n",
            "Epoch  800/2000 Cost: nan\n",
            "Epoch  900/2000 Cost: nan\n",
            "Epoch 1000/2000 Cost: nan\n",
            "Epoch 1100/2000 Cost: nan\n",
            "Epoch 1200/2000 Cost: nan\n",
            "Epoch 1300/2000 Cost: nan\n",
            "Epoch 1400/2000 Cost: nan\n",
            "Epoch 1500/2000 Cost: nan\n",
            "Epoch 1600/2000 Cost: nan\n",
            "Epoch 1700/2000 Cost: nan\n",
            "Epoch 1800/2000 Cost: nan\n",
            "Epoch 1900/2000 Cost: nan\n",
            "Epoch 2000/2000 Cost: nan\n"
          ]
        }
      ]
    },
    {
      "cell_type": "markdown",
      "source": [
        "### 학습 결과 분석\n",
        "1. lr = 0.01일 때의 실행 결과 : \"Cost : nan\"으로 Gradient가 발산함.\n",
        "- 해결 방법 : lr을 유의미한 수준으로 낮추기.\n",
        "2. lr = 1e-5(0.00001) : 정상적으로 학습이 진행됨."
      ],
      "metadata": {
        "id": "-b1WMhnhAUW4"
      }
    },
    {
      "cell_type": "code",
      "source": [
        "test_var = torch.FloatTensor([73, 80, 75])\n",
        "pred_y = model(test_var)\n",
        "\n",
        "print(\"훈련 후 입력이 73, 80, 75일 때의 예측값 :\", pred_y)"
      ],
      "metadata": {
        "colab": {
          "base_uri": "https://localhost:8080/"
        },
        "id": "pQ3Rl9bsAFby",
        "outputId": "7a32ac18-c125-4c05-a72c-137a23903efa"
      },
      "execution_count": null,
      "outputs": [
        {
          "output_type": "stream",
          "name": "stdout",
          "text": [
            "훈련 후 입력이 73, 80, 75일 때의 예측값 : tensor([nan], grad_fn=<ViewBackward0>)\n"
          ]
        }
      ]
    },
    {
      "cell_type": "code",
      "source": [
        "print(list(model.parameters()))"
      ],
      "metadata": {
        "colab": {
          "base_uri": "https://localhost:8080/"
        },
        "id": "wGfA7c65BnR3",
        "outputId": "ccbae67c-aa68-4004-95e0-d8c6527b5ffc"
      },
      "execution_count": null,
      "outputs": [
        {
          "output_type": "stream",
          "name": "stdout",
          "text": [
            "[Parameter containing:\n",
            "tensor([[nan, nan, nan]], requires_grad=True), Parameter containing:\n",
            "tensor([nan], requires_grad=True)]\n"
          ]
        }
      ]
    },
    {
      "cell_type": "markdown",
      "source": [
        "# 클래스로 PyTorch 모델 구현"
      ],
      "metadata": {
        "id": "Aj12w2OeCI_e"
      }
    },
    {
      "cell_type": "code",
      "source": [
        "torch.manual_seed(1)\n",
        "\n",
        "x_train = torch.FloatTensor([[73, 80, 75],\n",
        "                             [93, 88, 93],\n",
        "                             [89, 91, 90],\n",
        "                             [96, 98, 100],\n",
        "                             [73, 66, 70]])\n",
        "y_train = torch.FloatTensor([[152], [185], [180], [196], [142]])\n",
        "\n",
        "class MultiLRModel(nn.Module):\n",
        "    def __init__(self):\n",
        "        super().__init__()\n",
        "        self.linear = nn.Linear(3, 1) # 선형회귀 레이어\n",
        "\n",
        "    def forward(self, x):\n",
        "        return self.linear(x) # forward 연산(반드시 오버라이딩)"
      ],
      "metadata": {
        "id": "FNCgHbabBue7"
      },
      "execution_count": null,
      "outputs": []
    },
    {
      "cell_type": "code",
      "source": [
        "model = MultiLRModel()"
      ],
      "metadata": {
        "id": "0hO9rnE_ClHq"
      },
      "execution_count": null,
      "outputs": []
    },
    {
      "cell_type": "code",
      "source": [
        "optimizer = optim.SGD(model.parameters(), lr = 1e-5)"
      ],
      "metadata": {
        "id": "jZ-1uDNvCmg-"
      },
      "execution_count": null,
      "outputs": []
    },
    {
      "cell_type": "code",
      "source": [
        "EPOCH = 2000\n",
        "\n",
        "for epoch in range(EPOCH + 1):\n",
        "\n",
        "    prediction = model(x_train) # <=> model.forward(x_train)\n",
        "\n",
        "    cost = F.mse_loss(prediction, y_train)\n",
        "\n",
        "    optimizer.zero_grad()\n",
        "    cost.backward()\n",
        "    optimizer.step()\n",
        "\n",
        "    if epoch % 100 == 0:\n",
        "        print('Epoch {:4d}/{} Cost: {:.6f}'.format(epoch, EPOCH, cost.item()))"
      ],
      "metadata": {
        "colab": {
          "base_uri": "https://localhost:8080/"
        },
        "id": "W9uWECSlCtFR",
        "outputId": "201d5699-1550-4ded-f0c0-b2b23e362d97"
      },
      "execution_count": null,
      "outputs": [
        {
          "output_type": "stream",
          "name": "stdout",
          "text": [
            "Epoch    0/2000 Cost: 31667.597656\n",
            "Epoch  100/2000 Cost: 0.225993\n",
            "Epoch  200/2000 Cost: 0.223911\n",
            "Epoch  300/2000 Cost: 0.221941\n",
            "Epoch  400/2000 Cost: 0.220059\n",
            "Epoch  500/2000 Cost: 0.218271\n",
            "Epoch  600/2000 Cost: 0.216575\n",
            "Epoch  700/2000 Cost: 0.214950\n",
            "Epoch  800/2000 Cost: 0.213413\n",
            "Epoch  900/2000 Cost: 0.211952\n",
            "Epoch 1000/2000 Cost: 0.210560\n",
            "Epoch 1100/2000 Cost: 0.209232\n",
            "Epoch 1200/2000 Cost: 0.207967\n",
            "Epoch 1300/2000 Cost: 0.206761\n",
            "Epoch 1400/2000 Cost: 0.205619\n",
            "Epoch 1500/2000 Cost: 0.204522\n",
            "Epoch 1600/2000 Cost: 0.203484\n",
            "Epoch 1700/2000 Cost: 0.202485\n",
            "Epoch 1800/2000 Cost: 0.201542\n",
            "Epoch 1900/2000 Cost: 0.200635\n",
            "Epoch 2000/2000 Cost: 0.199769\n"
          ]
        }
      ]
    },
    {
      "cell_type": "code",
      "source": [
        "test_var = torch.FloatTensor([73, 80, 75])\n",
        "pred_y = model(test_var)\n",
        "\n",
        "print(\"훈련 후 입력이 73, 80, 75일 때의 예측값 :\", pred_y)"
      ],
      "metadata": {
        "colab": {
          "base_uri": "https://localhost:8080/"
        },
        "id": "9KbVwWemDKR4",
        "outputId": "6d19d127-b82d-4dc4-aa96-8bfc186b7ce4"
      },
      "execution_count": null,
      "outputs": [
        {
          "output_type": "stream",
          "name": "stdout",
          "text": [
            "훈련 후 입력이 73, 80, 75일 때의 예측값 : tensor([151.2305], grad_fn=<ViewBackward0>)\n"
          ]
        }
      ]
    },
    {
      "cell_type": "markdown",
      "source": [
        "# 미니 배치(mini-batch)와 데이터 로드(DataLoader)\n",
        "\n",
        "=> 데이터가 방대해지면 전체 데이터에 대해서 경사하강법을 수행하는 것은 매우 느리며, 수많은 계산량이 필요해진다.\n",
        "\n",
        "따라서 전체 데이터를 작은 단위로 나눠서 해당 단위 당 학습을 진행하는 mini-batch 기법이 개발되었다.\n",
        "\n",
        "- 학습 과정 : mini-batch 만큼만 가져가서, cost를 계산 후 GD를 수행한다. 그 다음 mini-batch에 대해 작업을 계속하고, 마지막까지 이를 반복한다. 이렇게 전체 데이터에 대한 학습이 1회 종료 시, **1 에포크가** 종료된다.\n",
        "\n",
        "- mini-batch의 크기를 batch size라고 한다. 2의 제곱수를 주로 사용한다. \"CPU와 GPU의 메모리가 2의 배수\"이므로 데이터 \"송수신의 효율\"이 올라간다고 한다.\n",
        "\n",
        "- mini-batch GD는 전체 데이터의 일부만을 보고 수행하므로 optima로 수렴하는 과정에서 값이 조금 헤매기도 하지만, 훈련 속도가 매우 빠르다.\n",
        "\n",
        "![스크린샷 2024-07-20 오후 9 20 31](https://github.com/user-attachments/assets/8015c749-35bb-40ff-aabc-7c3f0f108050)\n",
        "\n",
        "<br>\n",
        "\n",
        "### 💡Dataset, DataLoader\n",
        "=> mini-batch 학습, 데이터 셔플, 병렬처리까지 간단히 수행할 수 있도록 한다. Dataset(기본. 커스텀이랑 별개임)을 정의하고, 이를 DataLoader에 전달하는 방식으로 사용한다."
      ],
      "metadata": {
        "id": "IAk3b9zjDiW4"
      }
    },
    {
      "cell_type": "code",
      "source": [
        "from torch.utils.data import TensorDataset\n",
        "from torch.utils.data import DataLoader"
      ],
      "metadata": {
        "id": "A8LOk5l4DdP3"
      },
      "execution_count": null,
      "outputs": []
    },
    {
      "cell_type": "code",
      "source": [
        "dataset = TensorDataset(x_train, y_train)"
      ],
      "metadata": {
        "id": "YZKYGvXBGVT9"
      },
      "execution_count": null,
      "outputs": []
    },
    {
      "cell_type": "code",
      "source": [
        "dataloader = DataLoader(dataset, batch_size = 2, shuffle = True)\n",
        "# shuffle 옵션 : epoch마다 데이터셋을 섞어 학습되는 순서를 바꾼다. 오버피팅 방지 및 각 배치의 독립적 모델 학습을 가능케 한다."
      ],
      "metadata": {
        "id": "MGPD098yGbE8"
      },
      "execution_count": null,
      "outputs": []
    },
    {
      "cell_type": "code",
      "source": [
        "model = MultiLRModel()"
      ],
      "metadata": {
        "id": "2nbRSsx6HQ0N"
      },
      "execution_count": null,
      "outputs": []
    },
    {
      "cell_type": "code",
      "source": [
        "optimizer = torch.optim.SGD(model.parameters(), lr = 1e-5)"
      ],
      "metadata": {
        "id": "Xt49fkpjHilR"
      },
      "execution_count": null,
      "outputs": []
    },
    {
      "cell_type": "code",
      "source": [
        "EPOCH = 100\n",
        "\n",
        "for epoch in range(EPOCH + 1):\n",
        "\n",
        "    for batch_idx, samples in enumerate(dataloader): # 중요 : mini-batch 단위로 분리하여 개별학습 진행\n",
        "        print(batch_idx)\n",
        "        print(samples)\n",
        "\n",
        "        x_train, y_train = samples;\n",
        "\n",
        "        prediction = model(x_train)\n",
        "\n",
        "        cost = F.mse_loss(prediction, y_train)\n",
        "\n",
        "        optimizer.zero_grad()\n",
        "        cost.backward()\n",
        "        optimizer.step()\n",
        "\n",
        "        print('Epoch {:4d}/{} Batch {}/{} Cost: {:.6f}'.format(\n",
        "        epoch, EPOCH, batch_idx+1, len(dataloader),\n",
        "        cost.item()\n",
        "        ))\n",
        "\n"
      ],
      "metadata": {
        "id": "7j_ZFgA2HnW2"
      },
      "execution_count": null,
      "outputs": []
    },
    {
      "cell_type": "code",
      "source": [
        "test_var = torch.FloatTensor([73, 80, 75])\n",
        "pred_y = model(test_var)\n",
        "\n",
        "print(\"훈련 후 입력이 73, 80, 75일 때의 예측값 :\", pred_y)"
      ],
      "metadata": {
        "colab": {
          "base_uri": "https://localhost:8080/"
        },
        "id": "l9ZP6JYlIKou",
        "outputId": "1b44a813-30f8-4011-da0b-7961006aee4b"
      },
      "execution_count": null,
      "outputs": [
        {
          "output_type": "stream",
          "name": "stdout",
          "text": [
            "훈련 후 입력이 73, 80, 75일 때의 예측값 : tensor([156.4595], grad_fn=<ViewBackward0>)\n"
          ]
        }
      ]
    },
    {
      "cell_type": "markdown",
      "source": [
        "# Custom Dataset\n",
        "\n",
        "=> torch.utils.data.Dataset을 상속받아서, 직접 커스텀 데이터셋을 만드는 것.\n",
        "\n",
        "__init__, __len__, __getitem__ 메소드들을 오버라이딩(필수)하여 구현한다."
      ],
      "metadata": {
        "id": "km4JhxufI8o9"
      }
    },
    {
      "cell_type": "code",
      "source": [
        "# - - - - - 설명 - - - - -\n",
        "class CustomDataset_Format(torch.utils.data.Dataset):\n",
        "    def __init__(self): # 데이터셋의 전처리를 해주는 부분\n",
        "        return\n",
        "    def __len__(self): # 데이터셋의 길이를 리턴해주는 함수\n",
        "        return\n",
        "    def __getitem__(self, idx): # 데이터셋에서 특정 1개의 샘플을 가져오는 함수\n",
        "        return"
      ],
      "metadata": {
        "id": "7Oz_Pu8vJN3_"
      },
      "execution_count": null,
      "outputs": []
    },
    {
      "cell_type": "code",
      "source": [
        "from torch.utils.data import Dataset\n",
        "\n",
        "class CustomDataset(Dataset):\n",
        "    def __init__(self):\n",
        "        self.x_data = [[73, 80, 75],\n",
        "                       [93, 88, 93],\n",
        "                       [89, 91, 90],\n",
        "                       [96, 98, 100],\n",
        "                       [73, 66, 70]]\n",
        "\n",
        "        self.y_data = [[152], [185], [180], [196], [142]]\n",
        "\n",
        "    def __len__(self):\n",
        "        return len(self.x_data) # training data의 개수를 리턴\n",
        "\n",
        "    def __getitem__(self, idx):\n",
        "        x = torch.FloatTensor(self.x_data[idx])\n",
        "        y = torch.FloatTensor(self.y_data[idx])\n",
        "        return x, y"
      ],
      "metadata": {
        "id": "LDxc7gcdKQRo"
      },
      "execution_count": null,
      "outputs": []
    },
    {
      "cell_type": "code",
      "source": [
        "dataset = CustomDataset() # using default constructor\n",
        "dataloader = DataLoader(dataset, batch_size = 2, shuffle = True)"
      ],
      "metadata": {
        "id": "MHXryeGkKdd8"
      },
      "execution_count": null,
      "outputs": []
    },
    {
      "cell_type": "code",
      "source": [
        "model = torch.nn.Linear(3,1)\n",
        "optimizer = torch.optim.SGD(model.parameters(), lr=1e-5)"
      ],
      "metadata": {
        "id": "odzYmEyBLbZt"
      },
      "execution_count": null,
      "outputs": []
    },
    {
      "cell_type": "code",
      "source": [
        "EPOCH = 20\n",
        "for epoch in range(EPOCH + 1):\n",
        "  for batch_idx, samples in enumerate(dataloader):\n",
        "    # print(batch_idx)\n",
        "    # print(samples)\n",
        "    x_train, y_train = samples\n",
        "    # H(x) 계산\n",
        "    prediction = model(x_train)\n",
        "\n",
        "    # cost 계산\n",
        "    cost = F.mse_loss(prediction, y_train)\n",
        "\n",
        "    # cost로 H(x) 계산\n",
        "    optimizer.zero_grad()\n",
        "    cost.backward()\n",
        "    optimizer.step()\n",
        "\n",
        "    print('Epoch {:4d}/{} Batch {}/{} Cost: {:.6f}'.format(\n",
        "        epoch, EPOCH, batch_idx+1, len(dataloader),\n",
        "        cost.item()\n",
        "        ))"
      ],
      "metadata": {
        "colab": {
          "base_uri": "https://localhost:8080/"
        },
        "id": "tNmmqd__LfgE",
        "outputId": "62a8056f-9e0e-4c60-f3aa-4d285d040d54"
      },
      "execution_count": null,
      "outputs": [
        {
          "output_type": "stream",
          "name": "stdout",
          "text": [
            "Epoch    0/20 Batch 1/3 Cost: 30803.861328\n",
            "Epoch    0/20 Batch 2/3 Cost: 5265.826660\n",
            "Epoch    0/20 Batch 3/3 Cost: 4170.627930\n",
            "Epoch    1/20 Batch 1/3 Cost: 569.302368\n",
            "Epoch    1/20 Batch 2/3 Cost: 211.445892\n",
            "Epoch    1/20 Batch 3/3 Cost: 64.134102\n",
            "Epoch    2/20 Batch 1/3 Cost: 14.095592\n",
            "Epoch    2/20 Batch 2/3 Cost: 5.256630\n",
            "Epoch    2/20 Batch 3/3 Cost: 9.802663\n",
            "Epoch    3/20 Batch 1/3 Cost: 0.093177\n",
            "Epoch    3/20 Batch 2/3 Cost: 2.290503\n",
            "Epoch    3/20 Batch 3/3 Cost: 0.020437\n",
            "Epoch    4/20 Batch 1/3 Cost: 0.248595\n",
            "Epoch    4/20 Batch 2/3 Cost: 2.013259\n",
            "Epoch    4/20 Batch 3/3 Cost: 0.367350\n",
            "Epoch    5/20 Batch 1/3 Cost: 0.006554\n",
            "Epoch    5/20 Batch 2/3 Cost: 2.027069\n",
            "Epoch    5/20 Batch 3/3 Cost: 0.283265\n",
            "Epoch    6/20 Batch 1/3 Cost: 0.005210\n",
            "Epoch    6/20 Batch 2/3 Cost: 2.047884\n",
            "Epoch    6/20 Batch 3/3 Cost: 0.269976\n",
            "Epoch    7/20 Batch 1/3 Cost: 2.050745\n",
            "Epoch    7/20 Batch 2/3 Cost: 0.171277\n",
            "Epoch    7/20 Batch 3/3 Cost: 0.000129\n",
            "Epoch    8/20 Batch 1/3 Cost: 0.008711\n",
            "Epoch    8/20 Batch 2/3 Cost: 2.006219\n",
            "Epoch    8/20 Batch 3/3 Cost: 0.291099\n",
            "Epoch    9/20 Batch 1/3 Cost: 0.194976\n",
            "Epoch    9/20 Batch 2/3 Cost: 0.039152\n",
            "Epoch    9/20 Batch 3/3 Cost: 4.211589\n",
            "Epoch   10/20 Batch 1/3 Cost: 1.088963\n",
            "Epoch   10/20 Batch 2/3 Cost: 1.527459\n",
            "Epoch   10/20 Batch 3/3 Cost: 0.678230\n",
            "Epoch   11/20 Batch 1/3 Cost: 0.341811\n",
            "Epoch   11/20 Batch 2/3 Cost: 2.147695\n",
            "Epoch   11/20 Batch 3/3 Cost: 0.111006\n",
            "Epoch   12/20 Batch 1/3 Cost: 0.313351\n",
            "Epoch   12/20 Batch 2/3 Cost: 1.970476\n",
            "Epoch   12/20 Batch 3/3 Cost: 0.102200\n",
            "Epoch   13/20 Batch 1/3 Cost: 1.873779\n",
            "Epoch   13/20 Batch 2/3 Cost: 0.105742\n",
            "Epoch   13/20 Batch 3/3 Cost: 0.229328\n",
            "Epoch   14/20 Batch 1/3 Cost: 1.915718\n",
            "Epoch   14/20 Batch 2/3 Cost: 0.661360\n",
            "Epoch   14/20 Batch 3/3 Cost: 0.009632\n",
            "Epoch   15/20 Batch 1/3 Cost: 2.027040\n",
            "Epoch   15/20 Batch 2/3 Cost: 0.170802\n",
            "Epoch   15/20 Batch 3/3 Cost: 0.000331\n",
            "Epoch   16/20 Batch 1/3 Cost: 1.770525\n",
            "Epoch   16/20 Batch 2/3 Cost: 0.638725\n",
            "Epoch   16/20 Batch 3/3 Cost: 0.124607\n",
            "Epoch   17/20 Batch 1/3 Cost: 2.010873\n",
            "Epoch   17/20 Batch 2/3 Cost: 0.592911\n",
            "Epoch   17/20 Batch 3/3 Cost: 0.013516\n",
            "Epoch   18/20 Batch 1/3 Cost: 0.155185\n",
            "Epoch   18/20 Batch 2/3 Cost: 2.109690\n",
            "Epoch   18/20 Batch 3/3 Cost: 0.074376\n",
            "Epoch   19/20 Batch 1/3 Cost: 1.716575\n",
            "Epoch   19/20 Batch 2/3 Cost: 0.147219\n",
            "Epoch   19/20 Batch 3/3 Cost: 0.702649\n",
            "Epoch   20/20 Batch 1/3 Cost: 2.190650\n",
            "Epoch   20/20 Batch 2/3 Cost: 0.354396\n",
            "Epoch   20/20 Batch 3/3 Cost: 0.007941\n"
          ]
        }
      ]
    },
    {
      "cell_type": "code",
      "source": [
        "# 임의의 입력 [73, 80, 75]를 선언\n",
        "new_var =  torch.FloatTensor([[73, 80, 75]])\n",
        "# 입력한 값 [73, 80, 75]에 대해서 예측값 y를 리턴받아서 pred_y에 저장\n",
        "pred_y = model(new_var)\n",
        "print(\"훈련 후 입력이 73, 80, 75일 때의 예측값 :\", pred_y)"
      ],
      "metadata": {
        "colab": {
          "base_uri": "https://localhost:8080/"
        },
        "id": "d9J_GA_zLkY1",
        "outputId": "a7ff439e-69a5-4786-e90b-c7e893c81bc0"
      },
      "execution_count": null,
      "outputs": [
        {
          "output_type": "stream",
          "name": "stdout",
          "text": [
            "훈련 후 입력이 73, 80, 75일 때의 예측값 : tensor([[150.0742]], grad_fn=<AddmmBackward0>)\n"
          ]
        }
      ]
    },
    {
      "cell_type": "markdown",
      "source": [
        "# 벡터, 행렬, 텐서 개념 복습\n",
        "\n",
        "- 1차원 : 벡터\n",
        "- 2차원 : 행렬\n",
        "- 3차원 이상 : 텐서"
      ],
      "metadata": {
        "id": "SynK1_gqrCXM"
      }
    },
    {
      "cell_type": "code",
      "source": [
        "# 0차원 텐서(스칼라)\n",
        "d = np.array(5)\n",
        "print('텐서의 차원 :',d.ndim) # 축(axis)의 개수 == 텐서의 차원\n",
        "print('텐서의 크기(shape) :',d.shape)"
      ],
      "metadata": {
        "colab": {
          "base_uri": "https://localhost:8080/"
        },
        "id": "tLVcPd7srJzQ",
        "outputId": "ddbae5af-cf3c-4e92-86a7-1d2d7486868b"
      },
      "execution_count": null,
      "outputs": [
        {
          "output_type": "stream",
          "name": "stdout",
          "text": [
            "텐서의 차원 : 0\n",
            "텐서의 크기(shape) : ()\n"
          ]
        }
      ]
    },
    {
      "cell_type": "code",
      "source": [
        "# 1차원 벡터\n",
        "d = np.array([1, 2])\n",
        "print('텐서의 차원 :',d.ndim) # 축(axis)의 개수 == 텐서의 차원\n",
        "print('텐서의 크기(shape) :',d.shape)"
      ],
      "metadata": {
        "colab": {
          "base_uri": "https://localhost:8080/"
        },
        "id": "qrRPe1yOrN83",
        "outputId": "d84a042b-5d96-4fa4-9244-0781ad2467b9"
      },
      "execution_count": null,
      "outputs": [
        {
          "output_type": "stream",
          "name": "stdout",
          "text": [
            "텐서의 차원 : 1\n",
            "텐서의 크기(shape) : (2,)\n"
          ]
        }
      ]
    },
    {
      "cell_type": "code",
      "source": [
        "# 2차원 행렬\n",
        "d = np.array([[1, 2, 3, 4], [5, 6, 7, 8], [9, 10, 11, 12]])\n",
        "print('텐서의 차원 :',d.ndim)\n",
        "print('텐서의 크기(shape) :',d.shape)"
      ],
      "metadata": {
        "colab": {
          "base_uri": "https://localhost:8080/"
        },
        "id": "qeaZS7ZbrYlO",
        "outputId": "d66db097-f7c3-4e15-c41f-05f178aed48c"
      },
      "execution_count": null,
      "outputs": [
        {
          "output_type": "stream",
          "name": "stdout",
          "text": [
            "텐서의 차원 : 2\n",
            "텐서의 크기(shape) : (3, 4)\n"
          ]
        }
      ]
    },
    {
      "cell_type": "code",
      "source": [
        "# 3차원 텐서(NLP에서 시퀀스 데이터 표현 시 자주 사용)\n",
        "d = np.array([\n",
        "            [[1, 2, 3, 4, 5], [6, 7, 8, 9, 10], [10, 11, 12, 13, 14]],\n",
        "            [[15, 16, 17, 18, 19], [19, 20, 21, 22, 23], [23, 24, 25, 26, 27]]\n",
        "            ])\n",
        "print('텐서의 차원 :',d.ndim) # 대괄호 개수\n",
        "print('텐서의 크기(shape) :',d.shape)"
      ],
      "metadata": {
        "colab": {
          "base_uri": "https://localhost:8080/"
        },
        "id": "bM1rTq8erbsm",
        "outputId": "5aea98f9-d152-4064-a16c-ff75c57f04af"
      },
      "execution_count": null,
      "outputs": [
        {
          "output_type": "stream",
          "name": "stdout",
          "text": [
            "텐서의 차원 : 3\n",
            "텐서의 크기(shape) : (2, 3, 5)\n"
          ]
        }
      ]
    },
    {
      "cell_type": "markdown",
      "source": [
        "### 샘플(Sample)과 특성(Feature)\n",
        "머신러닝에서는 데이터를 셀 수 있는 단위로 구분할 때 각각을 샘플이라고 부르며, 종속변수 y를 예측하기 위한 각각의 독립 변수 x_i를 특성이라고 부른다."
      ],
      "metadata": {
        "id": "PR8XvtnXsX8V"
      }
    },
    {
      "cell_type": "markdown",
      "source": [
        "# 로지스틱 회귀\n",
        "\n",
        "- 로지스틱 회귀는 알고리즘 이름 자체는 회귀이나, 실제로는 분류(Classification) 작업에 사용될 수 있음."
      ],
      "metadata": {
        "id": "pbLpl-ncstki"
      }
    },
    {
      "cell_type": "code",
      "source": [
        "import matplotlib.pyplot as plt\n",
        "def sigmoid(x):\n",
        "    return 1 / (1 + np.exp(-x))\n",
        "\n",
        "x = np.arange(-5.0, 5.0, 0.1)\n",
        "y = sigmoid(x)\n",
        "\n",
        "plt.plot(x, y, 'g')\n",
        "plt.plot([0,0],[1.0,0.0], ':') # 가운데 점선 추가\n",
        "plt.title('Sigmoid Function')\n",
        "plt.show()"
      ],
      "metadata": {
        "colab": {
          "base_uri": "https://localhost:8080/",
          "height": 452
        },
        "id": "GWRJ9Rkjr58P",
        "outputId": "888651ab-31ac-4245-cc65-8860d496e053"
      },
      "execution_count": null,
      "outputs": [
        {
          "output_type": "display_data",
          "data": {
            "text/plain": [
              "<Figure size 640x480 with 1 Axes>"
            ],
            "image/png": "[encoded data removed]"
          },
          "metadata": {}
        }
      ]
    },
    {
      "cell_type": "markdown",
      "source": [
        "### 비용 함수(Cost Function)\n",
        "\n",
        "- 로지스틱 회귀의 가설은 H(x) = sigmoid(W * x + b).\n",
        "- MSE 비용함수 적용 시, 미분하면 선형회귀와 달리 심한 비볼록(non-convex) 형태의 그래프가 도출됨.\n",
        "- 따라서 로그함수를 적용하여 실제 값과 예측 값이 차이가 발생하면 오차가 커지게 해야 함.\n",
        "\n",
        "![스크린샷 2024-07-22 오후 6 25 26](https://github.com/user-attachments/assets/43855c06-9ec4-4a47-af6f-ea5a4476d225)"
      ],
      "metadata": {
        "id": "OZWQ9hfru7J9"
      }
    },
    {
      "cell_type": "code",
      "source": [
        "torch.manual_seed(1)\n",
        "\n",
        "x_data = [[1, 2], [2, 3], [3, 1], [4, 3], [5, 3], [6, 2]]\n",
        "y_data = [[0], [0], [0], [1], [1], [1]]\n",
        "x_train = torch.FloatTensor(x_data)\n",
        "y_train = torch.FloatTensor(y_data)"
      ],
      "metadata": {
        "id": "DP-928nhuaAc"
      },
      "execution_count": null,
      "outputs": []
    },
    {
      "cell_type": "code",
      "source": [
        "print(x_train.shape)\n",
        "W = torch.zeros((2, 1), requires_grad = True) # 크기는 2 x 1이 되어야 함. (행렬 곱을 위해 6 x 2에서 2와 맞춤)\n",
        "b = torch.zeros(1, requires_grad = True)"
      ],
      "metadata": {
        "colab": {
          "base_uri": "https://localhost:8080/"
        },
        "id": "8RMmeA7yw5CI",
        "outputId": "76ffd97d-9004-4248-9a4b-ff7d21d8b2c9"
      },
      "execution_count": null,
      "outputs": [
        {
          "output_type": "stream",
          "name": "stdout",
          "text": [
            "torch.Size([6, 2])\n"
          ]
        }
      ]
    },
    {
      "cell_type": "code",
      "source": [
        "hypothesis = 1 / (1 + torch.exp(-(x_train.matmul(W) + b)))\n",
        "print(hypothesis)\n",
        "\n",
        "print()\n",
        "\n",
        "hypothesis = torch.sigmoid(x_train.matmul(W) + b) # PyTorch 내장 시그모이드 함수\n",
        "print(hypothesis)"
      ],
      "metadata": {
        "colab": {
          "base_uri": "https://localhost:8080/"
        },
        "id": "izDrcU1YxVgt",
        "outputId": "9961752e-8b10-484e-94b3-c6e941141c93"
      },
      "execution_count": null,
      "outputs": [
        {
          "output_type": "stream",
          "name": "stdout",
          "text": [
            "tensor([[0.5000],\n",
            "        [0.5000],\n",
            "        [0.5000],\n",
            "        [0.5000],\n",
            "        [0.5000],\n",
            "        [0.5000]], grad_fn=<MulBackward0>)\n",
            "\n",
            "tensor([[0.5000],\n",
            "        [0.5000],\n",
            "        [0.5000],\n",
            "        [0.5000],\n",
            "        [0.5000],\n",
            "        [0.5000]], grad_fn=<SigmoidBackward0>)\n"
          ]
        }
      ]
    },
    {
      "cell_type": "code",
      "source": [
        "losses = -(y_train * torch.log(hypothesis) + (1 - y_train) * torch.log(1 - hypothesis))\n",
        "cost = losses.mean() ; print(cost)"
      ],
      "metadata": {
        "colab": {
          "base_uri": "https://localhost:8080/"
        },
        "id": "_ZZiAmz7xfrB",
        "outputId": "e81d57cf-e3b4-4f1b-9782-e191cb86f5bc"
      },
      "execution_count": null,
      "outputs": [
        {
          "output_type": "stream",
          "name": "stdout",
          "text": [
            "tensor(0.6931, grad_fn=<MeanBackward0>)\n"
          ]
        }
      ]
    },
    {
      "cell_type": "code",
      "source": [
        "# 위와 동치(로지스틱 회귀의 비용함수인 binary Cross Entropy)\n",
        "F.binary_cross_entropy(hypothesis, y_train)"
      ],
      "metadata": {
        "colab": {
          "base_uri": "https://localhost:8080/"
        },
        "id": "p6oYh239x4OQ",
        "outputId": "78324f17-802b-47cd-e342-4b598db900d2"
      },
      "execution_count": null,
      "outputs": [
        {
          "output_type": "execute_result",
          "data": {
            "text/plain": [
              "tensor(0.6931, grad_fn=<BinaryCrossEntropyBackward0>)"
            ]
          },
          "metadata": {},
          "execution_count": 65
        }
      ]
    },
    {
      "cell_type": "code",
      "source": [
        "optimizer = optim.SGD([W, b], lr = 1)"
      ],
      "metadata": {
        "id": "DQJclCmoyMaN"
      },
      "execution_count": null,
      "outputs": []
    },
    {
      "cell_type": "code",
      "source": [
        "EPOCH = 1000\n",
        "\n",
        "for epoch in range(EPOCH + 1):\n",
        "\n",
        "    hypothesis = torch.sigmoid(x_train.matmul(W) + b)\n",
        "    cost = F.binary_cross_entropy(hypothesis, y_train)\n",
        "\n",
        "    optimizer.zero_grad()\n",
        "    cost.backward()\n",
        "    optimizer.step()\n",
        "\n",
        "    if epoch % 100 == 0:\n",
        "        print('Epoch {:4d}/{} Cost: {:.6f}'.format(\n",
        "            epoch, EPOCH, cost.item()\n",
        "        ))"
      ],
      "metadata": {
        "colab": {
          "base_uri": "https://localhost:8080/"
        },
        "id": "64spmPGjyi-n",
        "outputId": "ec60c0fd-8e54-4bd7-a8c4-c231cd6090f6"
      },
      "execution_count": null,
      "outputs": [
        {
          "output_type": "stream",
          "name": "stdout",
          "text": [
            "Epoch    0/1000 Cost: 0.693147\n",
            "Epoch  100/1000 Cost: 0.134722\n",
            "Epoch  200/1000 Cost: 0.080643\n",
            "Epoch  300/1000 Cost: 0.057900\n",
            "Epoch  400/1000 Cost: 0.045300\n",
            "Epoch  500/1000 Cost: 0.037261\n",
            "Epoch  600/1000 Cost: 0.031672\n",
            "Epoch  700/1000 Cost: 0.027556\n",
            "Epoch  800/1000 Cost: 0.024394\n",
            "Epoch  900/1000 Cost: 0.021888\n",
            "Epoch 1000/1000 Cost: 0.019852\n"
          ]
        }
      ]
    },
    {
      "cell_type": "markdown",
      "source": [
        "***훈련 데이터를 그대로 입력으로 사용했을 떄, 제대로 예측을 수행하는 지 확인하기***"
      ],
      "metadata": {
        "id": "N5yq_Rh1y9K0"
      }
    },
    {
      "cell_type": "code",
      "source": [
        "hypothesis = torch.sigmoid(x_train.matmul(W) + b)\n",
        "print(hypothesis)"
      ],
      "metadata": {
        "colab": {
          "base_uri": "https://localhost:8080/"
        },
        "id": "TuNn6wsXzKe_",
        "outputId": "33182055-a4a3-448a-8057-f00fd2bd061c"
      },
      "execution_count": null,
      "outputs": [
        {
          "output_type": "stream",
          "name": "stdout",
          "text": [
            "tensor([[2.7648e-04],\n",
            "        [3.1608e-02],\n",
            "        [3.8977e-02],\n",
            "        [9.5622e-01],\n",
            "        [9.9823e-01],\n",
            "        [9.9969e-01]], grad_fn=<SigmoidBackward0>)\n"
          ]
        }
      ]
    },
    {
      "cell_type": "code",
      "source": [
        "prediction = hypothesis >= torch.FloatTensor([0.5]) # sigmoid 고려하여, 0.5 넘으면 True, 넘지 않으면 False\n",
        "print(prediction) # y_data [[0], [0], [0], [1], [1], [1]] 과 동일"
      ],
      "metadata": {
        "colab": {
          "base_uri": "https://localhost:8080/"
        },
        "id": "GU1Nnuj8y5eW",
        "outputId": "73329b85-86d5-4ed3-828d-85d73f1d6230"
      },
      "execution_count": null,
      "outputs": [
        {
          "output_type": "stream",
          "name": "stdout",
          "text": [
            "tensor([[False],\n",
            "        [False],\n",
            "        [False],\n",
            "        [ True],\n",
            "        [ True],\n",
            "        [ True]])\n"
          ]
        }
      ]
    },
    {
      "cell_type": "markdown",
      "source": [
        "## nn.Module로 구현하는 로지스틱 회귀\n",
        "\n"
      ],
      "metadata": {
        "id": "onIcTutCzrrc"
      }
    },
    {
      "cell_type": "code",
      "source": [
        "torch.manual_seed(1)\n",
        "\n",
        "x_data = [[1, 2], [2, 3], [3, 1], [4, 3], [5, 3], [6, 2]]\n",
        "y_data = [[0], [0], [0], [1], [1], [1]]\n",
        "x_train = torch.FloatTensor(x_data)\n",
        "y_train = torch.FloatTensor(y_data)"
      ],
      "metadata": {
        "id": "Www3Lqo6JpX1"
      },
      "execution_count": null,
      "outputs": []
    },
    {
      "cell_type": "code",
      "source": [
        "# nn.Sequential() : nn.Module 층을 차례로 쌓을 수 있도록 한다.\n",
        "\n",
        "model = nn.Sequential(\n",
        "    nn.Linear(2, 1),\n",
        "    nn.Sigmoid() # Output Layer : 시그모이드 함수를 거친다.\n",
        ")"
      ],
      "metadata": {
        "id": "GGlqU_aHJa7-"
      },
      "execution_count": null,
      "outputs": []
    },
    {
      "cell_type": "code",
      "source": [
        "optimizer = optim.SGD(model.parameters(), lr = 1)"
      ],
      "metadata": {
        "id": "ifQMz7TGJzKm"
      },
      "execution_count": null,
      "outputs": []
    },
    {
      "cell_type": "code",
      "source": [
        "EPOCH = 1000\n",
        "for epoch in range(EPOCH + 1):\n",
        "    hypothesis = model(x_train)\n",
        "\n",
        "    cost = F.binary_cross_entropy(hypothesis, y_train)\n",
        "\n",
        "    optimizer.zero_grad()\n",
        "    cost.backward()\n",
        "    optimizer.step()\n",
        "\n",
        "    if epoch % 10 == 0:\n",
        "        prediction = hypothesis >= torch.FloatTensor([0.5]) # 예측값 0.5 초과 시, True로 간주\n",
        "        correct_prediction = prediction.float() == y_train # 실제 값과 일치하는 경우만 True로 간주\n",
        "        accuracy = correct_prediction.sum().item() / len(correct_prediction)\n",
        "        print('Epoch {:4d}/{} Cost: {:.6f} Accuracy {:2.2f}%'.format( # 각 에포크마다 정확도를 출력\n",
        "            epoch, EPOCH, cost.item(), accuracy * 100\n",
        "        ))"
      ],
      "metadata": {
        "colab": {
          "base_uri": "https://localhost:8080/"
        },
        "id": "fPhS2fYxKHMp",
        "outputId": "08a30f1f-df23-47cd-e801-8e7a6d0f6732"
      },
      "execution_count": null,
      "outputs": [
        {
          "output_type": "stream",
          "name": "stdout",
          "text": [
            "Epoch    0/1000 Cost: 0.539713 Accuracy 83.33%\n",
            "Epoch   10/1000 Cost: 0.614853 Accuracy 66.67%\n",
            "Epoch   20/1000 Cost: 0.441875 Accuracy 66.67%\n",
            "Epoch   30/1000 Cost: 0.373145 Accuracy 83.33%\n",
            "Epoch   40/1000 Cost: 0.316358 Accuracy 83.33%\n",
            "Epoch   50/1000 Cost: 0.266094 Accuracy 83.33%\n",
            "Epoch   60/1000 Cost: 0.220498 Accuracy 100.00%\n",
            "Epoch   70/1000 Cost: 0.182095 Accuracy 100.00%\n",
            "Epoch   80/1000 Cost: 0.157299 Accuracy 100.00%\n",
            "Epoch   90/1000 Cost: 0.144091 Accuracy 100.00%\n",
            "Epoch  100/1000 Cost: 0.134272 Accuracy 100.00%\n",
            "Epoch  110/1000 Cost: 0.125769 Accuracy 100.00%\n",
            "Epoch  120/1000 Cost: 0.118297 Accuracy 100.00%\n",
            "Epoch  130/1000 Cost: 0.111680 Accuracy 100.00%\n",
            "Epoch  140/1000 Cost: 0.105779 Accuracy 100.00%\n",
            "Epoch  150/1000 Cost: 0.100483 Accuracy 100.00%\n",
            "Epoch  160/1000 Cost: 0.095704 Accuracy 100.00%\n",
            "Epoch  170/1000 Cost: 0.091369 Accuracy 100.00%\n",
            "Epoch  180/1000 Cost: 0.087420 Accuracy 100.00%\n",
            "Epoch  190/1000 Cost: 0.083806 Accuracy 100.00%\n",
            "Epoch  200/1000 Cost: 0.080486 Accuracy 100.00%\n",
            "Epoch  210/1000 Cost: 0.077425 Accuracy 100.00%\n",
            "Epoch  220/1000 Cost: 0.074595 Accuracy 100.00%\n",
            "Epoch  230/1000 Cost: 0.071969 Accuracy 100.00%\n",
            "Epoch  240/1000 Cost: 0.069526 Accuracy 100.00%\n",
            "Epoch  250/1000 Cost: 0.067248 Accuracy 100.00%\n",
            "Epoch  260/1000 Cost: 0.065118 Accuracy 100.00%\n",
            "Epoch  270/1000 Cost: 0.063122 Accuracy 100.00%\n",
            "Epoch  280/1000 Cost: 0.061247 Accuracy 100.00%\n",
            "Epoch  290/1000 Cost: 0.059483 Accuracy 100.00%\n",
            "Epoch  300/1000 Cost: 0.057820 Accuracy 100.00%\n",
            "Epoch  310/1000 Cost: 0.056250 Accuracy 100.00%\n",
            "Epoch  320/1000 Cost: 0.054764 Accuracy 100.00%\n",
            "Epoch  330/1000 Cost: 0.053357 Accuracy 100.00%\n",
            "Epoch  340/1000 Cost: 0.052022 Accuracy 100.00%\n",
            "Epoch  350/1000 Cost: 0.050753 Accuracy 100.00%\n",
            "Epoch  360/1000 Cost: 0.049546 Accuracy 100.00%\n",
            "Epoch  370/1000 Cost: 0.048396 Accuracy 100.00%\n",
            "Epoch  380/1000 Cost: 0.047299 Accuracy 100.00%\n",
            "Epoch  390/1000 Cost: 0.046252 Accuracy 100.00%\n",
            "Epoch  400/1000 Cost: 0.045251 Accuracy 100.00%\n",
            "Epoch  410/1000 Cost: 0.044294 Accuracy 100.00%\n",
            "Epoch  420/1000 Cost: 0.043376 Accuracy 100.00%\n",
            "Epoch  430/1000 Cost: 0.042497 Accuracy 100.00%\n",
            "Epoch  440/1000 Cost: 0.041653 Accuracy 100.00%\n",
            "Epoch  450/1000 Cost: 0.040843 Accuracy 100.00%\n",
            "Epoch  460/1000 Cost: 0.040064 Accuracy 100.00%\n",
            "Epoch  470/1000 Cost: 0.039315 Accuracy 100.00%\n",
            "Epoch  480/1000 Cost: 0.038593 Accuracy 100.00%\n",
            "Epoch  490/1000 Cost: 0.037898 Accuracy 100.00%\n",
            "Epoch  500/1000 Cost: 0.037228 Accuracy 100.00%\n",
            "Epoch  510/1000 Cost: 0.036582 Accuracy 100.00%\n",
            "Epoch  520/1000 Cost: 0.035958 Accuracy 100.00%\n",
            "Epoch  530/1000 Cost: 0.035356 Accuracy 100.00%\n",
            "Epoch  540/1000 Cost: 0.034773 Accuracy 100.00%\n",
            "Epoch  550/1000 Cost: 0.034210 Accuracy 100.00%\n",
            "Epoch  560/1000 Cost: 0.033664 Accuracy 100.00%\n",
            "Epoch  570/1000 Cost: 0.033137 Accuracy 100.00%\n",
            "Epoch  580/1000 Cost: 0.032625 Accuracy 100.00%\n",
            "Epoch  590/1000 Cost: 0.032130 Accuracy 100.00%\n",
            "Epoch  600/1000 Cost: 0.031649 Accuracy 100.00%\n",
            "Epoch  610/1000 Cost: 0.031183 Accuracy 100.00%\n",
            "Epoch  620/1000 Cost: 0.030730 Accuracy 100.00%\n",
            "Epoch  630/1000 Cost: 0.030291 Accuracy 100.00%\n",
            "Epoch  640/1000 Cost: 0.029864 Accuracy 100.00%\n",
            "Epoch  650/1000 Cost: 0.029449 Accuracy 100.00%\n",
            "Epoch  660/1000 Cost: 0.029046 Accuracy 100.00%\n",
            "Epoch  670/1000 Cost: 0.028654 Accuracy 100.00%\n",
            "Epoch  680/1000 Cost: 0.028272 Accuracy 100.00%\n",
            "Epoch  690/1000 Cost: 0.027900 Accuracy 100.00%\n",
            "Epoch  700/1000 Cost: 0.027538 Accuracy 100.00%\n",
            "Epoch  710/1000 Cost: 0.027186 Accuracy 100.00%\n",
            "Epoch  720/1000 Cost: 0.026842 Accuracy 100.00%\n",
            "Epoch  730/1000 Cost: 0.026507 Accuracy 100.00%\n",
            "Epoch  740/1000 Cost: 0.026181 Accuracy 100.00%\n",
            "Epoch  750/1000 Cost: 0.025862 Accuracy 100.00%\n",
            "Epoch  760/1000 Cost: 0.025552 Accuracy 100.00%\n",
            "Epoch  770/1000 Cost: 0.025248 Accuracy 100.00%\n",
            "Epoch  780/1000 Cost: 0.024952 Accuracy 100.00%\n",
            "Epoch  790/1000 Cost: 0.024663 Accuracy 100.00%\n",
            "Epoch  800/1000 Cost: 0.024381 Accuracy 100.00%\n",
            "Epoch  810/1000 Cost: 0.024104 Accuracy 100.00%\n",
            "Epoch  820/1000 Cost: 0.023835 Accuracy 100.00%\n",
            "Epoch  830/1000 Cost: 0.023571 Accuracy 100.00%\n",
            "Epoch  840/1000 Cost: 0.023313 Accuracy 100.00%\n",
            "Epoch  850/1000 Cost: 0.023061 Accuracy 100.00%\n",
            "Epoch  860/1000 Cost: 0.022814 Accuracy 100.00%\n",
            "Epoch  870/1000 Cost: 0.022572 Accuracy 100.00%\n",
            "Epoch  880/1000 Cost: 0.022336 Accuracy 100.00%\n",
            "Epoch  890/1000 Cost: 0.022104 Accuracy 100.00%\n",
            "Epoch  900/1000 Cost: 0.021877 Accuracy 100.00%\n",
            "Epoch  910/1000 Cost: 0.021655 Accuracy 100.00%\n",
            "Epoch  920/1000 Cost: 0.021437 Accuracy 100.00%\n",
            "Epoch  930/1000 Cost: 0.021224 Accuracy 100.00%\n",
            "Epoch  940/1000 Cost: 0.021015 Accuracy 100.00%\n",
            "Epoch  950/1000 Cost: 0.020810 Accuracy 100.00%\n",
            "Epoch  960/1000 Cost: 0.020609 Accuracy 100.00%\n",
            "Epoch  970/1000 Cost: 0.020412 Accuracy 100.00%\n",
            "Epoch  980/1000 Cost: 0.020219 Accuracy 100.00%\n",
            "Epoch  990/1000 Cost: 0.020029 Accuracy 100.00%\n",
            "Epoch 1000/1000 Cost: 0.019843 Accuracy 100.00%\n"
          ]
        }
      ]
    },
    {
      "cell_type": "markdown",
      "source": [
        "## 클래스로 구현하는 로지스틱 회귀"
      ],
      "metadata": {
        "id": "ii39LFITLNwK"
      }
    },
    {
      "cell_type": "code",
      "source": [
        "torch.manual_seed(1)\n",
        "x_data = [[1, 2], [2, 3], [3, 1], [4, 3], [5, 3], [6, 2]]\n",
        "y_data = [[0], [0], [0], [1], [1], [1]]\n",
        "x_train = torch.FloatTensor(x_data)\n",
        "y_train = torch.FloatTensor(y_data)"
      ],
      "metadata": {
        "id": "1CPpJeXoMTZx"
      },
      "execution_count": null,
      "outputs": []
    },
    {
      "cell_type": "code",
      "source": [
        "class BinaryClassifier(nn.Module):\n",
        "    def __init__(self):\n",
        "        super().__init__() # nn.Module 클래스의 속성들을 가지고 초기화됨.\n",
        "        self.linear = nn.Linear(2, 1)\n",
        "        self.sigmoid = nn.Sigmoid()\n",
        "\n",
        "    def forward(self, x): # forward 연산 진행. model 객체를 데이터를 매개변수로 하여 함께 호출 시, 자동실행됨.\n",
        "        return self.sigmoid(self.linear(x))"
      ],
      "metadata": {
        "id": "P-ocDGv2K7_B"
      },
      "execution_count": null,
      "outputs": []
    },
    {
      "cell_type": "code",
      "source": [
        "model = BinaryClassifier()"
      ],
      "metadata": {
        "id": "SE4Ichu7MN8o"
      },
      "execution_count": null,
      "outputs": []
    },
    {
      "cell_type": "code",
      "source": [
        "optimizer = optim.SGD(model.parameters(), lr = 1)"
      ],
      "metadata": {
        "id": "QowUreUqMXfI"
      },
      "execution_count": null,
      "outputs": []
    },
    {
      "cell_type": "code",
      "source": [
        "EPOCH = 1000\n",
        "for epoch in range(EPOCH + 1):\n",
        "\n",
        "    hypothesis = model(x_train) # forward\n",
        "\n",
        "    cost = F.binary_cross_entropy(hypothesis, y_train)\n",
        "\n",
        "    optimizer.zero_grad()\n",
        "    cost.backward()\n",
        "    optimizer.step()\n",
        "\n",
        "    if epoch % 10 == 0:\n",
        "        prediction = hypothesis >= torch.FloatTensor([0.5])\n",
        "        correct_prediction = prediction.float() == y_train # bool 값이 저장됨\n",
        "        accuracy = correct_prediction.sum().item() / len(correct_prediction) # True의 비율\n",
        "        print('Epoch {:4d}/{} Cost: {:.6f} Accuracy {:2.2f}%'.format(\n",
        "            epoch, EPOCH, cost.item(), accuracy * 100,\n",
        "        ))"
      ],
      "metadata": {
        "colab": {
          "base_uri": "https://localhost:8080/"
        },
        "id": "luYytr6JMbpd",
        "outputId": "2a215b0e-dba1-40f0-d714-28737f810b13"
      },
      "execution_count": null,
      "outputs": [
        {
          "output_type": "stream",
          "name": "stdout",
          "text": [
            "Epoch    0/1000 Cost: 0.539713 Accuracy 83.33%\n",
            "Epoch   10/1000 Cost: 0.614853 Accuracy 66.67%\n",
            "Epoch   20/1000 Cost: 0.441875 Accuracy 66.67%\n",
            "Epoch   30/1000 Cost: 0.373145 Accuracy 83.33%\n",
            "Epoch   40/1000 Cost: 0.316358 Accuracy 83.33%\n",
            "Epoch   50/1000 Cost: 0.266094 Accuracy 83.33%\n",
            "Epoch   60/1000 Cost: 0.220498 Accuracy 100.00%\n",
            "Epoch   70/1000 Cost: 0.182095 Accuracy 100.00%\n",
            "Epoch   80/1000 Cost: 0.157299 Accuracy 100.00%\n",
            "Epoch   90/1000 Cost: 0.144091 Accuracy 100.00%\n",
            "Epoch  100/1000 Cost: 0.134272 Accuracy 100.00%\n",
            "Epoch  110/1000 Cost: 0.125769 Accuracy 100.00%\n",
            "Epoch  120/1000 Cost: 0.118297 Accuracy 100.00%\n",
            "Epoch  130/1000 Cost: 0.111680 Accuracy 100.00%\n",
            "Epoch  140/1000 Cost: 0.105779 Accuracy 100.00%\n",
            "Epoch  150/1000 Cost: 0.100483 Accuracy 100.00%\n",
            "Epoch  160/1000 Cost: 0.095704 Accuracy 100.00%\n",
            "Epoch  170/1000 Cost: 0.091369 Accuracy 100.00%\n",
            "Epoch  180/1000 Cost: 0.087420 Accuracy 100.00%\n",
            "Epoch  190/1000 Cost: 0.083806 Accuracy 100.00%\n",
            "Epoch  200/1000 Cost: 0.080486 Accuracy 100.00%\n",
            "Epoch  210/1000 Cost: 0.077425 Accuracy 100.00%\n",
            "Epoch  220/1000 Cost: 0.074595 Accuracy 100.00%\n",
            "Epoch  230/1000 Cost: 0.071969 Accuracy 100.00%\n",
            "Epoch  240/1000 Cost: 0.069526 Accuracy 100.00%\n",
            "Epoch  250/1000 Cost: 0.067248 Accuracy 100.00%\n",
            "Epoch  260/1000 Cost: 0.065118 Accuracy 100.00%\n",
            "Epoch  270/1000 Cost: 0.063122 Accuracy 100.00%\n",
            "Epoch  280/1000 Cost: 0.061247 Accuracy 100.00%\n",
            "Epoch  290/1000 Cost: 0.059483 Accuracy 100.00%\n",
            "Epoch  300/1000 Cost: 0.057820 Accuracy 100.00%\n",
            "Epoch  310/1000 Cost: 0.056250 Accuracy 100.00%\n",
            "Epoch  320/1000 Cost: 0.054764 Accuracy 100.00%\n",
            "Epoch  330/1000 Cost: 0.053357 Accuracy 100.00%\n",
            "Epoch  340/1000 Cost: 0.052022 Accuracy 100.00%\n",
            "Epoch  350/1000 Cost: 0.050753 Accuracy 100.00%\n",
            "Epoch  360/1000 Cost: 0.049546 Accuracy 100.00%\n",
            "Epoch  370/1000 Cost: 0.048396 Accuracy 100.00%\n",
            "Epoch  380/1000 Cost: 0.047299 Accuracy 100.00%\n",
            "Epoch  390/1000 Cost: 0.046252 Accuracy 100.00%\n",
            "Epoch  400/1000 Cost: 0.045251 Accuracy 100.00%\n",
            "Epoch  410/1000 Cost: 0.044294 Accuracy 100.00%\n",
            "Epoch  420/1000 Cost: 0.043376 Accuracy 100.00%\n",
            "Epoch  430/1000 Cost: 0.042497 Accuracy 100.00%\n",
            "Epoch  440/1000 Cost: 0.041653 Accuracy 100.00%\n",
            "Epoch  450/1000 Cost: 0.040843 Accuracy 100.00%\n",
            "Epoch  460/1000 Cost: 0.040064 Accuracy 100.00%\n",
            "Epoch  470/1000 Cost: 0.039315 Accuracy 100.00%\n",
            "Epoch  480/1000 Cost: 0.038593 Accuracy 100.00%\n",
            "Epoch  490/1000 Cost: 0.037898 Accuracy 100.00%\n",
            "Epoch  500/1000 Cost: 0.037228 Accuracy 100.00%\n",
            "Epoch  510/1000 Cost: 0.036582 Accuracy 100.00%\n",
            "Epoch  520/1000 Cost: 0.035958 Accuracy 100.00%\n",
            "Epoch  530/1000 Cost: 0.035356 Accuracy 100.00%\n",
            "Epoch  540/1000 Cost: 0.034773 Accuracy 100.00%\n",
            "Epoch  550/1000 Cost: 0.034210 Accuracy 100.00%\n",
            "Epoch  560/1000 Cost: 0.033664 Accuracy 100.00%\n",
            "Epoch  570/1000 Cost: 0.033137 Accuracy 100.00%\n",
            "Epoch  580/1000 Cost: 0.032625 Accuracy 100.00%\n",
            "Epoch  590/1000 Cost: 0.032130 Accuracy 100.00%\n",
            "Epoch  600/1000 Cost: 0.031649 Accuracy 100.00%\n",
            "Epoch  610/1000 Cost: 0.031183 Accuracy 100.00%\n",
            "Epoch  620/1000 Cost: 0.030730 Accuracy 100.00%\n",
            "Epoch  630/1000 Cost: 0.030291 Accuracy 100.00%\n",
            "Epoch  640/1000 Cost: 0.029864 Accuracy 100.00%\n",
            "Epoch  650/1000 Cost: 0.029449 Accuracy 100.00%\n",
            "Epoch  660/1000 Cost: 0.029046 Accuracy 100.00%\n",
            "Epoch  670/1000 Cost: 0.028654 Accuracy 100.00%\n",
            "Epoch  680/1000 Cost: 0.028272 Accuracy 100.00%\n",
            "Epoch  690/1000 Cost: 0.027900 Accuracy 100.00%\n",
            "Epoch  700/1000 Cost: 0.027538 Accuracy 100.00%\n",
            "Epoch  710/1000 Cost: 0.027186 Accuracy 100.00%\n",
            "Epoch  720/1000 Cost: 0.026842 Accuracy 100.00%\n",
            "Epoch  730/1000 Cost: 0.026507 Accuracy 100.00%\n",
            "Epoch  740/1000 Cost: 0.026181 Accuracy 100.00%\n",
            "Epoch  750/1000 Cost: 0.025862 Accuracy 100.00%\n",
            "Epoch  760/1000 Cost: 0.025552 Accuracy 100.00%\n",
            "Epoch  770/1000 Cost: 0.025248 Accuracy 100.00%\n",
            "Epoch  780/1000 Cost: 0.024952 Accuracy 100.00%\n",
            "Epoch  790/1000 Cost: 0.024663 Accuracy 100.00%\n",
            "Epoch  800/1000 Cost: 0.024381 Accuracy 100.00%\n",
            "Epoch  810/1000 Cost: 0.024104 Accuracy 100.00%\n",
            "Epoch  820/1000 Cost: 0.023835 Accuracy 100.00%\n",
            "Epoch  830/1000 Cost: 0.023571 Accuracy 100.00%\n",
            "Epoch  840/1000 Cost: 0.023313 Accuracy 100.00%\n",
            "Epoch  850/1000 Cost: 0.023061 Accuracy 100.00%\n",
            "Epoch  860/1000 Cost: 0.022814 Accuracy 100.00%\n",
            "Epoch  870/1000 Cost: 0.022572 Accuracy 100.00%\n",
            "Epoch  880/1000 Cost: 0.022336 Accuracy 100.00%\n",
            "Epoch  890/1000 Cost: 0.022104 Accuracy 100.00%\n",
            "Epoch  900/1000 Cost: 0.021877 Accuracy 100.00%\n",
            "Epoch  910/1000 Cost: 0.021655 Accuracy 100.00%\n",
            "Epoch  920/1000 Cost: 0.021437 Accuracy 100.00%\n",
            "Epoch  930/1000 Cost: 0.021224 Accuracy 100.00%\n",
            "Epoch  940/1000 Cost: 0.021015 Accuracy 100.00%\n",
            "Epoch  950/1000 Cost: 0.020810 Accuracy 100.00%\n",
            "Epoch  960/1000 Cost: 0.020609 Accuracy 100.00%\n",
            "Epoch  970/1000 Cost: 0.020412 Accuracy 100.00%\n",
            "Epoch  980/1000 Cost: 0.020219 Accuracy 100.00%\n",
            "Epoch  990/1000 Cost: 0.020029 Accuracy 100.00%\n",
            "Epoch 1000/1000 Cost: 0.019843 Accuracy 100.00%\n"
          ]
        }
      ]
    },
    {
      "cell_type": "markdown",
      "source": [
        "# 소프트맥스 회귀(Softmax Regression)\n",
        "-> 3개 이상의 선택지로부터 1개를 선택하는 문제인 다중 클래스 분류(Multiclass Classification)를 풀기 위함.\n",
        "\n",
        "## 원-핫 인코딩\n",
        "-> 선택지의 개수만큼 차원을 가지면서, 각 선택지의 인덱스에 해당하는 원소에는 1, 나머지 원소에는 모두 0의 값을 가지도록 인코딩\n",
        "\n",
        "- 대부분의 다중 클래스 분류 문제가 각 클래스 간의 관계가 균등하다는 점에서 적절한 표현 방법임.\n",
        "\n",
        "- 일반적인 다중 클래스 분류 문제에서 레이블링 방법으로 정수 인코딩보다는, \"원-핫 인코딩\"을 사용하는 것이 보다 클래스의 성질을 잘 표현하였다고 할 수 있다.\n",
        "    - 각 클래스가 순서의 의미를 갖고 있어서, 회귀를 통해서 분류 문제를 풀 수 있는 경우 (ex. baby, child, adolescent, adult) 에는 정수 인코딩을 사용하는 것이 바람직하다.\n",
        "    - 하지만, \"일반적인 분류 문제\"에서는, 각 클래스가 순서의 의미를 내포하고 있지 않으므로 **\"각 클래스 간의 오차는 균등\"**해야 한다. 원-핫 인코딩은 정수 인코딩과 달리 분류 문제의 모든 클래스 간의 관계를 균등하게 분배할 수 있다.\n",
        "\n",
        "- 모든 클래스에 대해서 원-핫 인코딩을 통해 얻은 원-핫 벡터들은, 모든 쌍에 대해서 유클리드 거리를 구해도 전부 동일하다. 이는 원-핫 벡터의 관계의 무작위성이며 단어의 유사성을 구할 수 없다는 단점이 존재한다."
      ],
      "metadata": {
        "id": "MsTanTdMNxKj"
      }
    },
    {
      "cell_type": "markdown",
      "source": [
        "## 추가 정리\n",
        "\n",
        "-> 소프트맥스 회귀는 확률의 총합이 1이 되는 아이디어를 다중 클래스 분류 문제에 적용한다. 각 선택지가 정답일 확률이 도출된다.\n",
        "\n",
        "### 방법\n",
        "- 선택지의 개수만큼의 차원을 가지는 벡터를 만들고, 해당 벡터가 softmax 함수를 통과하여 확률 값으로 변환한다. softmax 함수는 분류해야 하는 클래스의 총 개수를 k라고 할 때, k차원의 벡터를 입력받아 각 클래스에 대한 확률을 추정한다.\n",
        "- softmax 함수의 \"최종 리턴값\"은, 모든 벡터 원소의 값을 0~1 사이의 확률값으로 변경한 \"k차원의 벡터\"가 됨.\n",
        "\n",
        "### 차원 축소 방법\n",
        "- 샘플 데이터 벡터를 -> softmax 함수의 입력 벡터 z의 차원 수 만큼의 결과값이 나오도록 가중치 곱을 진행한다. FC Layer로 연결 후, 학습 과정에서 오차를 최소화하는 가중치 값을 업데이트한다.\n",
        "- 소프트맥스 회귀에서는 실제 값을 원-핫 벡터로 표현한다. 예측값과 실제값의 오차를 계산한다. 이때 오차를 계산하는 비용함수로 **크로스(교차) 엔트로피 함수**를 사용한다.\n"
      ],
      "metadata": {
        "id": "KMTVpwswoQBg"
      }
    },
    {
      "cell_type": "code",
      "source": [
        "torch.manual_seed(1)\n",
        "z = torch.FloatTensor([1, 2, 3])\n",
        "\n",
        "# hypothesis = F.softmax(z) # dim 옵션 필요. 누락 시 UserWarning 발생\n",
        "hypothesis = F.softmax(z, dim = 0) # 첫 번째 차원에 대해서 소프트맥스 함수를 적용한다는 의미\n",
        "print(hypothesis)\n",
        "print(sum(hypothesis))"
      ],
      "metadata": {
        "colab": {
          "base_uri": "https://localhost:8080/"
        },
        "id": "uZ3WvIx1oONB",
        "outputId": "b1fd6926-5a9b-4cf9-c166-bfbb5b603ba5"
      },
      "execution_count": null,
      "outputs": [
        {
          "output_type": "stream",
          "name": "stdout",
          "text": [
            "tensor([0.0900, 0.2447, 0.6652])\n",
            "tensor(1.)\n"
          ]
        }
      ]
    },
    {
      "cell_type": "code",
      "source": [
        "# - - - softmax의 loss function 구현 - - -\n",
        "torch.manual_seed(1)\n",
        "z = torch.rand(3, 5, requires_grad = True) # 임의의 3(샘플 개수) x 5 행렬의 크기를 가진 텐서 생성\n",
        "hypothesis = F.softmax(z, dim = 1) # 각 샘플에 대해서 softmax를 적용해야 하므로, 두 번째 차원에 대해서 소프트맥스 함수 적용\n",
        "\n",
        "y = torch.randint(5, (3, )).long()\n",
        "\n",
        "# 각 레이블에 대해 One-Hot Encoding 수행\n",
        "y_one_hot = torch.zeros_like(hypothesis) # zeros_like(x) 메소드 : x와 동일한 차원(3 x 5) + 모든 원소가 0인 텐서 생성\n",
        "y_one_hot.scatter_(1, y.unsqueeze(1), 1) # 연산 뒤에 '_'를 붙이면 inplace 연산!\n",
        "# y.unsqueeze(1) : (3, )의 크기를 가졌던 y 텐서가 -> (3 x 1) 텐서가 된다.\n",
        "print(y.unsqueeze(1))\n",
        "# 세 번째 인자에 숫자 1을 넣어줌으로써, y.unsqueeze(1)이 알려주는 위치에 숫자 1을 넣음.\n",
        "\n",
        "print(y_one_hot)\n",
        "\n"
      ],
      "metadata": {
        "colab": {
          "base_uri": "https://localhost:8080/"
        },
        "id": "aeBJzApzyOh3",
        "outputId": "7cdb80a5-9481-4944-862e-9612eb33cef7"
      },
      "execution_count": null,
      "outputs": [
        {
          "output_type": "stream",
          "name": "stdout",
          "text": [
            "tensor([[0],\n",
            "        [2],\n",
            "        [1]])\n",
            "tensor([[1., 0., 0., 0., 0.],\n",
            "        [0., 0., 1., 0., 0.],\n",
            "        [0., 1., 0., 0., 0.]])\n"
          ]
        }
      ]
    },
    {
      "cell_type": "markdown",
      "source": [
        "![스크린샷 2024-07-25 오후 9 20 03](https://github.com/user-attachments/assets/4c472e5f-53f7-4b4e-80a7-ccf4474adb00)\n"
      ],
      "metadata": {
        "id": "gEdmdVC41Qpq"
      }
    },
    {
      "cell_type": "markdown",
      "source": [
        "- F.nll_loss() : One-Hot Vector를 따로 구현해서 넣을 필요 없이, 바로 실제 값을 인자로 사용하여 변환 후 계산해준다. nll == Negative Log Likelihood."
      ],
      "metadata": {
        "id": "pKQQeGaN2_jK"
      }
    },
    {
      "cell_type": "code",
      "source": [
        "# - - - low-level 구현 - - -\n",
        "cost = (y_one_hot * -torch.log(hypothesis)).sum(dim = 1).mean() # dim = 1로 설정해야 함에 유의\n",
        "print(\"cost(low-lev) :\", cost)\n",
        "\n",
        "# - - - high-level 구현 - - -\n",
        "# F.log_softmax() = F.softmax() + torch.log(),\n",
        "# F.cross_entropy() = F.log_softmax() + F.nll_loss()\n",
        "cost = F.cross_entropy(z, y) # y를 수동으로 원-핫 인코딩할 필요 없음.\n",
        "print(\"cost(high-lev) :\", cost)"
      ],
      "metadata": {
        "colab": {
          "base_uri": "https://localhost:8080/"
        },
        "id": "ScEDt_6f0rbR",
        "outputId": "1ab5d1e5-219e-46f3-bfb0-2198fe0cff60"
      },
      "execution_count": null,
      "outputs": [
        {
          "output_type": "stream",
          "name": "stdout",
          "text": [
            "cost(low-lev) : tensor(1.4689, grad_fn=<MeanBackward0>)\n",
            "cost(high-lev) : tensor(1.4689, grad_fn=<NllLossBackward0>)\n"
          ]
        }
      ]
    },
    {
      "cell_type": "markdown",
      "source": [
        "# 소프트맥스 회귀 구현하기"
      ],
      "metadata": {
        "id": "ICZFgMw23p80"
      }
    },
    {
      "cell_type": "code",
      "source": [
        "torch.manual_seed(1)\n",
        "\n",
        "x_train = [[1, 2, 1, 1],\n",
        "           [2, 1, 3, 2],\n",
        "           [3, 1, 3, 4],\n",
        "           [4, 1, 5, 5],\n",
        "           [1, 7, 5, 5],\n",
        "           [1, 2, 5, 6],\n",
        "           [1, 6, 6, 6],\n",
        "           [1, 7, 7, 7]]\n",
        "y_train = [2, 2, 2, 1, 1, 1, 0, 0] # 각 샘플에 대한 레이블이며, \"0 ~ 2\" 총 3개의 클래스가 존재하는 상태\n",
        "x_train = torch.FloatTensor(x_train)\n",
        "y_train = torch.LongTensor(y_train) # 정수 사용 시, LongTensor 메소드 사용"
      ],
      "metadata": {
        "id": "-oxr1TZ43UhP"
      },
      "execution_count": null,
      "outputs": []
    },
    {
      "cell_type": "markdown",
      "source": [
        "## Low-Level cost function implementation"
      ],
      "metadata": {
        "id": "Khmp3ytn4p2p"
      }
    },
    {
      "cell_type": "code",
      "source": [
        "print(x_train.shape) ; print(y_train.shape)"
      ],
      "metadata": {
        "colab": {
          "base_uri": "https://localhost:8080/"
        },
        "id": "j5aV7rRV3_wc",
        "outputId": "a91bb837-7711-424f-a03a-1cdc97d64860"
      },
      "execution_count": null,
      "outputs": [
        {
          "output_type": "stream",
          "name": "stdout",
          "text": [
            "torch.Size([8, 4])\n",
            "torch.Size([8])\n"
          ]
        }
      ]
    },
    {
      "cell_type": "code",
      "source": [
        "# y_train에 원-핫 인코딩한 결과는 (8 x 3) 텐서 형태가 되어야 함\n",
        "y_one_hot = torch.zeros(8, 3)\n",
        "y_one_hot.scatter_(1, y_train.unsqueeze(1), 1)\n",
        "print(y_one_hot) # 2, 2, 2, 1, 1, 1, 0, 0"
      ],
      "metadata": {
        "colab": {
          "base_uri": "https://localhost:8080/"
        },
        "id": "KFPcs90q4uFe",
        "outputId": "c219e9aa-f1af-4d7d-9c9e-9254662cb6f3"
      },
      "execution_count": null,
      "outputs": [
        {
          "output_type": "stream",
          "name": "stdout",
          "text": [
            "tensor([[0., 0., 1.],\n",
            "        [0., 0., 1.],\n",
            "        [0., 0., 1.],\n",
            "        [0., 1., 0.],\n",
            "        [0., 1., 0.],\n",
            "        [0., 1., 0.],\n",
            "        [1., 0., 0.],\n",
            "        [1., 0., 0.]])\n"
          ]
        }
      ]
    },
    {
      "cell_type": "code",
      "source": [
        "# 최종적으로, W(eight) 행렬의 크기는 4 x 3이 되어야 한다.\n",
        "W = torch.zeros((4, 3), requires_grad = True)\n",
        "b = torch.zeros((1, 3), requires_grad = True)\n",
        "\n",
        "optimizer = optim.SGD([W, b], lr = 0.1)"
      ],
      "metadata": {
        "id": "qxvnYfk84427"
      },
      "execution_count": null,
      "outputs": []
    },
    {
      "cell_type": "code",
      "source": [
        "EPOCH = 1000\n",
        "for epoch in range(EPOCH + 1):\n",
        "    hypothesis = F.softmax(x_train.matmul(W) + b, dim = 1) # [1, 2, 1, 1], ... 에 적용해야 함\n",
        "\n",
        "    # cost function\n",
        "    cost = (y_one_hot * -torch.log(hypothesis)).sum(dim = 1).mean()\n",
        "\n",
        "    # H(x) 개선\n",
        "    optimizer.zero_grad()\n",
        "    cost.backward()\n",
        "    optimizer.step()\n",
        "\n",
        "    if epoch % 100 == 0:\n",
        "        print('Epoch {:4d}/{} Cost: {:.6f}'.format(\n",
        "            epoch, EPOCH, cost.item()\n",
        "        ))"
      ],
      "metadata": {
        "colab": {
          "base_uri": "https://localhost:8080/"
        },
        "id": "CTo1OM1d6PwW",
        "outputId": "29afc77b-cd90-4464-d78e-3a2304484439"
      },
      "execution_count": null,
      "outputs": [
        {
          "output_type": "stream",
          "name": "stdout",
          "text": [
            "Epoch    0/1000 Cost: 1.098612\n",
            "Epoch  100/1000 Cost: 0.704199\n",
            "Epoch  200/1000 Cost: 0.622999\n",
            "Epoch  300/1000 Cost: 0.565717\n",
            "Epoch  400/1000 Cost: 0.515291\n",
            "Epoch  500/1000 Cost: 0.467661\n",
            "Epoch  600/1000 Cost: 0.421278\n",
            "Epoch  700/1000 Cost: 0.375402\n",
            "Epoch  800/1000 Cost: 0.329766\n",
            "Epoch  900/1000 Cost: 0.285072\n",
            "Epoch 1000/1000 Cost: 0.248155\n"
          ]
        }
      ]
    },
    {
      "cell_type": "markdown",
      "source": [
        "## High-Level cost function implementation"
      ],
      "metadata": {
        "id": "vzKT5Xwv6gWw"
      }
    },
    {
      "cell_type": "code",
      "source": [
        "W = torch.zeros((4, 3), requires_grad = True)\n",
        "b = torch.zeros((1, 3), requires_grad = True)\n",
        "optimizer = optim.SGD([W, b], lr = 0.1)\n",
        "\n",
        "EPOCH = 1000\n",
        "for epoch in range(EPOCH + 1):\n",
        "    hypothesis = x_train.matmul(W) + b\n",
        "    # z = x_train.matmul(W) + b\n",
        "\n",
        "    cost = F.cross_entropy(hypothesis, y_train) # hypothesis <=> z\n",
        "\n",
        "    optimizer.zero_grad()\n",
        "    cost.backward()\n",
        "    optimizer.step()\n",
        "\n",
        "    if epoch % 100 == 0:\n",
        "        print('Epoch {:4d}/{} Cost: {:.6f}'.format(\n",
        "            epoch, EPOCH, cost.item()\n",
        "        ))"
      ],
      "metadata": {
        "colab": {
          "base_uri": "https://localhost:8080/"
        },
        "id": "usB33heS7O7_",
        "outputId": "1fc0c73d-9309-492a-ad07-5a1cd6bf033b"
      },
      "execution_count": null,
      "outputs": [
        {
          "output_type": "stream",
          "name": "stdout",
          "text": [
            "Epoch    0/1000 Cost: 1.098612\n",
            "Epoch  100/1000 Cost: 0.704199\n",
            "Epoch  200/1000 Cost: 0.623000\n",
            "Epoch  300/1000 Cost: 0.565717\n",
            "Epoch  400/1000 Cost: 0.515291\n",
            "Epoch  500/1000 Cost: 0.467662\n",
            "Epoch  600/1000 Cost: 0.421278\n",
            "Epoch  700/1000 Cost: 0.375402\n",
            "Epoch  800/1000 Cost: 0.329766\n",
            "Epoch  900/1000 Cost: 0.285073\n",
            "Epoch 1000/1000 Cost: 0.248155\n"
          ]
        }
      ]
    },
    {
      "cell_type": "markdown",
      "source": [
        "## Class implementation"
      ],
      "metadata": {
        "id": "0dMaP-B-79co"
      }
    },
    {
      "cell_type": "code",
      "source": [
        "torch.manual_seed(1)\n",
        "\n",
        "x_train = [[1, 2, 1, 1],\n",
        "           [2, 1, 3, 2],\n",
        "           [3, 1, 3, 4],\n",
        "           [4, 1, 5, 5],\n",
        "           [1, 7, 5, 5],\n",
        "           [1, 2, 5, 6],\n",
        "           [1, 6, 6, 6],\n",
        "           [1, 7, 7, 7]]\n",
        "y_train = [2, 2, 2, 1, 1, 1, 0, 0]  # 각 샘플에 대한 레이블이며, \"0 ~ 2\" 총 3개의 클래스가 존재하는 상태\n",
        "x_train = torch.FloatTensor(x_train)\n",
        "y_train = torch.LongTensor(y_train)  # 정수 사용 시, LongTensor 메소드 사용\n",
        "\n",
        "# Normalize the input data(Z-score)\n",
        "x_train = (x_train - x_train.mean(dim=0)) / x_train.std(dim=0)\n",
        "\n",
        "class SoftmaxClassifierModel(nn.Module):\n",
        "    def __init__(self):\n",
        "        super().__init__()\n",
        "        self.linear = nn.Linear(4, 3)  # 4개의 특성을 가지고 3개의 클래스로 분류해야 하기 떄문에 (4 x 3)\n",
        "        nn.init.kaiming_normal_(self.linear.weight)  # Initialize weights with Kaiming He initialization\n",
        "\n",
        "    def forward(self, x):\n",
        "        return self.linear(x)\n",
        "\n",
        "model = SoftmaxClassifierModel()\n",
        "\n",
        "optimizer = optim.SGD(model.parameters(), lr=0.01)  # Adjust learning rate\n",
        "\n",
        "EPOCH = 1000\n",
        "for epoch in range(EPOCH + 1):\n",
        "\n",
        "    prediction = model(x_train)  # hypothesis -> prediction\n",
        "\n",
        "    cost = F.cross_entropy(prediction, y_train)  # 첫 번째 인자 hypothesis(z) -> prediction\n",
        "\n",
        "    optimizer.zero_grad()\n",
        "    cost.backward()\n",
        "    optimizer.step()\n",
        "\n",
        "    if epoch % 100 == 0:\n",
        "        print('Epoch {:4d}/{} Cost: {:.6f}'.format(\n",
        "            epoch, EPOCH, cost.item()\n",
        "        ))\n"
      ],
      "metadata": {
        "colab": {
          "base_uri": "https://localhost:8080/"
        },
        "id": "bQYGMdwQ8_tb",
        "outputId": "c3e858c3-9bd2-422b-d01f-1cdf7cd37d77"
      },
      "execution_count": null,
      "outputs": [
        {
          "output_type": "stream",
          "name": "stdout",
          "text": [
            "Epoch    0/1000 Cost: 1.429849\n",
            "Epoch  100/1000 Cost: 0.900312\n",
            "Epoch  200/1000 Cost: 0.727633\n",
            "Epoch  300/1000 Cost: 0.640392\n",
            "Epoch  400/1000 Cost: 0.582592\n",
            "Epoch  500/1000 Cost: 0.539040\n",
            "Epoch  600/1000 Cost: 0.504071\n",
            "Epoch  700/1000 Cost: 0.475004\n",
            "Epoch  800/1000 Cost: 0.450323\n",
            "Epoch  900/1000 Cost: 0.429054\n",
            "Epoch 1000/1000 Cost: 0.410512\n"
          ]
        }
      ]
    },
    {
      "cell_type": "markdown",
      "source": [
        "# 소프트맥스 회귀로 MNIST 데이터 분류하기\n",
        "\n",
        "- 28 x 28 = 784 픽셀. 각 이미지를 총 784개의 원소를 가지는 벡터로 만듦. 입력 이미지를 [batch_size x 784]의 크기로 reshape 수행.\n",
        "\n",
        "<br>\n",
        "\n",
        "---\n",
        "\n",
        "<br>\n",
        "\n",
        "### torchvision\n",
        "-> 유명 데이터셋들, 기 구현되어 있는 유명 모델들, 일반적인 이미지 전처리 도구들을 포함하는 패키지."
      ],
      "metadata": {
        "id": "AkBuTn7fvGeK"
      }
    },
    {
      "cell_type": "code",
      "source": [
        "import torch\n",
        "import torchvision.datasets as dsets\n",
        "import torchvision.transforms as transforms\n",
        "\n",
        "from torch.utils.data import DataLoader\n",
        "import torch.nn as nn\n",
        "import matplotlib.pyplot as plt\n",
        "import random"
      ],
      "metadata": {
        "id": "6nj77JTxwBue"
      },
      "execution_count": null,
      "outputs": []
    },
    {
      "cell_type": "code",
      "source": [
        "USE_CUDA = torch.cuda.is_available()\n",
        "device = torch.device(\"cuda\" if USE_CUDA else \"cpu\")\n",
        "print(device)"
      ],
      "metadata": {
        "colab": {
          "base_uri": "https://localhost:8080/"
        },
        "id": "S7CviR-ewMxJ",
        "outputId": "c4078409-4e4b-4358-f90b-b73475af4efa"
      },
      "execution_count": null,
      "outputs": [
        {
          "output_type": "stream",
          "name": "stdout",
          "text": [
            "cuda\n"
          ]
        }
      ]
    },
    {
      "cell_type": "code",
      "source": [
        "random.seed(777)\n",
        "torch.manual_seed(777)\n",
        "\n",
        "if device == 'cuda':\n",
        "    torch.cuda.manual_seed_all(777)"
      ],
      "metadata": {
        "id": "F2lLzKlZweln"
      },
      "execution_count": null,
      "outputs": []
    },
    {
      "cell_type": "code",
      "source": [
        "# Hyperparameters\n",
        "training_epochs = 15\n",
        "batch_size = 100"
      ],
      "metadata": {
        "id": "1z1yf6QOwxBS"
      },
      "execution_count": null,
      "outputs": []
    },
    {
      "cell_type": "code",
      "source": [
        "# MNIST dataset\n",
        "mnist_train = dsets.MNIST(root='MNIST_data/',\n",
        "                          train=True,\n",
        "                          transform=transforms.ToTensor(),\n",
        "                          download=True)\n",
        "\n",
        "mnist_test = dsets.MNIST(root='MNIST_data/',\n",
        "                         train=False, # False로 주면 테스트 데이터를 리턴받는다.\n",
        "                         transform=transforms.ToTensor(), # PyTorch 텐서로 변환해준다.\n",
        "                         download=True) # 해당 경로에 MNIST 데이터 미존재 시 다운로드 받는다."
      ],
      "metadata": {
        "id": "uPbbn41nw2RE"
      },
      "execution_count": null,
      "outputs": []
    },
    {
      "cell_type": "markdown",
      "source": [
        "### DataLoader 설정\n",
        "\n",
        "- shuffle : 매 epoch 마다 mini-batch를 섞을 것인지의 여부(학습 시에는 셔플하고, 검증 시에는 셔플 X)\n",
        "\n",
        "- drop_last : 마지막 batch를 버릴 것인지를 의미함.\n",
        "    - ex) 1,000개의 훈련 데이터가 있고, batch-size가 128일 때 7개로 분리하면 104개가 남음. 128개를 충족하지 못했으므로 104개를 그냥 drop 해준다는 의미이다.\n",
        "    - 이는 다른 mini-batch보다 개수가 적은 마지막 batch를 Gradient Descent에 사용하여 마지막 batch가 상대적으로 과대평가되는 현상을 방지한다."
      ],
      "metadata": {
        "id": "X8CwAB07xUIs"
      }
    },
    {
      "cell_type": "code",
      "source": [
        "# dataset loader\n",
        "data_loader = DataLoader(dataset = mnist_train,\n",
        "                         batch_size = batch_size,\n",
        "                         shuffle = True,\n",
        "                         drop_last = True)"
      ],
      "metadata": {
        "id": "GhwC8pCoxHc4"
      },
      "execution_count": null,
      "outputs": []
    },
    {
      "cell_type": "code",
      "source": [
        "# MNIST data image of shape = 28 x 28 = 784. Output 차원은 0 ~ 9 분류이므로 10.\n",
        "model = nn.Linear(784, 10, bias = True).to(device) # to() 메소드는 연산 수행환경을 정함. GPU 사용 시 to('cuda') 필수"
      ],
      "metadata": {
        "id": "uNaAf97OzFS4"
      },
      "execution_count": null,
      "outputs": []
    },
    {
      "cell_type": "code",
      "source": [
        "# cost function, optimizer 정의\n",
        "criterion = nn.CrossEntropyLoss().to(device) # 내부적으로 Softmax 함수 포함하고 있음에 유의\n",
        "optimizer = torch.optim.SGD(model.parameters(), lr = 0.1)"
      ],
      "metadata": {
        "id": "HJQZTsP_zdGP"
      },
      "execution_count": null,
      "outputs": []
    },
    {
      "cell_type": "code",
      "source": [
        "# 학습 진행\n",
        "for epoch in range(training_epochs):\n",
        "\n",
        "    avg_cost = 0 # init\n",
        "\n",
        "    total_batch = len(data_loader)\n",
        "\n",
        "    for X, Y in data_loader:\n",
        "\n",
        "        # batch size = 100이므로, X는 (100, 784)의 텐서가 됨.\n",
        "        X = X.view(-1, 28 * 28).to(device) # view를 통해 28 x 28 -> 784차원으로 변환\n",
        "\n",
        "        Y = Y.to(device)\n",
        "\n",
        "        optimizer.zero_grad()\n",
        "        hypothesis = model(X)\n",
        "\n",
        "        cost = criterion(hypothesis, Y)\n",
        "        cost.backward()\n",
        "\n",
        "        optimizer.step()\n",
        "\n",
        "        avg_cost += cost / total_batch # update\n",
        "\n",
        "    print('Epoch:', '%04d' % (epoch + 1), 'cost =', '{:.9f}'.format(avg_cost))\n",
        "\n",
        "print('Learning finished')"
      ],
      "metadata": {
        "colab": {
          "base_uri": "https://localhost:8080/"
        },
        "id": "L1g-5bC4zwBS",
        "outputId": "7c32ba97-6852-4470-c67a-f3e096a78d3d"
      },
      "execution_count": null,
      "outputs": [
        {
          "output_type": "stream",
          "name": "stdout",
          "text": [
            "Epoch: 0001 cost = 0.535150588\n",
            "Epoch: 0002 cost = 0.359577715\n",
            "Epoch: 0003 cost = 0.331264287\n",
            "Epoch: 0004 cost = 0.316404670\n",
            "Epoch: 0005 cost = 0.307106972\n",
            "Epoch: 0006 cost = 0.300456554\n",
            "Epoch: 0007 cost = 0.294933438\n",
            "Epoch: 0008 cost = 0.290956199\n",
            "Epoch: 0009 cost = 0.287074119\n",
            "Epoch: 0010 cost = 0.284515619\n",
            "Epoch: 0011 cost = 0.281914055\n",
            "Epoch: 0012 cost = 0.279526889\n",
            "Epoch: 0013 cost = 0.277636588\n",
            "Epoch: 0014 cost = 0.275874794\n",
            "Epoch: 0015 cost = 0.274422765\n",
            "Learning finished\n"
          ]
        }
      ]
    },
    {
      "cell_type": "code",
      "source": [
        "# 테스트 데이터를 사용하여 모델을 테스트한다.\n",
        "model.eval() # 평가 모드로 모델 전환\n",
        "\n",
        "with torch.no_grad(): # torch.no_grad()를 하면, gradient 계산을 수행하지 않는다.\n",
        "\n",
        "    X_test = mnist_test.test_data.view(-1, 28 * 28).float().to(device)\n",
        "    Y_test = mnist_test.test_labels.to(device)\n",
        "\n",
        "    prediction = model(X_test)\n",
        "\n",
        "    correct_prediction = torch.argmax(prediction, 1) == Y_test\n",
        "    accuracy = correct_prediction.float().mean()\n",
        "    print(\"Accuracy :\", accuracy.item())\n",
        "\n",
        "    # MNIST 테스트 데이터에서 무작위로 하나를 추출하여 예측 수행\n",
        "    r = random.randint(0, len(mnist_test) - 1)\n",
        "    X_random_picked_data = mnist_test.test_data[r : r + 1].view(-1, 28 * 28).float().to(device)\n",
        "    Y_random_picked_label = mnist_test.test_labels[r : r + 1].to(device)\n",
        "\n",
        "    print(\"Label(Answer) :\", Y_random_picked_label) # 정답 레이블\n",
        "    single_prediction = model(X_random_picked_data) # 예측 수행\n",
        "    print(\"Model Prediction :\", torch.argmax(single_prediction, 1).item())\n",
        "\n",
        "    plt.imshow(mnist_test.test_data[r : r + 1].view(28, 28), cmap = 'Greys', interpolation = 'nearest')\n",
        "    plt.show()"
      ],
      "metadata": {
        "colab": {
          "base_uri": "https://localhost:8080/",
          "height": 484
        },
        "id": "w5zguWOi1TG3",
        "outputId": "80b267bc-9bfb-4db9-89fc-d0e78629d4e8"
      },
      "execution_count": null,
      "outputs": [
        {
          "output_type": "stream",
          "name": "stdout",
          "text": [
            "Accuracy : 0.8883000016212463\n",
            "Label(Answer) : tensor([9], device='cuda:0')\n",
            "Model Prediction : 9\n"
          ]
        },
        {
          "output_type": "display_data",
          "data": {
            "text/plain": [
              "<Figure size 640x480 with 1 Axes>"
            ],
            "image/png": "[encoded data removed]"
          },
          "metadata": {}
        }
      ]
    },
    {
      "cell_type": "markdown",
      "source": [
        "### accuracy 산정 소스코드 QnA\n",
        "\n",
        "    correct_prediction = torch.argmax(prediction, 1) == Y_test\n",
        "    accuracy = correct_prediction.float().mean()\n",
        "    print(\"Accuracy :\", accuracy.item())\n",
        "\n",
        "1. torch.argmax(prediction, 1) <br>\n",
        "prediction은 모델의 예측 결과로, 일반적으로 각 클래스에 대한 확률값이 들어 있는 텐서입니다.\n",
        "torch.argmax(prediction, 1)은 prediction 텐서에서 가장 큰 값을 가지는 인덱스를 반환합니다.\n",
        "prediction의 형태가 (N, C)라고 가정하면, 여기서 N은 샘플의 수, C는 클래스의 수입니다.\n",
        "torch.argmax(prediction, 1)은 각 샘플에 대해 가장 높은 확률을 가진 클래스의 인덱스를 반환합니다.\n",
        "예를 들어, prediction이 [[0.1, 0.7, 0.2], [0.3, 0.4, 0.3]]이라면, torch.argmax(prediction, 1)은 [1, 1]을 반환합니다. 이는 첫 번째 샘플과 두 번째 샘플 모두 클래스 1로 예측되었음을 의미합니다.\n",
        "\n",
        "<br>\n",
        "\n",
        "2. torch.argmax(prediction, 1) == Y_test <br>\n",
        "Y_test는 실제 레이블이 들어 있는 텐서입니다.\n",
        "torch.argmax(prediction, 1) == Y_test는 모델의 예측 결과와 실제 레이블을 비교하여 일치 여부를 나타내는 불리언 텐서를 생성합니다.\n",
        "예를 들어, Y_test가 [1, 2]이고, torch.argmax(prediction, 1)이 [1, 1]이라면, 비교 결과는 [True, False]가 됩니다.\n",
        "이는 첫 번째 예측은 맞고, 두 번째 예측은 틀렸다는 것을 의미합니다.\n",
        "\n",
        "<br>\n",
        "\n",
        "3. correct_prediction.float() <br>\n",
        "correct_prediction은 불리언 텐서입니다(예: [True, False]).\n",
        ".float()는 이 불리언 값을 부동 소수점 숫자로 변환합니다.\n",
        "True는 1.0으로, False는 0.0으로 변환됩니다.\n",
        "따라서, [True, False]는 [1.0, 0.0]으로 변환됩니다.\n",
        "\n",
        "- accuracy = 숫자로 표현되어야 하기 때문에 float()로 캐스팅 필요\n",
        "\n",
        "<br>\n",
        "\n",
        "4. correct_prediction.float().mean() <br>\n",
        "변환된 부동 소수점 텐서의 평균을 계산합니다.\n",
        "correct_prediction.float().mean()는 예측이 맞은 샘플의 비율을 계산합니다.\n",
        "예를 들어, [1.0, 0.0]의 평균은 (1.0 + 0.0) / 2 = 0.5가 됩니다.\n",
        "이는 모델의 예측 정확도가 50%임을 의미합니다.\n",
        "\n",
        "<br>\n",
        "\n",
        "5. accuracy.item() <br>\n",
        ".item()은 단일 값 텐서를 파이썬의 숫자 값으로 변환합니다.\n",
        "여기서 accuracy는 평균 값을 가진 단일 값 텐서이므로, .item()을 사용하여 숫자 값으로 변환합니다."
      ],
      "metadata": {
        "id": "vIPMyrhS5oGz"
      }
    },
    {
      "cell_type": "markdown",
      "source": [
        "# 인공 신경망(Artificial Neural NetWork)\n",
        "\n",
        "- validation 데이터 : 모델의 성능 평가 용도가 아닌, 성능 조정 용도임. Overfitting 여부를 판단하거나, Hyperparameter 수정 필요 여부에 대해 알 수 있다.\n",
        "\n",
        "- training 데이터로 훈련을 모두 시킨 모델은, validation 데이터를 사용하여 정확도를 검증하며 하이퍼파라미터를 튜닝(tuning)한다.\n",
        "\n",
        "- 검증 종료 시, 테스트 데이터로 모델의 진짜 성능을 평가한다.\n",
        "\n",
        "- validation data와 test data를 나눌 만큼 데이터가 충분치 않다면, k-fold cross validation을 이용한다.\n",
        "\n",
        "- 비지도 학습 : 목적 데이터(레이블)이 없는 학습 방법으로, 군집(Clustering)이나 차원 축소(PCA, ...)와 같은 학습 방법들을 일컫는다.\n",
        "\n",
        "- 강화 학습 : 어떤 환경(Environment) 내에서 정의된 에이전트(Agent)가 현재의 상태를 인식하고, 선택 가능한 행동들 중 보상(Reward)을 최대화하는 행동 혹은 행동 순서를 선택하는 방법을 말한다.\n",
        "\n",
        "<br>\n",
        "\n",
        "---\n",
        "\n",
        "<br>\n",
        "\n",
        "### 혼동 행렬(Confusion Matrix)\n",
        "\n",
        "Accuracy 자체로는 맞춘 결과와 틀린 결과에 대한 세부내용을 알려주지 않는다. 이를 알기 위해 사용하는 것이 혼동 행렬이다.\n",
        "\n",
        "- 정밀도(precision) : 양성이라고 대답한 전체 케이스에 대한 TP의 비율.\n",
        "    - TP / (TP + FP)\n",
        "- 재현률(recall) : 실제값이 양성인 데이터의 전체 개수에 대한 TP의 비율. = 양성인 데이터 중에서 얼마나 양성인지를 재현(예측)했는지를 의미함.\n",
        "    - TP / (TP + FN)\n",
        "\n",
        "<br>\n",
        "\n",
        "---\n",
        "\n",
        "<br>\n",
        "\n",
        "### <Over / Under> fitting\n",
        "\n",
        "- 오버피팅 상황에서는 훈련 데이터에 대해서는 오차가 낮으나, 테스트 데이터에 대해서는 오차가 높아지는 현상이 발생한다. 테스트 데이터의 오차가 증가하기 전 or 정확도가 감소하기 전에 훈련을 종료하는 것(Early Stopping)이 바람직하다. 또는 Dropout 기법을 이용하여 오버피팅을 방지한다.\n",
        "\n",
        "- 언더피팅 : 테스트 데이터 예측성능이 올라갈 여지가 있음에도 훈련을 덜 수행하는 상황을 의미한다. 훈련 자체가 부족한 상태이므로 훈련 데이터에 대해서도 보통 정확도가 낮다는 특징이 있다.\n",
        "\n",
        "<br>\n",
        "\n",
        "---\n",
        "\n",
        "<br>\n",
        "\n",
        "### (Single Layer) Perceptron의 한계\n",
        "-> XOR 게이트를 구현할 수 없다. XOR은 입력값 두 개가 서로 다른 값을 갖고 있을 때에만 출력 값이 1이 된다. -> 비선형 영역으로 분리해서 구현해야 한다. -> MLP를 이용한다.\n",
        "\n",
        "### MultiLayer Perceptron(MLP)\n",
        "-> XOR 게이트를, 기존의 AND, NAND, OR 게이트를 조합하여 만든다. 퍼셉트론의 관점에서는 층을 더 쌓으면 만들 수 있게 된다.\n",
        "\n",
        "- 은닉층이 2개 이상인 신경망을 심층 신경망(Deep Neural Network)이라 명한다.\n",
        "\n",
        "- 머신러닝은, 학습 단계에서 가중치를 스스로 찾아내도록 자동화시켜야 한다. 손실 함수(loss function) 및 옵티마이저(optimizer)를 사용한다.\n",
        "\n",
        "### MLP로 XOR Problem 해결하기"
      ],
      "metadata": {
        "id": "4PfXDVNO6_0p"
      }
    },
    {
      "cell_type": "code",
      "source": [
        "import torch\n",
        "import torch.nn as nn\n",
        "\n",
        "device = 'cuda' if torch.cuda.is_available() else 'cpu'\n",
        "\n",
        "torch.manual_seed(777)\n",
        "if device == 'cuda':\n",
        "    torch.cuda.manual_seed_all(777)"
      ],
      "metadata": {
        "id": "4iDqoH_f4Unh"
      },
      "execution_count": null,
      "outputs": []
    },
    {
      "cell_type": "code",
      "source": [
        "X = torch.FloatTensor([[0, 0], [0, 1], [1, 0], [1, 1]]).to(device)\n",
        "y = torch.FloatTensor([[0], [1], [1], [0]]).to(device)"
      ],
      "metadata": {
        "id": "wbJqdtwaOrqb"
      },
      "execution_count": null,
      "outputs": []
    },
    {
      "cell_type": "code",
      "source": [
        "model = nn.Sequential(\n",
        "    nn.Linear(2, 10, bias = True),\n",
        "    nn.Sigmoid(),\n",
        "\n",
        "    nn.Linear(10, 10, bias = True),\n",
        "    nn.Sigmoid(),\n",
        "\n",
        "    nn.Linear(10, 10, bias = True),\n",
        "    nn.Sigmoid(),\n",
        "\n",
        "    nn.Linear(10, 1, bias = True),\n",
        "    nn.Sigmoid()).to(device)"
      ],
      "metadata": {
        "id": "R_mNph3QPIkA"
      },
      "execution_count": null,
      "outputs": []
    },
    {
      "cell_type": "code",
      "source": [
        "criterion = torch.nn.BCELoss().to(device)\n",
        "optimizer = torch.optim.SGD(model.parameters(), lr = 1)"
      ],
      "metadata": {
        "id": "kGNIXR4wQBTt"
      },
      "execution_count": null,
      "outputs": []
    },
    {
      "cell_type": "code",
      "source": [
        "EPOCH = 10000\n",
        "\n",
        "for epoch in range(EPOCH + 1):\n",
        "\n",
        "    optimizer.zero_grad()\n",
        "\n",
        "    # \"forward 연산\"\n",
        "    hypothesis = model(X)\n",
        "\n",
        "    # cost function 정의\n",
        "    cost = criterion(hypothesis, y)\n",
        "    # backwardpropagation 수행\n",
        "    cost.backward()\n",
        "    optimizer.step()\n",
        "\n",
        "    # 100의 배수에 해당되는 에포크마다 비용을 출력\n",
        "    if epoch % 100 == 0:\n",
        "        print(epoch, cost.item())"
      ],
      "metadata": {
        "colab": {
          "base_uri": "https://localhost:8080/"
        },
        "id": "XU9R5T4WQ69G",
        "outputId": "95e09a83-18cf-4dd6-c446-0f5236483dbe"
      },
      "execution_count": null,
      "outputs": [
        {
          "output_type": "stream",
          "name": "stdout",
          "text": [
            "0 0.7408947944641113\n",
            "100 0.6931389570236206\n",
            "200 0.6931374073028564\n",
            "300 0.6931357383728027\n",
            "400 0.6931341886520386\n",
            "500 0.6931324601173401\n",
            "600 0.693130612373352\n",
            "700 0.6931287050247192\n",
            "800 0.6931267380714417\n",
            "900 0.6931246519088745\n",
            "1000 0.6931224465370178\n",
            "1100 0.693120002746582\n",
            "1200 0.6931174993515015\n",
            "1300 0.6931147575378418\n",
            "1400 0.693111777305603\n",
            "1500 0.6931086182594299\n",
            "1600 0.693105161190033\n",
            "1700 0.6931012868881226\n",
            "1800 0.6930969953536987\n",
            "1900 0.6930923461914062\n",
            "2000 0.693087100982666\n",
            "2100 0.693081259727478\n",
            "2200 0.693074643611908\n",
            "2300 0.693067193031311\n",
            "2400 0.6930586099624634\n",
            "2500 0.6930487155914307\n",
            "2600 0.693037211894989\n",
            "2700 0.6930238008499146\n",
            "2800 0.6930078268051147\n",
            "2900 0.6929886937141418\n",
            "3000 0.6929654479026794\n",
            "3100 0.6929367780685425\n",
            "3200 0.6929006576538086\n",
            "3300 0.6928542852401733\n",
            "3400 0.6927931904792786\n",
            "3500 0.692710280418396\n",
            "3600 0.692592978477478\n",
            "3700 0.6924186944961548\n",
            "3800 0.6921423673629761\n",
            "3900 0.6916618347167969\n",
            "4000 0.6907041072845459\n",
            "4100 0.6883158087730408\n",
            "4200 0.6790611743927002\n",
            "4300 0.5542722344398499\n",
            "4400 0.02972596324980259\n",
            "4500 0.007717072032392025\n",
            "4600 0.004087917506694794\n",
            "4700 0.0027092061936855316\n",
            "4800 0.0020012895110994577\n",
            "4900 0.0015756789362058043\n",
            "5000 0.0012935677077621222\n",
            "5100 0.0010938148479908705\n",
            "5200 0.0009454327519051731\n",
            "5300 0.0008311194833368063\n",
            "5400 0.0007404994103126228\n",
            "5500 0.0006670353468507528\n",
            "5600 0.000606327666901052\n",
            "5700 0.0005553581286221743\n",
            "5800 0.0005120142013765872\n",
            "5900 0.0004747192142531276\n",
            "6000 0.0004422780475579202\n",
            "6100 0.00041384814539924264\n",
            "6200 0.00038875179598107934\n",
            "6300 0.0003664066316559911\n",
            "6400 0.0003463983302935958\n",
            "6500 0.0003283727273810655\n",
            "6600 0.000312103918986395\n",
            "6700 0.0002973015944007784\n",
            "6800 0.00028376199770718813\n",
            "6900 0.00027139601297676563\n",
            "7000 0.0002600126899778843\n",
            "7100 0.00024951400700956583\n",
            "7200 0.00023985025472939014\n",
            "7300 0.00023083144333213568\n",
            "7400 0.00022245198488235474\n",
            "7500 0.00021465009194798768\n",
            "7600 0.00020734049030579627\n",
            "7700 0.00020052804029546678\n",
            "7800 0.00019413369591347873\n",
            "7900 0.00018807733431458473\n",
            "8000 0.00018240348435938358\n",
            "8100 0.00017705446225591004\n",
            "8200 0.00017201514856424183\n",
            "8300 0.00016722890723031014\n",
            "8400 0.00016270102059934288\n",
            "8500 0.00015842309221625328\n",
            "8600 0.0001543103571748361\n",
            "8700 0.00015044442261569202\n",
            "8800 0.0001467299007344991\n",
            "8900 0.00014318949251901358\n",
            "9000 0.00013981857046019286\n",
            "9100 0.00013658107491210103\n",
            "9200 0.0001335328706772998\n",
            "9300 0.00013057909382041544\n",
            "9400 0.00012777623487636447\n",
            "9500 0.00012506070197559893\n",
            "9600 0.00012242898810654879\n",
            "9700 0.0001199373509734869\n",
            "9800 0.00011755309969885275\n",
            "9900 0.00011521459236973897\n",
            "10000 0.00011303801875328645\n"
          ]
        }
      ]
    },
    {
      "cell_type": "markdown",
      "source": [
        "**학습된 MLP의 예측값 확인하기**\n",
        "\n",
        "https://byeongjo-kim.tistory.com/32\n",
        "\n",
        "- detach() 메소드 : PyTorch는 Tensor에서 이루어진 모든 연산을 추적해서 기록해놓는다.(graph) 이 연산 기록으로부터 도함수가 계산되고, 역전파가 이뤄진다. 연산 기록으로부터 Tensor를 분리하여 리턴하는 메소드이다.\n",
        "\n",
        "- cpu() 메소드 : GPU(cuda) 메모리에 올려져 있는 Tensor를 CPU로 copy하는 메소드이다.\n",
        "\n",
        "- numpy() 메소드 : Tensor -> NumPy로 변환한다. 저장공간을 공유한다. GPU 사용 시, 먼저 cpu() 메소드로 CPU 메모리에 복사하여 올리고 numpy() 메소드를 사용해야 함."
      ],
      "metadata": {
        "id": "kToAKK1hR85Q"
      }
    },
    {
      "cell_type": "code",
      "source": [
        "with torch.no_grad(): # 그라디언트 업데이트 X.\n",
        "    hypothesis = model(X)\n",
        "\n",
        "    predicted = (hypothesis > 0.5).float()\n",
        "\n",
        "    accuracy = (predicted == y).float().mean()\n",
        "\n",
        "    print('모델의 출력값(Hypothesis) :', hypothesis.detach().cpu().numpy())\n",
        "\n",
        "    print('모델의 예측값(Predicted): ', predicted.detach().cpu().numpy())\n",
        "\n",
        "    print('실제값(Y): ', y.cpu().numpy())\n",
        "\n",
        "    print('정확도(Accuracy): ', accuracy.item())"
      ],
      "metadata": {
        "colab": {
          "base_uri": "https://localhost:8080/"
        },
        "id": "Prbxz5ZuRVk5",
        "outputId": "04b56dca-bc81-472e-a0da-0d841bcef642"
      },
      "execution_count": null,
      "outputs": [
        {
          "output_type": "stream",
          "name": "stdout",
          "text": [
            "모델의 출력값(Hypothesis) : [[6.8911293e-05]\n",
            " [9.9988151e-01]\n",
            " [9.9989223e-01]\n",
            " [1.5679191e-04]]\n",
            "모델의 예측값(Predicted):  [[0.]\n",
            " [1.]\n",
            " [1.]\n",
            " [0.]]\n",
            "실제값(Y):  [[0.]\n",
            " [1.]\n",
            " [1.]\n",
            " [0.]]\n",
            "정확도(Accuracy):  1.0\n"
          ]
        }
      ]
    },
    {
      "cell_type": "markdown",
      "source": [
        "### Activation Function\n",
        "\n",
        "- sigmoid : Hidden Layer에서 사용 시 Vanishing Gradient 문제 발생 가능.\n",
        "\n",
        "    + bias shift(편향 이동) : 원점 중심이 아닌 (0, 0.5)가 중심이다. + 항상 양수를 출력하기 때문에 **출력의 가중치 합이 입력의 가중치 합보다 커질 가능성**이 높다. 이를 편향 이동이라고 하며, 각 레이어를 지날 때마다 **분산이 계속 커지고 분산이 가장 높은 레이어에서는 활성화 함수의 출력이 0이나 1로 수렴**하게 되어 Vanishing Gradient 문제가 발생할 수 있다.\n",
        "\n",
        "- tanh : 마찬가지. sigmoid보다는 Vanishing Gradient가 적은 편임.\n",
        "\n",
        "- ReLU : Vanishing Gradient 해결책. 범용. 입력 값이 음수면 기울기가 항상 0이고, 해당 뉴런은 다시 회생하는 것이 매우 어렵다.(dying ReLU)\n",
        "\n",
        "- Softmax : 세 가지 이상의(상호 배타적) 선택지 중 하나를 고르는 다중 클래스 분류 문제에 주로 사용됨."
      ],
      "metadata": {
        "id": "qcc7fGH7UXiP"
      }
    },
    {
      "cell_type": "code",
      "source": [
        "import numpy as np\n",
        "import matplotlib.pyplot as plt"
      ],
      "metadata": {
        "id": "lQWJ5tH2URQW"
      },
      "execution_count": null,
      "outputs": []
    },
    {
      "cell_type": "code",
      "source": [
        "def sigmoid(x):\n",
        "    return 1 / (1 + np.exp(-x))\n",
        "\n",
        "x = np.arange(-5.0, 5.0, 0.1)\n",
        "y = sigmoid(x)\n",
        "\n",
        "plt.plot(x, y)\n",
        "plt.plot([0, 0], [1.0, 0.0], ':') # 가운데 점선 추가\n",
        "plt.title(\"Sigmoid\")\n",
        "plt.show()"
      ],
      "metadata": {
        "colab": {
          "base_uri": "https://localhost:8080/",
          "height": 452
        },
        "id": "VIxCJIHMZL0T",
        "outputId": "5e20cdfa-f40c-474a-d904-4852ae3fffa2"
      },
      "execution_count": null,
      "outputs": [
        {
          "output_type": "display_data",
          "data": {
            "text/plain": [
              "<Figure size 640x480 with 1 Axes>"
            ],
            "image/png": "[encoded data removed]"
          },
          "metadata": {}
        }
      ]
    },
    {
      "cell_type": "code",
      "source": [
        "y = np.tanh(x)\n",
        "\n",
        "plt.plot(x, y)\n",
        "plt.plot([0, 0], [1.0, -1.0], ':')\n",
        "plt.axhline(y = 0, color = 'orange', linestyle = '--')\n",
        "plt.title('Tanh')\n",
        "plt.show()"
      ],
      "metadata": {
        "colab": {
          "base_uri": "https://localhost:8080/",
          "height": 452
        },
        "id": "2cJ4zNV8Zpbc",
        "outputId": "f7423c36-6b1b-4b2d-ca35-d01926abacec"
      },
      "execution_count": null,
      "outputs": [
        {
          "output_type": "display_data",
          "data": {
            "text/plain": [
              "<Figure size 640x480 with 1 Axes>"
            ],
            "image/png": "[encoded data removed]"
          },
          "metadata": {}
        }
      ]
    },
    {
      "cell_type": "code",
      "source": [
        "def relu(x):\n",
        "    return np.maximum(0, x)\n",
        "\n",
        "y = relu(x)\n",
        "plt.plot(x, y)\n",
        "plt.plot([0, 0], [5.0, 0.0], ':')\n",
        "plt.title(\"ReLU\")\n",
        "plt.show()"
      ],
      "metadata": {
        "colab": {
          "base_uri": "https://localhost:8080/",
          "height": 452
        },
        "id": "vXrAALXca7q4",
        "outputId": "44cd020d-839a-42e8-a134-f88d11251983"
      },
      "execution_count": null,
      "outputs": [
        {
          "output_type": "display_data",
          "data": {
            "text/plain": [
              "<Figure size 640x480 with 1 Axes>"
            ],
            "image/png": "[encoded data removed]"
          },
          "metadata": {}
        }
      ]
    },
    {
      "cell_type": "code",
      "source": [
        "a = 0.05\n",
        "\n",
        "def leakyReLU(x):\n",
        "    return np.maximum(a * x, x)\n",
        "\n",
        "y = leakyReLU(x)\n",
        "\n",
        "plt.plot(x, y)\n",
        "plt.plot([0, 0], [5.0, 0.0], ':')\n",
        "plt.title(\"leakyReLU\")\n",
        "plt.show()"
      ],
      "metadata": {
        "colab": {
          "base_uri": "https://localhost:8080/",
          "height": 452
        },
        "id": "IAUaS4vWbS9z",
        "outputId": "843aaddd-c318-4b64-eff4-67c5855df604"
      },
      "execution_count": null,
      "outputs": [
        {
          "output_type": "display_data",
          "data": {
            "text/plain": [
              "<Figure size 640x480 with 1 Axes>"
            ],
            "image/png": "[encoded data removed]"
          },
          "metadata": {}
        }
      ]
    },
    {
      "cell_type": "code",
      "source": [
        "x = np.arange(-5.0, 5.0, 0.1)\n",
        "y = np.exp(x) / np.sum(np.exp(x))\n",
        "\n",
        "plt.plot(x, y)\n",
        "plt.title('Softmax')\n",
        "plt.show()\n",
        "\n",
        "# nn.CrossEntropyLoss() 는 자체적으로 Softmax Function을 포함하고 있음에 유의"
      ],
      "metadata": {
        "colab": {
          "base_uri": "https://localhost:8080/",
          "height": 452
        },
        "id": "LZrgOXeVbvE7",
        "outputId": "f1598e90-d90f-497d-d06f-9ad616b1016e"
      },
      "execution_count": null,
      "outputs": [
        {
          "output_type": "display_data",
          "data": {
            "text/plain": [
              "<Figure size 640x480 with 1 Axes>"
            ],
            "image/png": "[encoded data removed]"
          },
          "metadata": {}
        }
      ]
    },
    {
      "cell_type": "markdown",
      "source": [
        "### MLP로 손글씨 분류"
      ],
      "metadata": {
        "id": "yI2FxJ1KdwJv"
      }
    },
    {
      "cell_type": "code",
      "source": [
        "import matplotlib.pyplot as plt\n",
        "from sklearn.datasets import load_digits\n",
        "import torch\n",
        "import torch.nn as nn\n",
        "from torch import optim\n",
        "\n",
        "digits = load_digits() # sklearn 패키지 내 예제 데이터 1,797개"
      ],
      "metadata": {
        "id": "MNS5K-iucN90"
      },
      "execution_count": null,
      "outputs": []
    },
    {
      "cell_type": "code",
      "source": [
        "images_and_labels = list(zip(digits.images, digits.target)) # target == label\n",
        "\n",
        "for index, (image, label) in enumerate(images_and_labels[:5]):\n",
        "    plt.subplot(2, 5, index + 1)\n",
        "    plt.axis('off')\n",
        "    plt.imshow(image, cmap = plt.cm.gray_r, interpolation = 'nearest')\n",
        "    plt.title('sample : %i' % label)"
      ],
      "metadata": {
        "colab": {
          "base_uri": "https://localhost:8080/",
          "height": 144
        },
        "id": "jKqDxf3beEFD",
        "outputId": "020be4ab-01f4-4c60-caba-1667527e9b3d"
      },
      "execution_count": null,
      "outputs": [
        {
          "output_type": "display_data",
          "data": {
            "text/plain": [
              "<Figure size 640x480 with 5 Axes>"
            ],
            "image/png": "[encoded data removed]"
          },
          "metadata": {}
        }
      ]
    },
    {
      "cell_type": "code",
      "source": [
        "X = digits.data # 8 x 8 행렬을 모두 64차원의 벡터로 펴서 저장한 상태\n",
        "print(digits.data[0])\n",
        "Y = digits.target # 각 이미지에 대한 레이블"
      ],
      "metadata": {
        "colab": {
          "base_uri": "https://localhost:8080/"
        },
        "id": "LYW9L69beGjE",
        "outputId": "85d1637c-a415-44cc-e71f-36036de83d2c"
      },
      "execution_count": null,
      "outputs": [
        {
          "output_type": "stream",
          "name": "stdout",
          "text": [
            "[ 0.  0.  5. 13.  9.  1.  0.  0.  0.  0. 13. 15. 10. 15.  5.  0.  0.  3.\n",
            " 15.  2.  0. 11.  8.  0.  0.  4. 12.  0.  0.  8.  8.  0.  0.  5.  8.  0.\n",
            "  0.  9.  8.  0.  0.  4. 11.  0.  1. 12.  7.  0.  0.  2. 14.  5. 10. 12.\n",
            "  0.  0.  0.  0.  6. 13. 10.  0.  0.  0.]\n"
          ]
        }
      ]
    },
    {
      "cell_type": "code",
      "source": [
        "model = nn.Sequential(\n",
        "    nn.Linear(64, 32), # input_layer = 64(8 x 8 -> 64차원)\n",
        "    nn.ReLU(),\n",
        "    nn.Linear(32, 16),\n",
        "    nn.ReLU(),\n",
        "    nn.Linear(16, 10) # output_layer = 10(0 ~ 9)\n",
        ")"
      ],
      "metadata": {
        "id": "zfZVNQQvfEpp"
      },
      "execution_count": null,
      "outputs": []
    },
    {
      "cell_type": "code",
      "source": [
        "X = torch.tensor(X, dtype = torch.float32)\n",
        "Y = torch.tensor(Y, dtype = torch.int64)"
      ],
      "metadata": {
        "id": "puPnTqjRfmox"
      },
      "execution_count": null,
      "outputs": []
    },
    {
      "cell_type": "code",
      "source": [
        "cost_function = nn.CrossEntropyLoss() # contains Softmax Function"
      ],
      "metadata": {
        "id": "xv27VE7Kfs84"
      },
      "execution_count": null,
      "outputs": []
    },
    {
      "cell_type": "code",
      "source": [
        "optimizer = optim.Adam(model.parameters()) # SGD -> Adam 사용"
      ],
      "metadata": {
        "id": "uRSJh0GGfz-j"
      },
      "execution_count": null,
      "outputs": []
    },
    {
      "cell_type": "code",
      "source": [
        "cost_val = []\n",
        "\n",
        "EPOCH = 100\n",
        "for epoch in range(EPOCH + 1):\n",
        "    optimizer.zero_grad()\n",
        "    y_pred = model(X)\n",
        "\n",
        "    cost = cost_function(y_pred, Y)\n",
        "    cost.backward()\n",
        "    optimizer.step()\n",
        "\n",
        "    if epoch % 10 == 0:\n",
        "        print('Epoch {:4d}/{} Cost: {:.6f}'.format(\n",
        "            epoch, 100, cost.item()\n",
        "        ))\n",
        "\n",
        "    cost_val.append(cost.item())"
      ],
      "metadata": {
        "colab": {
          "base_uri": "https://localhost:8080/"
        },
        "id": "xOd7dZaQf48F",
        "outputId": "1c48a625-c20b-4c5a-bc68-d0df8906d02b"
      },
      "execution_count": null,
      "outputs": [
        {
          "output_type": "stream",
          "name": "stdout",
          "text": [
            "Epoch    0/100 Cost: 2.550436\n",
            "Epoch   10/100 Cost: 2.157184\n",
            "Epoch   20/100 Cost: 1.920802\n",
            "Epoch   30/100 Cost: 1.650819\n",
            "Epoch   40/100 Cost: 1.325176\n",
            "Epoch   50/100 Cost: 0.999877\n",
            "Epoch   60/100 Cost: 0.705609\n",
            "Epoch   70/100 Cost: 0.493799\n",
            "Epoch   80/100 Cost: 0.360084\n",
            "Epoch   90/100 Cost: 0.274733\n",
            "Epoch  100/100 Cost: 0.220315\n"
          ]
        }
      ]
    },
    {
      "cell_type": "code",
      "source": [
        "plt.xlabel('epoch')\n",
        "plt.ylabel('loss')\n",
        "plt.plot(cost_val)"
      ],
      "metadata": {
        "colab": {
          "base_uri": "https://localhost:8080/",
          "height": 467
        },
        "id": "s8VBsspjgTb3",
        "outputId": "f882c11a-f4fd-4c21-875e-4016d2e15698"
      },
      "execution_count": null,
      "outputs": [
        {
          "output_type": "execute_result",
          "data": {
            "text/plain": [
              "[<matplotlib.lines.Line2D at 0x7d37d14836d0>]"
            ]
          },
          "metadata": {},
          "execution_count": 46
        },
        {
          "output_type": "display_data",
          "data": {
            "text/plain": [
              "<Figure size 640x480 with 1 Axes>"
            ],
            "image/png": "[encoded data removed]"
          },
          "metadata": {}
        }
      ]
    },
    {
      "cell_type": "markdown",
      "source": [
        "### Overfitting 방지 방법\n",
        "\n",
        "1. 데이터 양 늘리기\n",
        "\n",
        "2. 모델의 복잡도 줄이기\n",
        "\n",
        "- 인공신경망에서는 모델에 있는 매개변수들의 수를 모델의 수용력(capacity)이라고도 부른다.\n",
        "\n",
        "3. 가중치 규제(Regularization) 적용\n",
        "- L1 규제 : 가중치 W들의 절댓값 합계를 비용 함수에 추가한다. L1-norm. 어떤 특성들이 모델에 영향을 주고 있는지를 정확히 판단하고자 할 때 유용하다.\n",
        "- L2 규제 : 모든 가중치 W들의 제곱합을 비용 함수에 추가한다. L2-norm. 일반적으로 L2 규제가 더 잘 동작하므로 권장되며 \"weight decay\"라고도 부른다.\n",
        "\n",
        "4. Dropout : 신경망 학습 시에만 사용하고, 예측 시에는 사용하지 않는 것이 일반적이다. 매번 랜덤 선택으로 뉴런을 <사용/사용안함> 결정하여 서로 다른 신경망들을 앙상블하여 사용하는 것과 같은 효과를 내어 과적합을 방지한다.\n",
        "\n",
        "\n",
        "### 기울기 소실/폭주(Exploding) 방지 방법\n",
        "\n",
        "1. ReLU 및 LeakyReLU 사용\n",
        "\n",
        "2. 가중치 초기화 기법 사용\n",
        "    - 2-1. Xavier Initialization : sigmoid 또는 tanh와 같은 S자 형태인 활성화 함수와 함께 사용 시 좋은 성능을 보이나, ReLU와 함께 사용 시에는 성능이 좋지 않다.\n",
        "    - 2-2. He Initialization : ReLU 계열 함수를 사용 시 사용하는 기법이며 2-1 보다 보편적으로 사용된다.\n",
        "\n",
        "3. Batch Normalization : MLP의 각 층에 들어가는 input을 평균과 분산으로 정규화, 효율적인 학습을 돕는다.\n",
        "\n",
        "- 내부 공변량 변화(Internal Covariate Shift) : 학습과정에서 각 층별로 입력 데이터 분포가 달라지는 현상을 말한다. 이전 층들의 학습에 의해 이전 층의 가중치 값이 바뀌면, 현재 층에 전달되는 입력 데이터의 분포가 현재 층이 학습했던 시점의 분포와 차이가 발생한다. BN 논문에서는 기울기 소실/폭주 등의 딥러닝 모델 불안정성이 층마다 입력의 분포가 달라지기 때문이라고 주장한다.\n",
        "\n",
        "- 배치 정규화는 각 층에서 활성화 함수 통과 전 수행된다. 입력에 대해 평균을 0으로 만들고(Z-score), 정규화를 수행한다. 학습 시 배치 단위의 <평균, 분산>을 받아 이동평균과 이동분산을 저장 후 테스트 시 해당 배치의 평균과 분산을 구하지 않고 구해놓았던 평균과 분산으로 정규화를 수행한다.\n",
        "    - sigmoid나 tanh를 사용하더라도 기울기 소실 문제가 크게 개선된다.\n",
        "    - 가중치 초기화에 훨씬 덜 민감해진다.\n",
        "    - 훨씬 큰 학습률을 사용할 수 있어, 학습 속도를 개선시킬 수 있다.\n",
        "    - 단점 : 모델을 복잡하게 하며, 추가계산이 소요되므로 테스트 데이터에 대한 예측 시 실행 시간이 느려질 수 있다. 서비스 속도 고려 시 BN이 필요한지 고민해야 함. / 미니 배치 크기에 의존적이며 RNN에 적용하기 어려움.\n",
        "\n",
        "4. Layer Normalization : 층 정규화. RNN에 적용하는 것이 수월하다.\n",
        "\n",
        "![스크린샷 2024-07-29 오후 10 14 25](https://github.com/user-attachments/assets/e80861ad-fa50-4b10-a972-9dfde9a990fa)"
      ],
      "metadata": {
        "id": "ZNS6G_y8i_dS"
      }
    }
  ]
}